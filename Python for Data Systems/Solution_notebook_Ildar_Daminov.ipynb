{
 "cells": [
  {
   "cell_type": "markdown",
   "metadata": {
    "id": "Gc8x8QimJY_H"
   },
   "source": [
    "# Project Python Foundations: FoodHub Data Analysis\n",
    "\n",
    "**Marks: 60**"
   ]
  },
  {
   "cell_type": "markdown",
   "metadata": {
    "id": "NqikjkWwJY_L"
   },
   "source": [
    "### Context\n",
    "\n",
    "The number of restaurants in New York is increasing day by day. Lots of students and busy professionals rely on those restaurants due to their hectic lifestyles. Online food delivery service is a great option for them. It provides them with good food from their favorite restaurants. A food aggregator company FoodHub offers access to multiple restaurants through a single smartphone app.\n",
    "\n",
    "The app allows the restaurants to receive a direct online order from a customer. The app assigns a delivery person from the company to pick up the order after it is confirmed by the restaurant. The delivery person then uses the map to reach the restaurant and waits for the food package. Once the food package is handed over to the delivery person, he/she confirms the pick-up in the app and travels to the customer's location to deliver the food. The delivery person confirms the drop-off in the app after delivering the food package to the customer. The customer can rate the order in the app. The food aggregator earns money by collecting a fixed margin of the delivery order from the restaurants.\n",
    "\n",
    "### Objective\n",
    "\n",
    "The food aggregator company has stored the data of the different orders made by the registered customers in their online portal. They want to analyze the data to get a fair idea about the demand of different restaurants which will help them in enhancing their customer experience. Suppose you are hired as a Data Scientist in this company and the Data Science team has shared some of the key questions that need to be answered. Perform the data analysis to find answers to these questions that will help the company to improve the business. \n",
    "\n",
    "### Data Description\n",
    "\n",
    "The data contains the different data related to a food order. The detailed data dictionary is given below.\n",
    "\n",
    "### Data Dictionary\n",
    "\n",
    "* order_id: Unique ID of the order\n",
    "* customer_id: ID of the customer who ordered the food\n",
    "* restaurant_name: Name of the restaurant\n",
    "* cuisine_type: Cuisine ordered by the customer\n",
    "* cost: Cost of the order\n",
    "* day_of_the_week: Indicates whether the order is placed on a weekday or weekend (The weekday is from Monday to Friday and the weekend is Saturday and Sunday)\n",
    "* rating: Rating given by the customer out of 5\n",
    "* food_preparation_time: Time (in minutes) taken by the restaurant to prepare the food. This is calculated by taking the difference between the timestamps of the restaurant's order confirmation and the delivery person's pick-up confirmation.\n",
    "* delivery_time: Time (in minutes) taken by the delivery person to deliver the food package. This is calculated by taking the difference between the timestamps of the delivery person's pick-up confirmation and drop-off information"
   ]
  },
  {
   "cell_type": "markdown",
   "metadata": {
    "id": "cEtNUxNAJY_M"
   },
   "source": [
    "### Let us start by importing the required libraries"
   ]
  },
  {
   "cell_type": "code",
   "execution_count": 1,
   "metadata": {
    "id": "u6PlpJAPJY_N"
   },
   "outputs": [],
   "source": [
    "# import libraries for data manipulation\n",
    "import numpy as np\n",
    "import pandas as pd\n",
    "\n",
    "# import libraries for data visualization\n",
    "import matplotlib.pyplot as plt\n",
    "import seaborn as sns\n",
    "\n",
    "# Import libraries for data processing\n",
    "import difflib\n",
    "import networkx as nx\n",
    "import matplotlib"
   ]
  },
  {
   "cell_type": "markdown",
   "metadata": {
    "id": "AdracY0HJY_O"
   },
   "source": [
    "### Understanding the structure of the data"
   ]
  },
  {
   "cell_type": "code",
   "execution_count": 2,
   "metadata": {
    "id": "GF01IZDbJY_O",
    "scrolled": true
   },
   "outputs": [
    {
     "data": {
      "text/html": [
       "<div>\n",
       "<style scoped>\n",
       "    .dataframe tbody tr th:only-of-type {\n",
       "        vertical-align: middle;\n",
       "    }\n",
       "\n",
       "    .dataframe tbody tr th {\n",
       "        vertical-align: top;\n",
       "    }\n",
       "\n",
       "    .dataframe thead th {\n",
       "        text-align: right;\n",
       "    }\n",
       "</style>\n",
       "<table border=\"1\" class=\"dataframe\">\n",
       "  <thead>\n",
       "    <tr style=\"text-align: right;\">\n",
       "      <th></th>\n",
       "      <th>order_id</th>\n",
       "      <th>customer_id</th>\n",
       "      <th>restaurant_name</th>\n",
       "      <th>cuisine_type</th>\n",
       "      <th>cost_of_the_order</th>\n",
       "      <th>day_of_the_week</th>\n",
       "      <th>rating</th>\n",
       "      <th>food_preparation_time</th>\n",
       "      <th>delivery_time</th>\n",
       "    </tr>\n",
       "  </thead>\n",
       "  <tbody>\n",
       "    <tr>\n",
       "      <th>0</th>\n",
       "      <td>1477147</td>\n",
       "      <td>337525</td>\n",
       "      <td>Hangawi</td>\n",
       "      <td>Korean</td>\n",
       "      <td>30.75</td>\n",
       "      <td>Weekend</td>\n",
       "      <td>Not given</td>\n",
       "      <td>25</td>\n",
       "      <td>20</td>\n",
       "    </tr>\n",
       "    <tr>\n",
       "      <th>1</th>\n",
       "      <td>1477685</td>\n",
       "      <td>358141</td>\n",
       "      <td>Blue Ribbon Sushi Izakaya</td>\n",
       "      <td>Japanese</td>\n",
       "      <td>12.08</td>\n",
       "      <td>Weekend</td>\n",
       "      <td>Not given</td>\n",
       "      <td>25</td>\n",
       "      <td>23</td>\n",
       "    </tr>\n",
       "    <tr>\n",
       "      <th>2</th>\n",
       "      <td>1477070</td>\n",
       "      <td>66393</td>\n",
       "      <td>Cafe Habana</td>\n",
       "      <td>Mexican</td>\n",
       "      <td>12.23</td>\n",
       "      <td>Weekday</td>\n",
       "      <td>5</td>\n",
       "      <td>23</td>\n",
       "      <td>28</td>\n",
       "    </tr>\n",
       "    <tr>\n",
       "      <th>3</th>\n",
       "      <td>1477334</td>\n",
       "      <td>106968</td>\n",
       "      <td>Blue Ribbon Fried Chicken</td>\n",
       "      <td>American</td>\n",
       "      <td>29.20</td>\n",
       "      <td>Weekend</td>\n",
       "      <td>3</td>\n",
       "      <td>25</td>\n",
       "      <td>15</td>\n",
       "    </tr>\n",
       "    <tr>\n",
       "      <th>4</th>\n",
       "      <td>1478249</td>\n",
       "      <td>76942</td>\n",
       "      <td>Dirty Bird to Go</td>\n",
       "      <td>American</td>\n",
       "      <td>11.59</td>\n",
       "      <td>Weekday</td>\n",
       "      <td>4</td>\n",
       "      <td>25</td>\n",
       "      <td>24</td>\n",
       "    </tr>\n",
       "  </tbody>\n",
       "</table>\n",
       "</div>"
      ],
      "text/plain": [
       "   order_id  customer_id            restaurant_name cuisine_type  \\\n",
       "0   1477147       337525                    Hangawi       Korean   \n",
       "1   1477685       358141  Blue Ribbon Sushi Izakaya     Japanese   \n",
       "2   1477070        66393                Cafe Habana      Mexican   \n",
       "3   1477334       106968  Blue Ribbon Fried Chicken     American   \n",
       "4   1478249        76942           Dirty Bird to Go     American   \n",
       "\n",
       "   cost_of_the_order day_of_the_week     rating  food_preparation_time  \\\n",
       "0              30.75         Weekend  Not given                     25   \n",
       "1              12.08         Weekend  Not given                     25   \n",
       "2              12.23         Weekday          5                     23   \n",
       "3              29.20         Weekend          3                     25   \n",
       "4              11.59         Weekday          4                     25   \n",
       "\n",
       "   delivery_time  \n",
       "0             20  \n",
       "1             23  \n",
       "2             28  \n",
       "3             15  \n",
       "4             24  "
      ]
     },
     "execution_count": 2,
     "metadata": {},
     "output_type": "execute_result"
    }
   ],
   "source": [
    "# read the data\n",
    "df = pd.read_csv('foodhub_order.csv')\n",
    "\n",
    "# returns the first 5 rows\n",
    "df.head()"
   ]
  },
  {
   "cell_type": "markdown",
   "metadata": {
    "id": "J_Y9aJDJJY_P"
   },
   "source": [
    "#### Observations:\n",
    "\n",
    "The DataFrame has 9 columns as mentioned in the Data Dictionary. Data in each row corresponds to the order placed by a customer."
   ]
  },
  {
   "cell_type": "markdown",
   "metadata": {
    "id": "c3kenV4vJY_Q"
   },
   "source": [
    "### **Question 1:** How many rows and columns are present in the data? [0.5 mark]"
   ]
  },
  {
   "cell_type": "code",
   "execution_count": 3,
   "metadata": {
    "id": "Yvz5i-PhJY_Q"
   },
   "outputs": [
    {
     "name": "stdout",
     "output_type": "stream",
     "text": [
      " The df has 1898 rows and 9 columns\n"
     ]
    }
   ],
   "source": [
    "# Using df.shape to understand the number of rows and columns \n",
    "print( ' The df has', df.shape[0], 'rows and',df.shape[1], 'columns')"
   ]
  },
  {
   "cell_type": "markdown",
   "metadata": {
    "id": "UsTNy3unJY_R"
   },
   "source": [
    "#### Observations:\n",
    "1. This given dataset has 1898 rows and 9 columns"
   ]
  },
  {
   "cell_type": "markdown",
   "metadata": {
    "id": "jRXakVrUJY_R"
   },
   "source": [
    "### **Question 2:** What are the datatypes of the different columns in the dataset? (The info() function can be used) [0.5 mark]"
   ]
  },
  {
   "cell_type": "code",
   "execution_count": 4,
   "metadata": {
    "id": "Kp70Z0BNJY_R"
   },
   "outputs": [
    {
     "name": "stdout",
     "output_type": "stream",
     "text": [
      "<class 'pandas.core.frame.DataFrame'>\n",
      "RangeIndex: 1898 entries, 0 to 1897\n",
      "Data columns (total 9 columns):\n",
      " #   Column                 Non-Null Count  Dtype  \n",
      "---  ------                 --------------  -----  \n",
      " 0   order_id               1898 non-null   int64  \n",
      " 1   customer_id            1898 non-null   int64  \n",
      " 2   restaurant_name        1898 non-null   object \n",
      " 3   cuisine_type           1898 non-null   object \n",
      " 4   cost_of_the_order      1898 non-null   float64\n",
      " 5   day_of_the_week        1898 non-null   object \n",
      " 6   rating                 1898 non-null   object \n",
      " 7   food_preparation_time  1898 non-null   int64  \n",
      " 8   delivery_time          1898 non-null   int64  \n",
      "dtypes: float64(1), int64(4), object(4)\n",
      "memory usage: 133.6+ KB\n"
     ]
    }
   ],
   "source": [
    "# Using the df.info() to print a concise summary of the DataFrame\n",
    "df.info()"
   ]
  },
  {
   "cell_type": "markdown",
   "metadata": {
    "id": "WJes5GP2JY_S"
   },
   "source": [
    "#### Observations:\n",
    "1. The initial dataset has 1 float column, 4 columns with integer values and 4 columns with string values\n",
    "<br> \n",
    "2. Each column has 1898 non-null values which preliminary testifies that that there are no missing rows (Still some erroneous data may be present. Additional check is needed)\n",
    "<br> \n",
    "3. As a rating represents a number, it is expected that Dtype of this column should be int or float. However, Rating column is actually an object (i.e. string). It seems that this is because that some ratings are assigned as a string \"Not given\"*. Therefore, the entire column turns into object (string). Converting to numeric values would be possibly needed. \n",
    "\n",
    " *The check with \"df['rating'].unique() confirms\" that Not given causes turning the Dtype into object (no other string exist in this column which may cause Dtype be an object for 'rating' column). \n",
    " "
   ]
  },
  {
   "cell_type": "code",
   "execution_count": 5,
   "metadata": {},
   "outputs": [
    {
     "data": {
      "text/plain": [
       "array(['Not given', '5', '3', '4'], dtype=object)"
      ]
     },
     "execution_count": 5,
     "metadata": {},
     "output_type": "execute_result"
    }
   ],
   "source": [
    "# Checking the unique valus of ratings to understand why Dtype has an object type\n",
    "df['rating'].unique() "
   ]
  },
  {
   "cell_type": "markdown",
   "metadata": {
    "id": "pF_92MN6JY_S"
   },
   "source": [
    "### **Question 3:** Are there any missing values in the data? If yes, treat them using an appropriate method. [1 mark]"
   ]
  },
  {
   "cell_type": "code",
   "execution_count": 6,
   "metadata": {
    "id": "Zth-RR1PJY_S"
   },
   "outputs": [
    {
     "name": "stdout",
     "output_type": "stream",
     "text": [
      "order_id                 0\n",
      "customer_id              0\n",
      "restaurant_name          0\n",
      "cuisine_type             0\n",
      "cost_of_the_order        0\n",
      "day_of_the_week          0\n",
      "rating                   0\n",
      "food_preparation_time    0\n",
      "delivery_time            0\n",
      "dtype: int64\n"
     ]
    }
   ],
   "source": [
    "# Checking the missing rows\n",
    "print(df.isnull().sum())"
   ]
  },
  {
   "cell_type": "markdown",
   "metadata": {},
   "source": [
    "#### Observations:\n",
    "\n",
    "1. df does not have the missing rows. However, if we would consider \"Not_given\" in the rating column as a missing value then we may change 'Not_given' into NaN values by using following code:"
   ]
  },
  {
   "cell_type": "code",
   "execution_count": 7,
   "metadata": {},
   "outputs": [
    {
     "data": {
      "text/plain": [
       "0       NaN\n",
       "1       NaN\n",
       "2       5.0\n",
       "3       3.0\n",
       "4       4.0\n",
       "       ... \n",
       "1893    5.0\n",
       "1894    5.0\n",
       "1895    NaN\n",
       "1896    5.0\n",
       "1897    NaN\n",
       "Name: rating, Length: 1898, dtype: float64"
      ]
     },
     "execution_count": 7,
     "metadata": {},
     "output_type": "execute_result"
    }
   ],
   "source": [
    "# Replace the Not given by NaN\n",
    "rating_new=df['rating'].replace(['Not given'],np.nan)\n",
    "\n",
    "# Change the type from string to float. Otherwise, '5','4' and '3' remain strings\n",
    "rating_new=rating_new.astype(float)\n",
    "\n",
    "# Show the rating_new\n",
    "rating_new"
   ]
  },
  {
   "cell_type": "markdown",
   "metadata": {
    "id": "jDHT3vD1JY_S"
   },
   "source": [
    "#### Observations:\n",
    "1. In previous section, df.info() showed that there are no missing rows (all columns have 1898 rows). However, the rating column contains the \"Not_given\" values which may be considered as missing value (because we cannot understand how the customer evaluates the food received). But not giving the rating (i.e. having a Not_given string) can be also considered as a very relevant data depending on the what question would be posed later. For instance, if later  we would need to evaluate how often customer provides any rating then not_given values surely are not missing values."
   ]
  },
  {
   "cell_type": "markdown",
   "metadata": {
    "id": "MnJo7MWrJY_S"
   },
   "source": [
    "### **Question 4:** Check the statistical summary of the data. What is the minimum, average, and maximum time it takes for food to be prepared once an order is placed? [2 marks]"
   ]
  },
  {
   "cell_type": "code",
   "execution_count": 8,
   "metadata": {
    "id": "WprQBgOSJY_T"
   },
   "outputs": [
    {
     "data": {
      "text/html": [
       "<div>\n",
       "<style scoped>\n",
       "    .dataframe tbody tr th:only-of-type {\n",
       "        vertical-align: middle;\n",
       "    }\n",
       "\n",
       "    .dataframe tbody tr th {\n",
       "        vertical-align: top;\n",
       "    }\n",
       "\n",
       "    .dataframe thead th {\n",
       "        text-align: right;\n",
       "    }\n",
       "</style>\n",
       "<table border=\"1\" class=\"dataframe\">\n",
       "  <thead>\n",
       "    <tr style=\"text-align: right;\">\n",
       "      <th></th>\n",
       "      <th>order_id</th>\n",
       "      <th>customer_id</th>\n",
       "      <th>cost_of_the_order</th>\n",
       "      <th>food_preparation_time</th>\n",
       "      <th>delivery_time</th>\n",
       "    </tr>\n",
       "  </thead>\n",
       "  <tbody>\n",
       "    <tr>\n",
       "      <th>count</th>\n",
       "      <td>1.898000e+03</td>\n",
       "      <td>1898.000000</td>\n",
       "      <td>1898.000000</td>\n",
       "      <td>1898.000000</td>\n",
       "      <td>1898.000000</td>\n",
       "    </tr>\n",
       "    <tr>\n",
       "      <th>mean</th>\n",
       "      <td>1.477496e+06</td>\n",
       "      <td>171168.478398</td>\n",
       "      <td>16.498851</td>\n",
       "      <td>27.371970</td>\n",
       "      <td>24.161749</td>\n",
       "    </tr>\n",
       "    <tr>\n",
       "      <th>std</th>\n",
       "      <td>5.480497e+02</td>\n",
       "      <td>113698.139743</td>\n",
       "      <td>7.483812</td>\n",
       "      <td>4.632481</td>\n",
       "      <td>4.972637</td>\n",
       "    </tr>\n",
       "    <tr>\n",
       "      <th>min</th>\n",
       "      <td>1.476547e+06</td>\n",
       "      <td>1311.000000</td>\n",
       "      <td>4.470000</td>\n",
       "      <td>20.000000</td>\n",
       "      <td>15.000000</td>\n",
       "    </tr>\n",
       "    <tr>\n",
       "      <th>25%</th>\n",
       "      <td>1.477021e+06</td>\n",
       "      <td>77787.750000</td>\n",
       "      <td>12.080000</td>\n",
       "      <td>23.000000</td>\n",
       "      <td>20.000000</td>\n",
       "    </tr>\n",
       "    <tr>\n",
       "      <th>50%</th>\n",
       "      <td>1.477496e+06</td>\n",
       "      <td>128600.000000</td>\n",
       "      <td>14.140000</td>\n",
       "      <td>27.000000</td>\n",
       "      <td>25.000000</td>\n",
       "    </tr>\n",
       "    <tr>\n",
       "      <th>75%</th>\n",
       "      <td>1.477970e+06</td>\n",
       "      <td>270525.000000</td>\n",
       "      <td>22.297500</td>\n",
       "      <td>31.000000</td>\n",
       "      <td>28.000000</td>\n",
       "    </tr>\n",
       "    <tr>\n",
       "      <th>max</th>\n",
       "      <td>1.478444e+06</td>\n",
       "      <td>405334.000000</td>\n",
       "      <td>35.410000</td>\n",
       "      <td>35.000000</td>\n",
       "      <td>33.000000</td>\n",
       "    </tr>\n",
       "  </tbody>\n",
       "</table>\n",
       "</div>"
      ],
      "text/plain": [
       "           order_id    customer_id  cost_of_the_order  food_preparation_time  \\\n",
       "count  1.898000e+03    1898.000000        1898.000000            1898.000000   \n",
       "mean   1.477496e+06  171168.478398          16.498851              27.371970   \n",
       "std    5.480497e+02  113698.139743           7.483812               4.632481   \n",
       "min    1.476547e+06    1311.000000           4.470000              20.000000   \n",
       "25%    1.477021e+06   77787.750000          12.080000              23.000000   \n",
       "50%    1.477496e+06  128600.000000          14.140000              27.000000   \n",
       "75%    1.477970e+06  270525.000000          22.297500              31.000000   \n",
       "max    1.478444e+06  405334.000000          35.410000              35.000000   \n",
       "\n",
       "       delivery_time  \n",
       "count    1898.000000  \n",
       "mean       24.161749  \n",
       "std         4.972637  \n",
       "min        15.000000  \n",
       "25%        20.000000  \n",
       "50%        25.000000  \n",
       "75%        28.000000  \n",
       "max        33.000000  "
      ]
     },
     "execution_count": 8,
     "metadata": {},
     "output_type": "execute_result"
    }
   ],
   "source": [
    "# Using describe() to get the summary for numerical columns \n",
    "df.describe()"
   ]
  },
  {
   "cell_type": "markdown",
   "metadata": {
    "id": "9YbSOR5wJY_T"
   },
   "source": [
    "#### Observations:\n",
    "1. It takes 27 minutes in average to prepare a food. The minimal time is 20 minutes. The maximum is 35 minutes. There are no outliers or unusually-high or low values for food_preparation_time \n",
    "<br> \n",
    "2. In the table above, there is no much useful information for order_id and customer_id as they represent only id numbers.If an id would bear any semantic sense then probably it would be helpful. But in this particular case, it does not\n",
    "<br> \n",
    "3. There are no outliers or unusually-high or low values for cost_of_the_order\n",
    "<br> \n",
    "4. There are no outliers or unusually-high or low values for ratings (checked with rating_new.describe() ) \n",
    "<br> \n",
    "5. Similarly, there are no outliers or unusually-high or low values for delivery time"
   ]
  },
  {
   "cell_type": "code",
   "execution_count": 9,
   "metadata": {},
   "outputs": [
    {
     "data": {
      "text/plain": [
       "count    1162.000000\n",
       "mean        4.344234\n",
       "std         0.741478\n",
       "min         3.000000\n",
       "25%         4.000000\n",
       "50%         5.000000\n",
       "75%         5.000000\n",
       "max         5.000000\n",
       "Name: rating, dtype: float64"
      ]
     },
     "execution_count": 9,
     "metadata": {},
     "output_type": "execute_result"
    }
   ],
   "source": [
    "# Checking the statisitcs for ratings (without Not_given values)\n",
    "rating_new.describe()"
   ]
  },
  {
   "cell_type": "markdown",
   "metadata": {
    "id": "cw3l58z_JY_T"
   },
   "source": [
    "### **Question 5:** How many orders are not rated? [1 mark]"
   ]
  },
  {
   "cell_type": "code",
   "execution_count": 10,
   "metadata": {
    "id": "hEzDUL9wgksi"
   },
   "outputs": [
    {
     "data": {
      "text/plain": [
       "Not given    736\n",
       "5            588\n",
       "4            386\n",
       "3            188\n",
       "Name: rating, dtype: int64"
      ]
     },
     "execution_count": 10,
     "metadata": {},
     "output_type": "execute_result"
    }
   ],
   "source": [
    "# Checking quantity of each unique rating \n",
    "df['rating'].value_counts()"
   ]
  },
  {
   "cell_type": "markdown",
   "metadata": {
    "id": "5E0O_oviJY_T"
   },
   "source": [
    "#### Observations:\n",
    "1. 736 orders do not have ratings"
   ]
  },
  {
   "cell_type": "markdown",
   "metadata": {
    "id": "7msIfXE-JY_T"
   },
   "source": [
    "### Exploratory Data Analysis (EDA)"
   ]
  },
  {
   "cell_type": "markdown",
   "metadata": {
    "id": "-2xfI28YJY_T"
   },
   "source": [
    "### Univariate Analysis"
   ]
  },
  {
   "cell_type": "markdown",
   "metadata": {
    "id": "0RHZnugBJY_U"
   },
   "source": [
    "### **Question 6:** Explore all the variables and provide observations on their distributions. (Generally, histograms, boxplots, countplots, etc. are used for univariate exploration.) [9 marks]"
   ]
  },
  {
   "cell_type": "code",
   "execution_count": 11,
   "metadata": {},
   "outputs": [
    {
     "name": "stdout",
     "output_type": "stream",
     "text": [
      "Index(['order_id', 'customer_id', 'restaurant_name', 'cuisine_type',\n",
      "       'cost_of_the_order', 'day_of_the_week', 'rating',\n",
      "       'food_preparation_time', 'delivery_time'],\n",
      "      dtype='object')\n",
      "\n",
      "Number of all variables in df is  9\n"
     ]
    }
   ],
   "source": [
    "# Show the variables\n",
    "print(df.columns)\n",
    "print('') # empty row between two prints\n",
    "print('Number of all variables in df is ',len(df.columns))"
   ]
  },
  {
   "cell_type": "markdown",
   "metadata": {},
   "source": [
    "#### Observations:\n",
    "1. There are 9 variables in the dataframe. Let us explore them all one by one"
   ]
  },
  {
   "cell_type": "markdown",
   "metadata": {},
   "source": [
    "#### Exploring the order_id"
   ]
  },
  {
   "cell_type": "code",
   "execution_count": 12,
   "metadata": {},
   "outputs": [
    {
     "name": "stdout",
     "output_type": "stream",
     "text": [
      "Number of rows in df is 1898\n",
      "Number of unique orders is 1898\n"
     ]
    }
   ],
   "source": [
    "# As order_id does not bear any useful information. Let us simply check if there are any duplicates in the column. \n",
    "# Normally, we should not find any duplicates as each order should be unique. So, the number of unique values should be equal to \n",
    "# number of rows in dataset \n",
    "\n",
    "print('Number of rows in df is', df.shape[0])\n",
    "print('Number of unique orders is',len(df['order_id'].unique()))"
   ]
  },
  {
   "cell_type": "markdown",
   "metadata": {},
   "source": [
    "#### Observations:\n",
    "1. As expected, the number of rows and number of unique orders is the same. Thus, no problems with order id shoul exist \n",
    "<br>\n",
    "2. No distribution is needed as this would be sensless from the analysis point of view"
   ]
  },
  {
   "cell_type": "markdown",
   "metadata": {},
   "source": [
    "#### Exploring the customer_id"
   ]
  },
  {
   "cell_type": "code",
   "execution_count": 13,
   "metadata": {},
   "outputs": [
    {
     "name": "stdout",
     "output_type": "stream",
     "text": [
      "Number of unique customers is 1200\n",
      "Statistics of orders_per_customer:\n"
     ]
    },
    {
     "data": {
      "text/plain": [
       "count    1200.000000\n",
       "mean        1.581667\n",
       "std         1.090560\n",
       "min         1.000000\n",
       "25%         1.000000\n",
       "50%         1.000000\n",
       "75%         2.000000\n",
       "max        13.000000\n",
       "Name: customer_id, dtype: float64"
      ]
     },
     "execution_count": 13,
     "metadata": {},
     "output_type": "execute_result"
    },
    {
     "data": {
      "image/png": "[encoded data removed]",
      "text/plain": [
       "<Figure size 1440x360 with 1 Axes>"
      ]
     },
     "metadata": {
      "needs_background": "light"
     },
     "output_type": "display_data"
    }
   ],
   "source": [
    "# Let us simply check how many unique customers used FoodHub.  \n",
    "print('Number of unique customers is', len(df['customer_id'].unique()))\n",
    "\n",
    "# Let us check how many orders each customer had made\n",
    "orders_per_customer=df['customer_id'].value_counts()\n",
    "\n",
    "# Prepare the figure size\n",
    "plt.figure(figsize=(20,5))\n",
    "sns.boxplot(data=orders_per_customer,x=orders_per_customer);\n",
    "plt.xlabel('orders_per_customer');\n",
    "\n",
    "# Printing the statistics for orders_per_customer\n",
    "print('Statistics of orders_per_customer:')\n",
    "orders_per_customer.describe()"
   ]
  },
  {
   "cell_type": "markdown",
   "metadata": {},
   "source": [
    "#### Observations:\n",
    "1. Number of FoodHub's unique customers is 1200. As the number of orders is 1898, this means that some customers ordered the food few times. \n",
    "<br>\n",
    "2. In average, a customer does 1.58 orders in FoodHub while median value is only 1 order. This means that at least 50 % of customers (600 users) after ordering once did not return to FoodHub during the covered period of dataset (whose duration is unknown, additional information is needed).If given dataset is for short duration (e.g. week) such numbers would be rather normal (as not many customers may order the food several times). However, if the given datasets represents data for a long duration, then such high number of non-returning customers may be a reason for a conducting a more complex roots analysis and finally the development of the customer retention strategy for FoodHub.  "
   ]
  },
  {
   "cell_type": "markdown",
   "metadata": {},
   "source": [
    "#### Exploring the restaurant_name"
   ]
  },
  {
   "cell_type": "code",
   "execution_count": 14,
   "metadata": {},
   "outputs": [
    {
     "data": {
      "text/html": [
       "<div>\n",
       "<style scoped>\n",
       "    .dataframe tbody tr th:only-of-type {\n",
       "        vertical-align: middle;\n",
       "    }\n",
       "\n",
       "    .dataframe tbody tr th {\n",
       "        vertical-align: top;\n",
       "    }\n",
       "\n",
       "    .dataframe thead th {\n",
       "        text-align: right;\n",
       "    }\n",
       "</style>\n",
       "<table border=\"1\" class=\"dataframe\">\n",
       "  <thead>\n",
       "    <tr style=\"text-align: right;\">\n",
       "      <th></th>\n",
       "      <th>order_id</th>\n",
       "      <th>customer_id</th>\n",
       "      <th>restaurant_name</th>\n",
       "      <th>cuisine_type</th>\n",
       "      <th>cost_of_the_order</th>\n",
       "      <th>day_of_the_week</th>\n",
       "      <th>rating</th>\n",
       "      <th>food_preparation_time</th>\n",
       "      <th>delivery_time</th>\n",
       "    </tr>\n",
       "  </thead>\n",
       "  <tbody>\n",
       "    <tr>\n",
       "      <th>4</th>\n",
       "      <td>1478249</td>\n",
       "      <td>76942</td>\n",
       "      <td>Dirty Bird to Go</td>\n",
       "      <td>American</td>\n",
       "      <td>11.59</td>\n",
       "      <td>Weekday</td>\n",
       "      <td>4</td>\n",
       "      <td>25</td>\n",
       "      <td>24</td>\n",
       "    </tr>\n",
       "    <tr>\n",
       "      <th>177</th>\n",
       "      <td>1478032</td>\n",
       "      <td>146586</td>\n",
       "      <td>Dirty Bird to Go</td>\n",
       "      <td>American</td>\n",
       "      <td>19.40</td>\n",
       "      <td>Weekend</td>\n",
       "      <td>4</td>\n",
       "      <td>25</td>\n",
       "      <td>19</td>\n",
       "    </tr>\n",
       "    <tr>\n",
       "      <th>306</th>\n",
       "      <td>1477312</td>\n",
       "      <td>269793</td>\n",
       "      <td>Dirty Bird To Go (archived)</td>\n",
       "      <td>American</td>\n",
       "      <td>8.54</td>\n",
       "      <td>Weekend</td>\n",
       "      <td>Not given</td>\n",
       "      <td>32</td>\n",
       "      <td>30</td>\n",
       "    </tr>\n",
       "    <tr>\n",
       "      <th>325</th>\n",
       "      <td>1476848</td>\n",
       "      <td>365401</td>\n",
       "      <td>Dirty Bird To Go (archived)</td>\n",
       "      <td>American</td>\n",
       "      <td>15.57</td>\n",
       "      <td>Weekend</td>\n",
       "      <td>Not given</td>\n",
       "      <td>30</td>\n",
       "      <td>24</td>\n",
       "    </tr>\n",
       "    <tr>\n",
       "      <th>662</th>\n",
       "      <td>1476955</td>\n",
       "      <td>70001</td>\n",
       "      <td>Dirty Bird to Go</td>\n",
       "      <td>American</td>\n",
       "      <td>12.08</td>\n",
       "      <td>Weekday</td>\n",
       "      <td>Not given</td>\n",
       "      <td>23</td>\n",
       "      <td>32</td>\n",
       "    </tr>\n",
       "    <tr>\n",
       "      <th>927</th>\n",
       "      <td>1476720</td>\n",
       "      <td>91958</td>\n",
       "      <td>Dirty Bird To Go (archived)</td>\n",
       "      <td>American</td>\n",
       "      <td>12.13</td>\n",
       "      <td>Weekend</td>\n",
       "      <td>4</td>\n",
       "      <td>22</td>\n",
       "      <td>27</td>\n",
       "    </tr>\n",
       "    <tr>\n",
       "      <th>1188</th>\n",
       "      <td>1477782</td>\n",
       "      <td>275689</td>\n",
       "      <td>Dirty Bird to Go</td>\n",
       "      <td>American</td>\n",
       "      <td>12.18</td>\n",
       "      <td>Weekday</td>\n",
       "      <td>Not given</td>\n",
       "      <td>20</td>\n",
       "      <td>24</td>\n",
       "    </tr>\n",
       "  </tbody>\n",
       "</table>\n",
       "</div>"
      ],
      "text/plain": [
       "      order_id  customer_id              restaurant_name cuisine_type  \\\n",
       "4      1478249        76942             Dirty Bird to Go     American   \n",
       "177    1478032       146586             Dirty Bird to Go     American   \n",
       "306    1477312       269793  Dirty Bird To Go (archived)     American   \n",
       "325    1476848       365401  Dirty Bird To Go (archived)     American   \n",
       "662    1476955        70001             Dirty Bird to Go     American   \n",
       "927    1476720        91958  Dirty Bird To Go (archived)     American   \n",
       "1188   1477782       275689             Dirty Bird to Go     American   \n",
       "\n",
       "      cost_of_the_order day_of_the_week     rating  food_preparation_time  \\\n",
       "4                 11.59         Weekday          4                     25   \n",
       "177               19.40         Weekend          4                     25   \n",
       "306                8.54         Weekend  Not given                     32   \n",
       "325               15.57         Weekend  Not given                     30   \n",
       "662               12.08         Weekday  Not given                     23   \n",
       "927               12.13         Weekend          4                     22   \n",
       "1188              12.18         Weekday  Not given                     20   \n",
       "\n",
       "      delivery_time  \n",
       "4                24  \n",
       "177              19  \n",
       "306              30  \n",
       "325              24  \n",
       "662              32  \n",
       "927              27  \n",
       "1188             24  "
      ]
     },
     "execution_count": 14,
     "metadata": {},
     "output_type": "execute_result"
    }
   ],
   "source": [
    "# As restaurant_name represents a series of string, let us check if any dublicates or possibly erroneous names exist.  \n",
    "\n",
    "# First, let us check if there are any duplicates \n",
    "\n",
    "# Find unique names of restaurants  \n",
    "unique_restaurants_names=sorted(df['restaurant_name'].unique())\n",
    "\n",
    "# Show the names\n",
    "unique_restaurants_names\n",
    "\n",
    "# Create an empty list\n",
    "saved_similar_names=[]\n",
    "\n",
    "# Find similar names using get_close_matches()\n",
    "for each_restaurant in unique_restaurants_names:\n",
    "    \n",
    "    # Find a similar names for given restaurant in unique_restaurants_names\n",
    "    similar_names=difflib.get_close_matches(each_restaurant,unique_restaurants_names)\n",
    "    \n",
    "    # Sort in alphabetic order \n",
    "    similar_names=sorted(similar_names)\n",
    "    \n",
    "    # Save to saved_similar_names\n",
    "    if len(similar_names)>1:\n",
    "        saved_similar_names.append(similar_names)\n",
    "        \n",
    "# Manual revision of 'saved_similar_names' showed that there are 4 duplciated cases which may represent the same restaurant \n",
    "Dublicated_names=[['Dirty Bird To Go (archived)', 'Dirty Bird to Go'],\n",
    "                  [\"Sarabeth's\", \"Sarabeth's East\", \"Sarabeth's West\"],\n",
    "                  ['Dos Caminos', 'Dos Caminos Soho'],\n",
    "                  [\"Vanessa's Dumpling House\", \"Vanessa's Dumplings\"],]\n",
    "\n",
    "# Additional checking of these restaurants on actual Google maps showed that there are indeed several restaurants \n",
    "# with similar names in NYC except Dirty Bird To Go.  Dirty Bird To Go has been closed. It seems that no other restaurant \n",
    "# with such name exists in NYC. Hence, we deduce that Dirty Bird To Go (archived)=Dirty Bird to Go\n",
    "\n",
    "# Concerning other restaurants, I assume that the given dataframe represents  reastaurants in various locations but \n",
    "# with similar names.So no problems with them in given dataframe and thus nothing should be done further\n",
    "\n",
    "# Looking at at data for Dirty Bird To Go (archived) and Dirty Bird to Go\n",
    "df.loc[(df['restaurant_name'] == 'Dirty Bird To Go (archived)') | (df['restaurant_name'] == 'Dirty Bird to Go')]\n"
   ]
  },
  {
   "cell_type": "code",
   "execution_count": 15,
   "metadata": {},
   "outputs": [
    {
     "data": {
      "text/html": [
       "<div>\n",
       "<style scoped>\n",
       "    .dataframe tbody tr th:only-of-type {\n",
       "        vertical-align: middle;\n",
       "    }\n",
       "\n",
       "    .dataframe tbody tr th {\n",
       "        vertical-align: top;\n",
       "    }\n",
       "\n",
       "    .dataframe thead th {\n",
       "        text-align: right;\n",
       "    }\n",
       "</style>\n",
       "<table border=\"1\" class=\"dataframe\">\n",
       "  <thead>\n",
       "    <tr style=\"text-align: right;\">\n",
       "      <th></th>\n",
       "      <th>order_id</th>\n",
       "      <th>customer_id</th>\n",
       "      <th>restaurant_name</th>\n",
       "      <th>cuisine_type</th>\n",
       "      <th>cost_of_the_order</th>\n",
       "      <th>day_of_the_week</th>\n",
       "      <th>rating</th>\n",
       "      <th>food_preparation_time</th>\n",
       "      <th>delivery_time</th>\n",
       "    </tr>\n",
       "  </thead>\n",
       "  <tbody>\n",
       "    <tr>\n",
       "      <th>4</th>\n",
       "      <td>1478249</td>\n",
       "      <td>76942</td>\n",
       "      <td>Dirty Bird to Go</td>\n",
       "      <td>American</td>\n",
       "      <td>11.59</td>\n",
       "      <td>Weekday</td>\n",
       "      <td>4</td>\n",
       "      <td>25</td>\n",
       "      <td>24</td>\n",
       "    </tr>\n",
       "    <tr>\n",
       "      <th>177</th>\n",
       "      <td>1478032</td>\n",
       "      <td>146586</td>\n",
       "      <td>Dirty Bird to Go</td>\n",
       "      <td>American</td>\n",
       "      <td>19.40</td>\n",
       "      <td>Weekend</td>\n",
       "      <td>4</td>\n",
       "      <td>25</td>\n",
       "      <td>19</td>\n",
       "    </tr>\n",
       "    <tr>\n",
       "      <th>306</th>\n",
       "      <td>1477312</td>\n",
       "      <td>269793</td>\n",
       "      <td>Dirty Bird to Go</td>\n",
       "      <td>American</td>\n",
       "      <td>8.54</td>\n",
       "      <td>Weekend</td>\n",
       "      <td>Not given</td>\n",
       "      <td>32</td>\n",
       "      <td>30</td>\n",
       "    </tr>\n",
       "    <tr>\n",
       "      <th>325</th>\n",
       "      <td>1476848</td>\n",
       "      <td>365401</td>\n",
       "      <td>Dirty Bird to Go</td>\n",
       "      <td>American</td>\n",
       "      <td>15.57</td>\n",
       "      <td>Weekend</td>\n",
       "      <td>Not given</td>\n",
       "      <td>30</td>\n",
       "      <td>24</td>\n",
       "    </tr>\n",
       "    <tr>\n",
       "      <th>662</th>\n",
       "      <td>1476955</td>\n",
       "      <td>70001</td>\n",
       "      <td>Dirty Bird to Go</td>\n",
       "      <td>American</td>\n",
       "      <td>12.08</td>\n",
       "      <td>Weekday</td>\n",
       "      <td>Not given</td>\n",
       "      <td>23</td>\n",
       "      <td>32</td>\n",
       "    </tr>\n",
       "    <tr>\n",
       "      <th>927</th>\n",
       "      <td>1476720</td>\n",
       "      <td>91958</td>\n",
       "      <td>Dirty Bird to Go</td>\n",
       "      <td>American</td>\n",
       "      <td>12.13</td>\n",
       "      <td>Weekend</td>\n",
       "      <td>4</td>\n",
       "      <td>22</td>\n",
       "      <td>27</td>\n",
       "    </tr>\n",
       "    <tr>\n",
       "      <th>1188</th>\n",
       "      <td>1477782</td>\n",
       "      <td>275689</td>\n",
       "      <td>Dirty Bird to Go</td>\n",
       "      <td>American</td>\n",
       "      <td>12.18</td>\n",
       "      <td>Weekday</td>\n",
       "      <td>Not given</td>\n",
       "      <td>20</td>\n",
       "      <td>24</td>\n",
       "    </tr>\n",
       "  </tbody>\n",
       "</table>\n",
       "</div>"
      ],
      "text/plain": [
       "      order_id  customer_id   restaurant_name cuisine_type  cost_of_the_order  \\\n",
       "4      1478249        76942  Dirty Bird to Go     American              11.59   \n",
       "177    1478032       146586  Dirty Bird to Go     American              19.40   \n",
       "306    1477312       269793  Dirty Bird to Go     American               8.54   \n",
       "325    1476848       365401  Dirty Bird to Go     American              15.57   \n",
       "662    1476955        70001  Dirty Bird to Go     American              12.08   \n",
       "927    1476720        91958  Dirty Bird to Go     American              12.13   \n",
       "1188   1477782       275689  Dirty Bird to Go     American              12.18   \n",
       "\n",
       "     day_of_the_week     rating  food_preparation_time  delivery_time  \n",
       "4            Weekday          4                     25             24  \n",
       "177          Weekend          4                     25             19  \n",
       "306          Weekend  Not given                     32             30  \n",
       "325          Weekend  Not given                     30             24  \n",
       "662          Weekday  Not given                     23             32  \n",
       "927          Weekend          4                     22             27  \n",
       "1188         Weekday  Not given                     20             24  "
      ]
     },
     "execution_count": 15,
     "metadata": {},
     "output_type": "execute_result"
    }
   ],
   "source": [
    "# Changing the name Dirty Bird To Go (archived) into Dirty Bird to Go\n",
    "df.loc[df['restaurant_name'] == 'Dirty Bird To Go (archived)','restaurant_name']='Dirty Bird to Go';\n",
    "\n",
    "# Looking again at at data for Dirty Bird To Go (archived) and Dirty Bird to Go\n",
    "df.loc[(df['restaurant_name'] == 'Dirty Bird To Go (archived)') | (df['restaurant_name'] == 'Dirty Bird to Go')]\n",
    "\n",
    "# So, the Dirty Bird To Go (archived) was indeed replaced by Dirty Bird to Go"
   ]
  },
  {
   "cell_type": "code",
   "execution_count": 16,
   "metadata": {},
   "outputs": [
    {
     "data": {
      "text/plain": [
       "[\"'wichcraft\",\n",
       " '12 Chairs',\n",
       " '5 Napkin Burger',\n",
       " '67 Burger',\n",
       " 'Alidoro',\n",
       " 'Amma',\n",
       " \"Amy Ruth's\",\n",
       " 'Anjappar Chettinad',\n",
       " 'Asuka Sushi',\n",
       " 'Aurora',\n",
       " 'Balade',\n",
       " 'Balthazar Boulangerie',\n",
       " 'Barbounia',\n",
       " 'Bareburger',\n",
       " 'Benihana',\n",
       " 'Bhatti Indian Grill',\n",
       " \"Big Daddy's\",\n",
       " 'Big Wong Restaurant \\x8c_¤¾Ñ¼',\n",
       " 'Bistango',\n",
       " 'Blue Ribbon Brooklyn',\n",
       " 'Blue Ribbon Fried Chicken',\n",
       " 'Blue Ribbon Sushi',\n",
       " 'Blue Ribbon Sushi Bar & Grill',\n",
       " 'Blue Ribbon Sushi Izakaya',\n",
       " 'Boqueria',\n",
       " \"Bubby's \",\n",
       " 'Bukhara Grill',\n",
       " 'Burger Joint',\n",
       " 'Byblos Restaurant',\n",
       " 'Cafe Habana',\n",
       " 'Cafe Mogador',\n",
       " 'Cafe de La Esquina',\n",
       " 'Cafeteria',\n",
       " 'CafÌ© China',\n",
       " \"Carmine's\",\n",
       " 'Chipotle Mexican Grill $1.99 Delivery',\n",
       " 'Cho Dang Gol',\n",
       " 'Chola Eclectic Indian Cuisine',\n",
       " 'Chote Nawab',\n",
       " 'Cipriani Le Specialita',\n",
       " \"Coppola's East\",\n",
       " 'Crema Restaurante',\n",
       " 'Delicatessen',\n",
       " 'DespaÌ±a',\n",
       " \"Dickson's Farmstand Meats\",\n",
       " 'Dig Inn Seasonal Market',\n",
       " 'Dirty Bird To Go (archived)',\n",
       " 'Dirty Bird to Go',\n",
       " \"Don's Bogam BBQ & Wine Bar\",\n",
       " 'Donburi-ya',\n",
       " 'Dos Caminos',\n",
       " 'Dos Caminos Soho',\n",
       " 'DuMont Burger',\n",
       " 'El Parador Cafe',\n",
       " 'Empanada Mama (closed)',\n",
       " 'Emporio',\n",
       " 'Five Guys Burgers and Fries',\n",
       " 'Five Leaves',\n",
       " 'Frank Restaurant',\n",
       " 'Friend of a Farmer',\n",
       " 'Gaia Italian Cafe',\n",
       " 'Galli Restaurant',\n",
       " 'Go! Go! Curry!',\n",
       " 'Grand Sichuan International',\n",
       " 'Haandi',\n",
       " 'Hampton Chutney Co.',\n",
       " 'Han Dynasty',\n",
       " 'Hangawi',\n",
       " 'Haru Gramercy Park',\n",
       " 'Hatsuhana',\n",
       " 'Haveli Indian Restaurant',\n",
       " 'Hibino',\n",
       " 'Hill Country Fried Chicken',\n",
       " \"Hiroko's Place\",\n",
       " 'Hot Kitchen',\n",
       " 'Hummus Place',\n",
       " 'Hunan Manor',\n",
       " 'Il Bambino',\n",
       " 'Izakaya Ten',\n",
       " 'J. G. Melon',\n",
       " \"Jack's Wife Freda\",\n",
       " \"Joe's Shanghai \\x8e_À\\x8eü£¾÷´\",\n",
       " 'Junoon',\n",
       " 'Kambi Ramen House',\n",
       " 'Kanoyama',\n",
       " 'Klong',\n",
       " 'Kori Restaurant and Bar',\n",
       " \"L'Express\",\n",
       " 'La Follia',\n",
       " 'Lamarca Pasta',\n",
       " 'Lantern Thai Kitchen',\n",
       " 'Le Grainne Cafe',\n",
       " 'Le Zie 2000 Trattoria',\n",
       " 'Lucky Strike',\n",
       " \"Lucky's Famous Burgers\",\n",
       " \"Mamoun's Falafel\",\n",
       " 'Market Table',\n",
       " 'Melt Shop',\n",
       " 'Mira Sushi',\n",
       " 'Mission Cantina',\n",
       " 'Momoya',\n",
       " 'Moonstruck on Second',\n",
       " 'Nha Trang One',\n",
       " 'Nobu Next Door',\n",
       " 'Olea',\n",
       " 'Olive Garden',\n",
       " 'Osteria Morini',\n",
       " 'Otto Enoteca Pizzeria',\n",
       " \"P.J. Clarke's\",\n",
       " 'Parm',\n",
       " \"Paul & Jimmy's\",\n",
       " 'Pepe Giallo',\n",
       " 'Pepe Rosso To Go',\n",
       " 'Philippe Chow',\n",
       " 'Piccolo Angolo',\n",
       " 'Pinto Nouveau Thai Bistro',\n",
       " 'Pongsri Thai',\n",
       " 'Posto',\n",
       " 'Prosperity Dumpling',\n",
       " 'Pylos',\n",
       " 'Ravagh Persian Grill',\n",
       " 'RedFarm Broadway',\n",
       " 'RedFarm Hudson',\n",
       " 'Rohm Thai',\n",
       " 'Room Service',\n",
       " 'Rubirosa',\n",
       " 'Rye House',\n",
       " \"S'MAC\",\n",
       " 'Samurai Mama',\n",
       " \"Sarabeth's\",\n",
       " \"Sarabeth's East\",\n",
       " \"Sarabeth's Restaurant\",\n",
       " \"Sarabeth's West\",\n",
       " 'Saravanaa Bhavan',\n",
       " \"Schnipper's Quality Kitchen\",\n",
       " 'Serafina Fabulous Pizza',\n",
       " 'Shake Shack',\n",
       " 'Socarrat Paella Bar',\n",
       " 'Song Thai Restaurant & Bar',\n",
       " 'Spice Thai',\n",
       " 'Sushi Choshi',\n",
       " 'Sushi Samba',\n",
       " 'Sushi of Gari',\n",
       " 'Sushi of Gari 46',\n",
       " 'Sushi of Gari Tribeca',\n",
       " 'TAO',\n",
       " 'Tamarind TriBeCa',\n",
       " 'Tarallucci e Vino Restaurant',\n",
       " 'Taro Sushi',\n",
       " 'Terakawa Ramen',\n",
       " 'The Kati Roll Company',\n",
       " 'The Loop',\n",
       " 'The MasalaWala',\n",
       " 'The Meatball Shop',\n",
       " 'The Odeon',\n",
       " 'The Smile',\n",
       " \"Tony's Di Napoli\",\n",
       " 'Tortaria',\n",
       " 'Tres Carnes',\n",
       " 'UVA Wine Bar & Restaurant',\n",
       " 'V-Nam Cafe',\n",
       " \"Vanessa's Dumpling House\",\n",
       " \"Vanessa's Dumplings\",\n",
       " 'Vezzo Thin Crust Pizza',\n",
       " 'Wa Jeal',\n",
       " 'Waverly Diner',\n",
       " 'Westville Hudson',\n",
       " 'Wo Hop Restaurant',\n",
       " 'Woorijip',\n",
       " 'Xe May Sandwich Shop',\n",
       " \"Xi'an Famous Foods\",\n",
       " 'Yama 49',\n",
       " 'Yama Japanese Restaurant',\n",
       " 'Zero Otto Nove',\n",
       " 'brgr',\n",
       " 'da Umberto',\n",
       " 'ilili Restaurant',\n",
       " 'indikitch']"
      ]
     },
     "execution_count": 16,
     "metadata": {},
     "output_type": "execute_result"
    }
   ],
   "source": [
    "# Second, let us check if there are any erroneous names\n",
    "\n",
    "# Looking at unique names of restaurants\n",
    "unique_restaurants_names"
   ]
  },
  {
   "cell_type": "markdown",
   "metadata": {},
   "source": [
    "#### Observations:\n",
    "1. No duplicates were found among restaurant names. \n",
    "<br>\n",
    "2.  It seems that Dirty Bird To Go (archived) and Dirty Bird To Go represent the same restaurant. Hence, Dirty Bird To Go (archived) was replaced by Dirty Bird To Go.\n",
    "<br>\n",
    "3. Some restaurants may have an erroneous name: \n",
    "- Big Wong Restaurant \\x8c_¤¾Ñ¼.The word '\\x8c_¤¾Ñ¼' should be an error\n",
    "- Chipotle Mexican Grill $1.99 Delivery. The phrase 1.99 Delivery should be erroneous\n",
    "- DespaÌ±a. The letters Ì± in the restaurant names should be checked\n",
    "- Donburi-ya. Should be Donburiya?\n",
    "- Joe's Shanghai \\x8e_À\\x8eü£¾÷´. Check the \\x8e_À\\x8eü£¾÷´\n",
    "<br>\n",
    "- Other names may also be incorrect. \n",
    "\n",
    "Therefore, it may be neccesary to do a general revision of existing restaurant names "
   ]
  },
  {
   "cell_type": "markdown",
   "metadata": {},
   "source": [
    "#### Exploring the cuisine_type"
   ]
  },
  {
   "cell_type": "code",
   "execution_count": 17,
   "metadata": {
    "id": "rU5ZqISjJY_U"
   },
   "outputs": [
    {
     "data": {
      "image/png": "[encoded data removed]",
      "text/plain": [
       "<Figure size 1440x360 with 1 Axes>"
      ]
     },
     "metadata": {
      "needs_background": "light"
     },
     "output_type": "display_data"
    }
   ],
   "source": [
    "# Checking the number of orders per cuisine_type\n",
    "\n",
    "# Prepare the figure size\n",
    "plt.figure(figsize=(20,5))\n",
    "\n",
    "# Plot a count plot in descending order\n",
    "sns.countplot(data=df, x='cuisine_type', order = df['cuisine_type'].value_counts().index);"
   ]
  },
  {
   "cell_type": "markdown",
   "metadata": {},
   "source": [
    "#### Observations:\n",
    "1. American cuisine is the most ordered in FoodHub \n",
    "<br>\n",
    "2. Vietnamese cuisine has the lowest number of orders\n",
    "<br>\n",
    "3. Japanese, Italian and Chinse cuisines are also popular among FoodHub users. (2,3,4 places correspondingly). Second popular group could be Mexican, Indian, MiddleEastern, and Mediterranean cuisines (5,6,7,8 places correspondingly). The third group would be all the rest cuisines: French, Southern, Korean, Spanish and Vietnamese"
   ]
  },
  {
   "cell_type": "markdown",
   "metadata": {},
   "source": [
    "#### Exploring the cost_of_the_order\n"
   ]
  },
  {
   "cell_type": "code",
   "execution_count": 18,
   "metadata": {},
   "outputs": [
    {
     "data": {
      "image/png": "[encoded data removed]",
      "text/plain": [
       "<Figure size 1440x360 with 1 Axes>"
      ]
     },
     "metadata": {
      "needs_background": "light"
     },
     "output_type": "display_data"
    },
    {
     "name": "stdout",
     "output_type": "stream",
     "text": [
      "Statistics of cost_of_the_order:\n",
      "count    1898.000000\n",
      "mean       16.498851\n",
      "std         7.483812\n",
      "min         4.470000\n",
      "25%        12.080000\n",
      "50%        14.140000\n",
      "75%        22.297500\n",
      "max        35.410000\n",
      "Name: cost_of_the_order, dtype: float64\n"
     ]
    }
   ],
   "source": [
    "# Exploring the distribution of cost_of_the_order \n",
    "\n",
    "# Prepare the figure size\n",
    "plt.figure(figsize=(20,5))\n",
    "sns.violinplot(data=df, x='cost_of_the_order');\n",
    "plt.show()\n",
    "\n",
    "# Check the statisctic summury for given violent plot (for information only)\n",
    "print('Statistics of cost_of_the_order:')\n",
    "print(df['cost_of_the_order'].describe())"
   ]
  },
  {
   "cell_type": "markdown",
   "metadata": {},
   "source": [
    "#### Observations:\n",
    "1. The distribution of costs has 3 peaks. This may testify about the existence of three price categories?"
   ]
  },
  {
   "cell_type": "markdown",
   "metadata": {},
   "source": [
    "#### Exploring the day_of_the_week\n"
   ]
  },
  {
   "cell_type": "code",
   "execution_count": 19,
   "metadata": {},
   "outputs": [
    {
     "data": {
      "image/png": "[encoded data removed]",
      "text/plain": [
       "<Figure size 432x288 with 1 Axes>"
      ]
     },
     "metadata": {
      "needs_background": "light"
     },
     "output_type": "display_data"
    },
    {
     "name": "stdout",
     "output_type": "stream",
     "text": [
      "Statistics of day_of_the_week:\n",
      "Weekend    1351\n",
      "Weekday     547\n",
      "Name: day_of_the_week, dtype: int64\n"
     ]
    }
   ],
   "source": [
    "# Checking the number of orders by day of the week\n",
    "sns.countplot(data=df, x='day_of_the_week', order = df['day_of_the_week'].value_counts().index);\n",
    "plt.show()\n",
    "\n",
    "# Checking the exact numbers\n",
    "print('Statistics of day_of_the_week:')\n",
    "print(df[\"day_of_the_week\"].value_counts())"
   ]
  },
  {
   "cell_type": "markdown",
   "metadata": {},
   "source": [
    "#### Observations:\n",
    "1. Number of orders during weekends is almost 2.5 times higher than during the weekdays. "
   ]
  },
  {
   "cell_type": "code",
   "execution_count": 20,
   "metadata": {},
   "outputs": [
    {
     "name": "stdout",
     "output_type": "stream",
     "text": [
      "Total costs in $ by  day_of_the_week\n",
      "Weekday     8922.22\n",
      "Weekend    22392.60\n",
      "Name: cost_of_the_order, dtype: float64\n",
      "-----------------------------------------------------------------------------------\n",
      "Mean cost of order in $ by  day_of_the_week\n",
      "Weekday    16.311188\n",
      "Weekend    16.574833\n",
      "Name: cost_of_the_order, dtype: float64\n"
     ]
    }
   ],
   "source": [
    "# Checking the total costs by day_of_the_week\n",
    "print('Total costs in $ by ',df.groupby(by=[\"day_of_the_week\"])['cost_of_the_order'].sum())\n",
    "\n",
    "print('-----------------------------------------------------------------------------------')\n",
    "\n",
    "# Checking the mean cost by day_of_the_week\n",
    "print('Mean cost of order in $ by ',df.groupby(by=[\"day_of_the_week\"])['cost_of_the_order'].mean())"
   ]
  },
  {
   "cell_type": "markdown",
   "metadata": {},
   "source": [
    "#### Observations:\n",
    "1. Total costs of orders during weekends are also 2.5 times higher than during the weekdays. \n",
    "<br>\n",
    "2.The average order during the weekday is approximatevely the same as during the weekend - 13 $. Thus, it is possible to deduce that there is no difference between the average order during the weekend and weekdays.\n",
    "<br>\n",
    "3. From 1 and 2, the difference in total costs between weekdays and weekends is solely caused by number of orders (and not by the value of these orders as the latter is approximatevely the same)."
   ]
  },
  {
   "cell_type": "markdown",
   "metadata": {},
   "source": [
    "#### Exploring the ratings\n"
   ]
  },
  {
   "cell_type": "code",
   "execution_count": 21,
   "metadata": {},
   "outputs": [
    {
     "data": {
      "image/png": "[encoded data removed]",
      "text/plain": [
       "<Figure size 1440x360 with 1 Axes>"
      ]
     },
     "metadata": {},
     "output_type": "display_data"
    },
    {
     "name": "stdout",
     "output_type": "stream",
     "text": [
      "Number of each rating:\n",
      " 5.0    588\n",
      "4.0    386\n",
      "3.0    188\n",
      "Name: rating, dtype: int64\n",
      "\n",
      "Statistics of ratings:\n",
      " count    1162.000000\n",
      "mean        4.344234\n",
      "std         0.741478\n",
      "min         3.000000\n",
      "25%         4.000000\n",
      "50%         5.000000\n",
      "75%         5.000000\n",
      "max         5.000000\n",
      "Name: rating, dtype: float64\n"
     ]
    }
   ],
   "source": [
    "# Exploring the distribution of ratings (without Not_given values)\n",
    "\n",
    "# Prepare the data for pie chart \n",
    "pie_data=rating_new.value_counts()\n",
    "\n",
    "# Define seaborn color palette to use in pie chart\n",
    "colors = sns.color_palette('pastel')[0:len(pie_data)]\n",
    "\n",
    "# Prepare the figure size\n",
    "plt.figure(figsize=(20,5))\n",
    "\n",
    "#create pie chart\n",
    "plt.pie(pie_data,labels=pie_data.index, colors=colors, autopct='%.0f%%')\n",
    "plt.show()\n",
    "\n",
    "# Printing the corresponding data \n",
    "print('Number of each rating:\\n', rating_new.value_counts())\n",
    "print('')\n",
    "print('Statistics of ratings:\\n', rating_new.describe())\n"
   ]
  },
  {
   "cell_type": "markdown",
   "metadata": {},
   "source": [
    "#### Observations:\n",
    "1. 51% of given ratings are equal to 5 and 33% ofgiven ratings are 4. Hence, 84% of orders received good ratings. Only 16% of orders received relatively-low rating. No rating below 3 is presented."
   ]
  },
  {
   "cell_type": "markdown",
   "metadata": {},
   "source": [
    "#### Exploring the food_preparation_time\n"
   ]
  },
  {
   "cell_type": "code",
   "execution_count": 22,
   "metadata": {},
   "outputs": [
    {
     "data": {
      "image/png": "[encoded data removed]",
      "text/plain": [
       "<Figure size 1440x360 with 1 Axes>"
      ]
     },
     "metadata": {
      "needs_background": "light"
     },
     "output_type": "display_data"
    },
    {
     "name": "stdout",
     "output_type": "stream",
     "text": [
      "Statistics of food_preparation_time:\n",
      " count    1898.000000\n",
      "mean       27.371970\n",
      "std         4.632481\n",
      "min        20.000000\n",
      "25%        23.000000\n",
      "50%        27.000000\n",
      "75%        31.000000\n",
      "max        35.000000\n",
      "Name: food_preparation_time, dtype: float64\n"
     ]
    }
   ],
   "source": [
    "# Prepare the figure size\n",
    "plt.figure(figsize=(20,5))\n",
    "\n",
    "# Plot data \n",
    "sns.violinplot(data=df, x='food_preparation_time')\n",
    "plt.show();\n",
    "\n",
    "print('Statistics of food_preparation_time:\\n', df['food_preparation_time'].describe())\n"
   ]
  },
  {
   "cell_type": "markdown",
   "metadata": {},
   "source": [
    "#### Observations:\n",
    "1. In average, 27.37 min are required to prepare a food. Also, 27 min represents a median. \n",
    "2. The fastest food preparation takes 20 minutes while the slowest one takes 35 minutes\n",
    "3. It seems that there is no skewness"
   ]
  },
  {
   "cell_type": "markdown",
   "metadata": {},
   "source": [
    "#### Exploring the food_preparation_time\n"
   ]
  },
  {
   "cell_type": "code",
   "execution_count": 23,
   "metadata": {},
   "outputs": [
    {
     "data": {
      "image/png": "[encoded data removed]",
      "text/plain": [
       "<Figure size 1440x360 with 1 Axes>"
      ]
     },
     "metadata": {
      "needs_background": "light"
     },
     "output_type": "display_data"
    },
    {
     "name": "stdout",
     "output_type": "stream",
     "text": [
      "Statistics of delivery_time:\n",
      " count    1898.000000\n",
      "mean       24.161749\n",
      "std         4.972637\n",
      "min        15.000000\n",
      "25%        20.000000\n",
      "50%        25.000000\n",
      "75%        28.000000\n",
      "max        33.000000\n",
      "Name: delivery_time, dtype: float64\n"
     ]
    }
   ],
   "source": [
    "# Prepare the figure size\n",
    "plt.figure(figsize=(20,5))\n",
    "\n",
    "# Plot the delivery time\n",
    "sns.violinplot(data=df, x='delivery_time')\n",
    "plt.show();\n",
    "\n",
    "print('Statistics of delivery_time:\\n', df['delivery_time'].describe())\n"
   ]
  },
  {
   "cell_type": "markdown",
   "metadata": {},
   "source": [
    "#### Observations:\n",
    "1. The fastest delivery time is 15 min, the slowest is 33 minuntes. Median delivery time is 25 minutes whereas mean time is almost the same - 24.16 min. \n",
    "2. The graph of delivery time is left-skewed \n"
   ]
  },
  {
   "cell_type": "markdown",
   "metadata": {
    "id": "K9CqA5H_JY_U"
   },
   "source": [
    "### **Question 7**: Which are the top 5 restaurants in terms of the number of orders received? [1 mark]"
   ]
  },
  {
   "cell_type": "code",
   "execution_count": 24,
   "metadata": {},
   "outputs": [
    {
     "name": "stdout",
     "output_type": "stream",
     "text": [
      "orders_per_restaurant:\n",
      "Shake Shack                  219\n",
      "The Meatball Shop            132\n",
      "Blue Ribbon Sushi            119\n",
      "Blue Ribbon Fried Chicken     96\n",
      "Parm                          68\n",
      "                            ... \n",
      "Rye House                      1\n",
      "Hiroko's Place                 1\n",
      "Frank Restaurant               1\n",
      "Sarabeth's West                1\n",
      "'wichcraft                     1\n",
      "Name: restaurant_name, Length: 177, dtype: int64\n"
     ]
    },
    {
     "data": {
      "image/png": "[encoded data removed]",
      "text/plain": [
       "<Figure size 1440x360 with 1 Axes>"
      ]
     },
     "metadata": {
      "needs_background": "light"
     },
     "output_type": "display_data"
    },
    {
     "name": "stdout",
     "output_type": "stream",
     "text": [
      "Statistics on orders_per_restaurant:\n",
      "count    177.000000\n",
      "mean      10.723164\n",
      "std       24.104582\n",
      "min        1.000000\n",
      "25%        1.000000\n",
      "50%        3.000000\n",
      "75%        9.000000\n",
      "max      219.000000\n",
      "Name: restaurant_name, dtype: float64\n"
     ]
    }
   ],
   "source": [
    "# Checking the number of order per restaurant\n",
    "orders_per_restaurant=df[\"restaurant_name\"].value_counts().sort_values(ascending=False)\n",
    "\n",
    "# Print top5 restaurants by orders and top5 from the end\n",
    "print('orders_per_restaurant:')\n",
    "print(orders_per_restaurant)\n",
    "\n",
    "\n",
    "# --------Additional study on general distribution of orders per restaurant-------------\n",
    "# Prepare the figure size\n",
    "plt.figure(figsize=(20,5))\n",
    "\n",
    "# Plot the orders_per_restaurant\n",
    "sns.violinplot(x=orders_per_restaurant)\n",
    "plt.show()\n",
    "\n",
    "print('Statistics on orders_per_restaurant:')\n",
    "print(orders_per_restaurant.describe())"
   ]
  },
  {
   "cell_type": "markdown",
   "metadata": {},
   "source": [
    "#### Observations:\n",
    "1. Top 5 restaurants by orders received:  \n",
    "<pre>\n",
    "Shake Shack                  219\n",
    "The Meatball Shop            132\n",
    "Blue Ribbon Sushi            119\n",
    "Blue Ribbon Fried Chicken     96\n",
    "Parm                          68\n",
    "</pre>\n",
    "\n",
    "2. Additional study: the median value of orders by restaurant is 3 whereas the average value is almost 11. Togather with violinpot, such difference between median and mean values testifies about high (right) skewness of data."
   ]
  },
  {
   "cell_type": "markdown",
   "metadata": {
    "id": "gWPMqGq0JY_U"
   },
   "source": [
    "### **Question 8**: Which is the most popular cuisine on weekends? [1 mark]"
   ]
  },
  {
   "cell_type": "code",
   "execution_count": 25,
   "metadata": {
    "id": "c-Xnus3VJY_U"
   },
   "outputs": [
    {
     "data": {
      "image/png": "[encoded data removed]",
      "text/plain": [
       "<Figure size 720x360 with 1 Axes>"
      ]
     },
     "metadata": {
      "needs_background": "light"
     },
     "output_type": "display_data"
    }
   ],
   "source": [
    "# Prepare a figure size\n",
    "plt.figure(figsize=(10,5))\n",
    "\n",
    "# Checking the most popular cuisine for weekends and weekdays (for more general view)\n",
    "sns.countplot(data=df, x='cuisine_type', order = df['cuisine_type'].value_counts().index, hue='day_of_the_week');\n",
    "\n",
    "# Rotate the names at x-axis\n",
    "plt.xticks(rotation=90);"
   ]
  },
  {
   "cell_type": "markdown",
   "metadata": {
    "id": "bpQ270TUJY_U"
   },
   "source": [
    "#### Observations:\n",
    "1. The most popular cuisine on  weekends is American cuisine"
   ]
  },
  {
   "cell_type": "markdown",
   "metadata": {
    "id": "88xgTqkxJY_U"
   },
   "source": [
    "### **Question 9**: What percentage of the orders cost more than 20 dollars? [2 marks]"
   ]
  },
  {
   "cell_type": "code",
   "execution_count": 26,
   "metadata": {
    "id": "OTpHyTdzJY_U"
   },
   "outputs": [
    {
     "name": "stdout",
     "output_type": "stream",
     "text": [
      "Percentage of the orders that cost more than 20 dollars is 29.24130663856691 %\n"
     ]
    }
   ],
   "source": [
    "# Number of rows with order costs more than 20 $ \n",
    "rows_higher_20=df[df['cost_of_the_order']>20].shape[0]\n",
    "\n",
    "# Number of all rows \n",
    "all_rows=df.shape[0]\n",
    "\n",
    "# Calculating the % \n",
    "percentage=rows_higher_20/all_rows*100\n",
    "\n",
    "# Print the results\n",
    "print('Percentage of the orders that cost more than 20 dollars is',percentage,'%')\n"
   ]
  },
  {
   "cell_type": "markdown",
   "metadata": {
    "id": "77KNAC5zJY_U"
   },
   "source": [
    "#### Observations:\n",
    "1. The percentage of the orders cost more than 20 dollars is 29,24 %"
   ]
  },
  {
   "cell_type": "markdown",
   "metadata": {
    "id": "HFyHn7hsJY_V"
   },
   "source": [
    "### **Question 10**: What is the mean order delivery time? [1 mark]"
   ]
  },
  {
   "cell_type": "code",
   "execution_count": 27,
   "metadata": {
    "id": "cyFL13hNJY_V"
   },
   "outputs": [
    {
     "name": "stdout",
     "output_type": "stream",
     "text": [
      "The mean delivery time is 24.161749209694417 min\n"
     ]
    }
   ],
   "source": [
    "# Print the results\n",
    "print('The mean delivery time is',df['delivery_time'].mean(),'min')"
   ]
  },
  {
   "cell_type": "markdown",
   "metadata": {
    "id": "F35SRV-HJY_V"
   },
   "source": [
    "#### Observations:\n",
    "1. The mean delivery time is 24 min"
   ]
  },
  {
   "cell_type": "markdown",
   "metadata": {
    "id": "48IjaOuDJY_V"
   },
   "source": [
    "### **Question 11:** The company has decided to give 20% discount vouchers to the top 5 most frequent customers. Find the IDs of these customers and the number of orders they placed. [1 mark]"
   ]
  },
  {
   "cell_type": "code",
   "execution_count": 28,
   "metadata": {
    "id": "Hz8-DE4Zge0j"
   },
   "outputs": [
    {
     "name": "stdout",
     "output_type": "stream",
     "text": [
      "Top 5 customers by order number:\n",
      "52832     13\n",
      "47440     10\n",
      "83287      9\n",
      "250494     8\n",
      "259341     7\n",
      "Name: customer_id, dtype: int64\n",
      "\n",
      "Top 5 customers by total costs:\n",
      "customer_id\n",
      "52832     225.80\n",
      "250494    183.83\n",
      "47440     158.18\n",
      "276192    146.46\n",
      "83287     139.31\n",
      "Name: cost_of_the_order, dtype: float64\n"
     ]
    }
   ],
   "source": [
    "# Print the results\n",
    "print('Top 5 customers by order number:')\n",
    "print(df[\"customer_id\"].value_counts().head())\n",
    "\n",
    "print('')\n",
    "  \n",
    "print('Top 5 customers by total costs:') \n",
    "print(df.groupby(by=[\"customer_id\"])['cost_of_the_order'].sum().sort_values(ascending=False).head())"
   ]
  },
  {
   "cell_type": "markdown",
   "metadata": {
    "id": "9tWVwfX6JY_V"
   },
   "source": [
    "#### Observations:\n",
    "1. According to the question, it is neccesary to determine the top 5 most frequent customers. If under frequent, we understand  customers with the highest number of orders then the results would be:\n",
    "<pre>\n",
    "customer_id    number of orders\n",
    "52832          13\n",
    "47440          10\n",
    "83287           9\n",
    "250494          8\n",
    "259341          7\n",
    "</pre>\n",
    "\n",
    "However, it is neccesary to pay attention that if we would consider the costs of orders (instead of  number of orders) then the top 5 customers would be a little bit different:\n",
    "<pre>\n",
    "customer_id    costs of orders   \n",
    "52832          225.80\n",
    "250494         183.83\n",
    "47440          158.18\n",
    "276192         146.46\n",
    "83287          139.31\n",
    "</pre>\n",
    "\n",
    "Due to this issue, some customers in top 5 would change the position and even be replaced. For instance customer 276192 is in top 5 among the customers by costs of orders but not among the top 5 customers by number of orders. The vice versa is for customer 259341.\n",
    "\n"
   ]
  },
  {
   "cell_type": "markdown",
   "metadata": {
    "id": "AfIc2jPaJY_V"
   },
   "source": [
    "### Multivariate Analysis"
   ]
  },
  {
   "cell_type": "markdown",
   "metadata": {
    "id": "iqiS0RT_JY_V"
   },
   "source": [
    "### **Question 12**: Perform a multivariate analysis to explore relationships between the important variables in the dataset. (It is a good idea to explore relations between numerical variables as well as relations between numerical and categorical variables) [10 marks]\n"
   ]
  },
  {
   "cell_type": "code",
   "execution_count": 29,
   "metadata": {
    "id": "3qt4MCNTJY_V"
   },
   "outputs": [
    {
     "data": {
      "image/png": "[encoded data removed]",
      "text/plain": [
       "<Figure size 1080x360 with 2 Axes>"
      ]
     },
     "metadata": {
      "needs_background": "light"
     },
     "output_type": "display_data"
    }
   ],
   "source": [
    "# First, let us check the existance of any correlation between numeric variables\n",
    "\n",
    "# NB: rating column in original df has a object type (string). Therefore, let us create a copy of df but with rating \n",
    "# as float type\n",
    "\n",
    "# Copy the database \n",
    "df_corr=df.copy()\n",
    "\n",
    "# Change the values in rating column \n",
    "df_corr['rating']=rating_new\n",
    "\n",
    "# Checking the correlation between numeric variables by heatmap\n",
    "plt.figure(figsize=(15,5))\n",
    "\n",
    "#  Plot a heatmap\n",
    "sns.heatmap(df_corr.corr(),\n",
    "            annot=True,\n",
    "            vmin=-1,\n",
    "            vmax=1);"
   ]
  },
  {
   "cell_type": "markdown",
   "metadata": {},
   "source": [
    "#### Observations:\n",
    "1. No significant correlation among numeric values was found. Therefore, further analysis between numeric variables is not neccesary. Hence let us focus on relations between numerical and categorical variables"
   ]
  },
  {
   "cell_type": "code",
   "execution_count": 30,
   "metadata": {},
   "outputs": [
    {
     "name": "stdout",
     "output_type": "stream",
     "text": [
      "restaurant_name\n",
      "Shake Shack                   3579.53\n",
      "The Meatball Shop             2145.21\n",
      "Blue Ribbon Sushi             1903.95\n",
      "Blue Ribbon Fried Chicken     1662.29\n",
      "Parm                          1112.76\n",
      "                               ...   \n",
      "Market Table                     6.79\n",
      "Wa Jeal                          6.74\n",
      "Cipriani Le Specialita           5.92\n",
      "Big Wong Restaurant _¤¾Ñ¼       5.92\n",
      "Hunan Manor                      5.72\n",
      "Name: cost_of_the_order, Length: 177, dtype: float64\n"
     ]
    },
    {
     "data": {
      "image/png": "[encoded data removed]",
      "text/plain": [
       "<Figure size 1440x360 with 1 Axes>"
      ]
     },
     "metadata": {
      "needs_background": "light"
     },
     "output_type": "display_data"
    },
    {
     "name": "stdout",
     "output_type": "stream",
     "text": [
      "Statistics on total_cost_per_restaurant:\n",
      "count     177.000000\n",
      "mean      176.919887\n",
      "std       395.540735\n",
      "min         5.720000\n",
      "25%        23.720000\n",
      "50%        54.950000\n",
      "75%       125.100000\n",
      "max      3579.530000\n",
      "Name: cost_of_the_order, dtype: float64\n"
     ]
    }
   ],
   "source": [
    "# Let us see what are total costs per each restaurant:\n",
    "\n",
    "# Calculate the total cost per each restaurant and present it in descending order\n",
    "total_cost_per_restaurant=df.groupby(by=[\"restaurant_name\"])['cost_of_the_order'].sum().sort_values(ascending=False)\n",
    "print(total_cost_per_restaurant)\n",
    "\n",
    "# Prepare the figure size\n",
    "plt.figure(figsize=(20,5))\n",
    "\n",
    "# Plot the total_cost_per_restaurant\n",
    "sns.violinplot(x=total_cost_per_restaurant)\n",
    "plt.xlabel('total_cost_per_restaurant')\n",
    "plt.show()\n",
    "\n",
    "# Print the statistics for violinplot\n",
    "print('Statistics on total_cost_per_restaurant:')\n",
    "print(total_cost_per_restaurant.describe())"
   ]
  },
  {
   "cell_type": "markdown",
   "metadata": {},
   "source": [
    "#### Observations:\n",
    "1. There is large difference between  restaurants in terms of total cost. The restaurant with the higest cost (USD 3579.53)  is Shake Shack whereas Hunan Manor earns only USD 5.72\n",
    "2. The median total cost is 55 dollars. Again this is much below than costs in top5 restaurants (from 1112 to 3579 dollars). It would be useful to conduct an additional study to understand the roots of such large difference \n",
    "\n"
   ]
  },
  {
   "cell_type": "code",
   "execution_count": 31,
   "metadata": {},
   "outputs": [
    {
     "name": "stdout",
     "output_type": "stream",
     "text": [
      "Number of all restaurants :  177\n",
      "\n",
      "Total costs of all restaurants:  31314.82\n"
     ]
    },
    {
     "data": {
      "image/png": "[encoded data removed]",
      "text/plain": [
       "<Figure size 1440x360 with 1 Axes>"
      ]
     },
     "metadata": {
      "needs_background": "light"
     },
     "output_type": "display_data"
    },
    {
     "data": {
      "text/html": [
       "<div>\n",
       "<style scoped>\n",
       "    .dataframe tbody tr th:only-of-type {\n",
       "        vertical-align: middle;\n",
       "    }\n",
       "\n",
       "    .dataframe tbody tr th {\n",
       "        vertical-align: top;\n",
       "    }\n",
       "\n",
       "    .dataframe thead th {\n",
       "        text-align: right;\n",
       "    }\n",
       "</style>\n",
       "<table border=\"1\" class=\"dataframe\">\n",
       "  <thead>\n",
       "    <tr style=\"text-align: right;\">\n",
       "      <th></th>\n",
       "      <th>TOPX</th>\n",
       "      <th>share_of_topX_in_total_costs</th>\n",
       "    </tr>\n",
       "  </thead>\n",
       "  <tbody>\n",
       "    <tr>\n",
       "      <th>0</th>\n",
       "      <td>1</td>\n",
       "      <td>11.430786</td>\n",
       "    </tr>\n",
       "    <tr>\n",
       "      <th>1</th>\n",
       "      <td>2</td>\n",
       "      <td>18.281248</td>\n",
       "    </tr>\n",
       "    <tr>\n",
       "      <th>2</th>\n",
       "      <td>3</td>\n",
       "      <td>24.361277</td>\n",
       "    </tr>\n",
       "    <tr>\n",
       "      <th>3</th>\n",
       "      <td>4</td>\n",
       "      <td>29.669594</td>\n",
       "    </tr>\n",
       "    <tr>\n",
       "      <th>4</th>\n",
       "      <td>5</td>\n",
       "      <td>33.223055</td>\n",
       "    </tr>\n",
       "    <tr>\n",
       "      <th>5</th>\n",
       "      <td>6</td>\n",
       "      <td>36.305079</td>\n",
       "    </tr>\n",
       "    <tr>\n",
       "      <th>6</th>\n",
       "      <td>7</td>\n",
       "      <td>39.246849</td>\n",
       "    </tr>\n",
       "    <tr>\n",
       "      <th>7</th>\n",
       "      <td>8</td>\n",
       "      <td>41.911721</td>\n",
       "    </tr>\n",
       "    <tr>\n",
       "      <th>8</th>\n",
       "      <td>9</td>\n",
       "      <td>44.323646</td>\n",
       "    </tr>\n",
       "    <tr>\n",
       "      <th>9</th>\n",
       "      <td>10</td>\n",
       "      <td>46.452415</td>\n",
       "    </tr>\n",
       "    <tr>\n",
       "      <th>10</th>\n",
       "      <td>11</td>\n",
       "      <td>48.561480</td>\n",
       "    </tr>\n",
       "    <tr>\n",
       "      <th>11</th>\n",
       "      <td>12</td>\n",
       "      <td>50.608019</td>\n",
       "    </tr>\n",
       "    <tr>\n",
       "      <th>12</th>\n",
       "      <td>13</td>\n",
       "      <td>52.599632</td>\n",
       "    </tr>\n",
       "    <tr>\n",
       "      <th>13</th>\n",
       "      <td>14</td>\n",
       "      <td>54.216981</td>\n",
       "    </tr>\n",
       "    <tr>\n",
       "      <th>14</th>\n",
       "      <td>15</td>\n",
       "      <td>55.788537</td>\n",
       "    </tr>\n",
       "  </tbody>\n",
       "</table>\n",
       "</div>"
      ],
      "text/plain": [
       "    TOPX  share_of_topX_in_total_costs\n",
       "0      1                     11.430786\n",
       "1      2                     18.281248\n",
       "2      3                     24.361277\n",
       "3      4                     29.669594\n",
       "4      5                     33.223055\n",
       "5      6                     36.305079\n",
       "6      7                     39.246849\n",
       "7      8                     41.911721\n",
       "8      9                     44.323646\n",
       "9     10                     46.452415\n",
       "10    11                     48.561480\n",
       "11    12                     50.608019\n",
       "12    13                     52.599632\n",
       "13    14                     54.216981\n",
       "14    15                     55.788537"
      ]
     },
     "execution_count": 31,
     "metadata": {},
     "output_type": "execute_result"
    }
   ],
   "source": [
    "# Let us see what is the Y share of the best-performant restaurants (TOPX) in the total costs (sum of all restaurants) \n",
    "\n",
    "# Checking the number of restaurants\n",
    "number_of_restaurants=len(df['restaurant_name'].unique())\n",
    "print('Number of all restaurants : ',number_of_restaurants)\n",
    "\n",
    "print('')\n",
    "\n",
    "# Checking the total sum of costs for all restaurants\n",
    "total_cost_of_all_restaurants=total_cost_per_restaurant.sum()\n",
    "print('Total costs of all restaurants: ',total_cost_of_all_restaurants)\n",
    "\n",
    "\n",
    "# Checking the share of topX restaurants in Total costs of all restaurants\n",
    "share_of_topX_in_total_costs=[]\n",
    "\n",
    "for topX in range(1,number_of_restaurants+1):\n",
    "    total_cost_of_topX=total_cost_per_restaurant.head(topX).sum()\n",
    "    \n",
    "    share_of_topX_in_total_costs.append(total_cost_of_topX/total_cost_of_all_restaurants*100)\n",
    "    \n",
    "# Prepare the figure size\n",
    "plt.figure(figsize=(20,5))\n",
    "\n",
    "# TOP X restautants. For instance top 5 \n",
    "TOPX=range(1,number_of_restaurants+1)\n",
    "\n",
    "sns.lineplot(x=TOPX, \n",
    "             y=share_of_topX_in_total_costs,\n",
    "             markers=True);\n",
    "plt.xlabel('TOP X restaurant')\n",
    "plt.ylabel('Share of TOP X restaurants in total costs')\n",
    "plt.show()\n",
    "\n",
    "# Combine TOPX and share_of_topX_in_total_costs in one dataframe\n",
    "df_TOPX=pd.DataFrame(data={'TOPX':TOPX,'share_of_topX_in_total_costs':share_of_topX_in_total_costs})\n",
    "\n",
    "# Show the results for first 15 rows (TOP1 to TOP15)\n",
    "df_TOPX.head(15)"
   ]
  },
  {
   "cell_type": "markdown",
   "metadata": {},
   "source": [
    "#### Observations:\n",
    "1. Shake Shack, the restaurant with the highest total costs of orders,holds 11.43  % share among all restaurants\n",
    "2. Only 12 restaurants (out of 177) hold 50 % of all costs\n",
    "3. Only 75 resturants (out of 177) hold almost 90 %  of all costs "
   ]
  },
  {
   "cell_type": "code",
   "execution_count": 32,
   "metadata": {},
   "outputs": [
    {
     "data": {
      "image/png": "[encoded data removed]",
      "text/plain": [
       "<Figure size 1224x720 with 1 Axes>"
      ]
     },
     "metadata": {},
     "output_type": "display_data"
    }
   ],
   "source": [
    "# Create a G graph between restaurants and customers\n",
    "G=nx.from_pandas_edgelist(df,\n",
    "                         target='customer_id',\n",
    "                         source='restaurant_name')\n",
    "\n",
    "# Set node sizes\n",
    "node_sizes = [100 if type(entry) !=int else 1 for entry in list(G.nodes())]\n",
    "node_colors = ['red' if type(entry) !=int else 'blue' for entry in list(G.nodes())]        \n",
    "\n",
    "# Draw graph\n",
    "plt.figure(figsize=(17,10))\n",
    "nx.draw(G, with_labels=False,node_size=node_sizes, node_color=node_colors)\n",
    "plt.show()\n"
   ]
  },
  {
   "cell_type": "markdown",
   "metadata": {},
   "source": [
    "#### Observations:\n",
    "1. It seems that there are two restaurants types:\n",
    "    - Restaurants (red dots) of first type are located at outer circle. Such restaurants have few customers who order only in these restaurants\n",
    "    - Restaurants of second type are located  at the center (with mesh network). Most of the customers order the food in these restaurants. Customer may order only in one restaurant but also in several restaurants. In a such case, blue dot (a customer) will have several links (black edges) with several restaurants (red dots)"
   ]
  },
  {
   "cell_type": "code",
   "execution_count": 33,
   "metadata": {},
   "outputs": [
    {
     "data": {
      "image/png": "[encoded data removed]",
      "text/plain": [
       "<Figure size 1440x360 with 1 Axes>"
      ]
     },
     "metadata": {
      "needs_background": "light"
     },
     "output_type": "display_data"
    }
   ],
   "source": [
    "# Checking if there is any cost similarity between the most ordered and less ordered cuisine type.\n",
    "\n",
    "#  Prepare the figure size\n",
    "plt.figure(figsize=(20,5))\n",
    "\n",
    "# Plot cuisine_type versus cost_of_the_order. Sort by the most ordered (on the left) to the less ordered cuisine (on the right)\n",
    "sns.boxplot(data=df,x='cuisine_type',y='cost_of_the_order', order = df['cuisine_type'].value_counts().index);"
   ]
  },
  {
   "cell_type": "markdown",
   "metadata": {},
   "source": [
    "#### Observations:\n",
    "1. Top4 ordered cuisines (American, Japanese, Italian, Chinese, ) has very similar cost boxplots.  \n",
    "2. Boxplots for Mexican, Indian and Middle Eastern cuisines also look  similar. \n",
    "3. No other similarity exist for other cuisine types"
   ]
  },
  {
   "cell_type": "code",
   "execution_count": 34,
   "metadata": {},
   "outputs": [
    {
     "name": "stdout",
     "output_type": "stream",
     "text": [
      "cuisine_type\n",
      "French            19.793889\n",
      "Southern          19.300588\n",
      "Thai              19.207895\n",
      "Spanish           18.994167\n",
      "Middle Eastern    18.820612\n",
      "Mexican           16.933117\n",
      "Indian            16.919726\n",
      "Italian           16.418691\n",
      "American          16.319829\n",
      "Chinese           16.305209\n",
      "Japanese          16.304532\n",
      "Mediterranean     15.474783\n",
      "Korean            14.001538\n",
      "Vietnamese        12.882857\n",
      "Name: cost_of_the_order, dtype: float64\n"
     ]
    },
    {
     "data": {
      "image/png": "[encoded data removed]",
      "text/plain": [
       "<Figure size 1224x360 with 1 Axes>"
      ]
     },
     "metadata": {
      "needs_background": "light"
     },
     "output_type": "display_data"
    },
    {
     "name": "stdout",
     "output_type": "stream",
     "text": [
      "Statistics for mean_cost_per_cuisine_type:\n",
      "count    14.000000\n",
      "mean     16.976960\n",
      "std       2.062542\n",
      "min      12.882857\n",
      "25%      16.304701\n",
      "50%      16.669209\n",
      "75%      18.950778\n",
      "max      19.793889\n",
      "Name: cost_of_the_order, dtype: float64\n"
     ]
    }
   ],
   "source": [
    "# Calculate mean_cost_per_cuisine_type and present it in descending order\n",
    "mean_cost_per_cuisine_type=df.groupby(by=[\"cuisine_type\"])['cost_of_the_order'].mean().sort_values(ascending=False)\n",
    "print(mean_cost_per_cuisine_type)\n",
    "\n",
    "#  Prepare the figure size\n",
    "plt.figure(figsize=(17,5))\n",
    "\n",
    "# Plot mean_cost_per_cuisine_type\n",
    "sns.violinplot(x=mean_cost_per_cuisine_type);\n",
    "\n",
    "# Rotate the names at x-axis\n",
    "plt.xticks(rotation=90);\n",
    "plt.show()\n",
    "\n",
    "# Show the statistics\n",
    "print('Statistics for mean_cost_per_cuisine_type:')\n",
    "print(mean_cost_per_cuisine_type.describe())"
   ]
  },
  {
   "cell_type": "markdown",
   "metadata": {},
   "source": [
    "#### Observations:\n",
    "1. The cheapest cuisine is vietnamese\n",
    "2. The most expensive cuisine is french\n",
    "3. The most ordered cusines, American, Japanese, Italian,Chinese (from previous figure) are close to mean costs "
   ]
  },
  {
   "cell_type": "code",
   "execution_count": 35,
   "metadata": {},
   "outputs": [
    {
     "data": {
      "image/png": "[encoded data removed]",
      "text/plain": [
       "<Figure size 1224x360 with 1 Axes>"
      ]
     },
     "metadata": {
      "needs_background": "light"
     },
     "output_type": "display_data"
    },
    {
     "name": "stdout",
     "output_type": "stream",
     "text": [
      "Average rating of cuisine:\n",
      "cuisine_type\n",
      "Spanish           4.833333\n",
      "Thai              4.666667\n",
      "Indian            4.540000\n",
      "Mexican           4.416667\n",
      "Japanese          4.373626\n",
      "Italian           4.360465\n",
      "Chinese           4.338346\n",
      "Southern          4.307692\n",
      "French            4.300000\n",
      "American          4.298913\n",
      "Middle Eastern    4.235294\n",
      "Mediterranean     4.218750\n",
      "Korean            4.111111\n",
      "Vietnamese        4.000000\n",
      "Name: rating, dtype: float64\n"
     ]
    }
   ],
   "source": [
    "# Find the index of rows without rating\n",
    "index_to_drop = df[df['rating'] == 'Not given'].index\n",
    "\n",
    "#  Drop the rows without ratings\n",
    "df_new=df.drop(index_to_drop)\n",
    "\n",
    "# Convert the remaining rows from object to float\n",
    "df_new['rating']=df_new['rating'].astype(float)\n",
    "\n",
    "#  Find the mean rating by cuisine type\n",
    "cusine_ratings=df_new.groupby(by=[\"cuisine_type\"])['rating'].mean().sort_values(ascending=False)\n",
    "\n",
    "#  Prepare the figure size\n",
    "plt.figure(figsize=(17,5))\n",
    "\n",
    "# Plot number of received ratings per cuisine types (in order from the highest mean rating to the lowest mean rating)\n",
    "sns.countplot(data=df_new, x='cuisine_type',order = df_new.groupby(by=[\"cuisine_type\"])['rating'].mean().sort_values(ascending=False).index, hue='rating');\n",
    "\n",
    "# Rotate the names at x-axis\n",
    "plt.xticks(rotation=90);\n",
    "plt.show()\n",
    "\n",
    "\n",
    "# Show the average rating\n",
    "print('Average rating of cuisine:')\n",
    "print(cusine_ratings)"
   ]
  },
  {
   "cell_type": "markdown",
   "metadata": {},
   "source": [
    "#### Observations:\n",
    "1. All cuisines types have average rating above 4\n",
    "\n",
    "2. The cuisine types, which are not neccesary the most ordered food, can have the highest average rating. This may be explained by relatively low number of orders which are actually evaluated by few (but seems more loyal) customers "
   ]
  },
  {
   "cell_type": "code",
   "execution_count": 36,
   "metadata": {},
   "outputs": [
    {
     "name": "stdout",
     "output_type": "stream",
     "text": [
      "cuisine_type\n",
      "Southern          27.588235\n",
      "Chinese           27.511628\n",
      "Japanese          27.510638\n",
      "Italian           27.483221\n",
      "American          27.440068\n",
      "Thai              27.315789\n",
      "Indian            27.109589\n",
      "Mediterranean     27.000000\n",
      "Spanish           26.916667\n",
      "French            26.888889\n",
      "Mexican           26.727273\n",
      "Middle Eastern    26.673469\n",
      "Vietnamese        25.714286\n",
      "Korean            25.461538\n",
      "Name: food_preparation_time, dtype: float64\n"
     ]
    },
    {
     "data": {
      "image/png": "[encoded data removed]",
      "text/plain": [
       "<Figure size 1224x360 with 1 Axes>"
      ]
     },
     "metadata": {
      "needs_background": "light"
     },
     "output_type": "display_data"
    },
    {
     "name": "stdout",
     "output_type": "stream",
     "text": [
      "Statistics for cuisine_by_preparation_time:\n",
      "count    14.000000\n",
      "mean     26.952949\n",
      "std       0.656134\n",
      "min      25.461538\n",
      "25%      26.767677\n",
      "50%      27.054795\n",
      "75%      27.472433\n",
      "max      27.588235\n",
      "Name: food_preparation_time, dtype: float64\n"
     ]
    }
   ],
   "source": [
    "# Checking the cuisine_type by mean food_preparation_time\n",
    "cuisine_by_preparation_time=df.groupby(by=[\"cuisine_type\"])['food_preparation_time'].mean().sort_values(ascending=False)\n",
    "print(cuisine_by_preparation_time)\n",
    "\n",
    "#  Prepare the figure size\n",
    "plt.figure(figsize=(17,5))\n",
    "\n",
    "#  Plot the figure\n",
    "sns.boxplot(x=cuisine_by_preparation_time);\n",
    "plt.show()\n",
    "\n",
    "# Print the statistics\n",
    "print('Statistics for cuisine_by_preparation_time:')\n",
    "print(cuisine_by_preparation_time.describe())\n"
   ]
  },
  {
   "cell_type": "markdown",
   "metadata": {},
   "source": [
    "#### Observations:\n",
    "1. There is no drastical difference in mean preparation time between cuisines even if boxplot shows outliers"
   ]
  },
  {
   "cell_type": "code",
   "execution_count": 37,
   "metadata": {},
   "outputs": [
    {
     "data": {
      "image/png": "[encoded data removed]",
      "text/plain": [
       "<Figure size 1224x360 with 1 Axes>"
      ]
     },
     "metadata": {
      "needs_background": "light"
     },
     "output_type": "display_data"
    },
    {
     "name": "stdout",
     "output_type": "stream",
     "text": [
      "Statistics for delivery_time:\n",
      "count    177.000000\n",
      "mean      24.219969\n",
      "std        3.407856\n",
      "min       15.000000\n",
      "25%       22.916667\n",
      "50%       24.242424\n",
      "75%       26.000000\n",
      "max       33.000000\n",
      "Name: delivery_time, dtype: float64\n"
     ]
    }
   ],
   "source": [
    "# Checking the restaurants by mean deleivery time\n",
    "restaurants_by_delivery_time=df.groupby(by=[\"restaurant_name\"])['delivery_time'].mean().sort_values(ascending=False)\n",
    "\n",
    "#  Prepare the figure size\n",
    "plt.figure(figsize=(17,5))\n",
    "\n",
    "#  Plot the figure\n",
    "sns.violinplot(x=restaurants_by_delivery_time);\n",
    "plt.show()\n",
    "\n",
    "# Print the statistics\n",
    "print('Statistics for delivery_time:')\n",
    "print(restaurants_by_delivery_time.describe())\n"
   ]
  },
  {
   "cell_type": "markdown",
   "metadata": {},
   "source": [
    "#### Observations:\n",
    "1. It seems there is a normal distrbution of delivery time. Additional study may be needed to understand the causes "
   ]
  },
  {
   "cell_type": "code",
   "execution_count": 38,
   "metadata": {},
   "outputs": [
    {
     "data": {
      "image/png": "[encoded data removed]",
      "text/plain": [
       "<Figure size 1224x360 with 1 Axes>"
      ]
     },
     "metadata": {
      "needs_background": "light"
     },
     "output_type": "display_data"
    },
    {
     "name": "stdout",
     "output_type": "stream",
     "text": [
      "Statistics for restaurant_by_cost_of_the_order:\n",
      "count    177.000000\n",
      "mean      16.559093\n",
      "std        5.239390\n",
      "min        5.720000\n",
      "25%       13.120000\n",
      "50%       16.060000\n",
      "75%       18.852222\n",
      "max       32.930000\n",
      "Name: cost_of_the_order, dtype: float64\n"
     ]
    }
   ],
   "source": [
    "# Checking the restaurants by mean cost_of_the_order\n",
    "restaurant_by_cost_of_the_order=df.groupby(by=[\"restaurant_name\"])['cost_of_the_order'].mean().sort_values(ascending=False)\n",
    "\n",
    "#  Prepare the figure size\n",
    "plt.figure(figsize=(17,5))\n",
    "\n",
    "#  Plot the figure\n",
    "sns.violinplot(x=restaurant_by_cost_of_the_order);\n",
    "plt.show()\n",
    "\n",
    "# Print the statistics\n",
    "print('Statistics for restaurant_by_cost_of_the_order:')\n",
    "print(restaurant_by_cost_of_the_order.describe())"
   ]
  },
  {
   "cell_type": "markdown",
   "metadata": {},
   "source": [
    "#### Observations:\n",
    "1. It seems there is normal distribution of restaurant_by_cost_of_the_order. Additional study may be required to understand the reasons of it"
   ]
  },
  {
   "cell_type": "code",
   "execution_count": 39,
   "metadata": {},
   "outputs": [
    {
     "data": {
      "image/png": "[encoded data removed]",
      "text/plain": [
       "<Figure size 1224x360 with 1 Axes>"
      ]
     },
     "metadata": {
      "needs_background": "light"
     },
     "output_type": "display_data"
    },
    {
     "name": "stdout",
     "output_type": "stream",
     "text": [
      "Statistics for restaurant_by_food_preparation_time:\n",
      "count    177.000000\n",
      "mean      27.237143\n",
      "std        3.271198\n",
      "min       20.000000\n",
      "25%       25.666667\n",
      "50%       27.181818\n",
      "75%       28.724138\n",
      "max       35.000000\n",
      "Name: food_preparation_time, dtype: float64\n"
     ]
    }
   ],
   "source": [
    "# Checking the restaurants by food_preparation_time\n",
    "restaurant_by_food_preparation_time=df.groupby(by=[\"restaurant_name\"])['food_preparation_time'].mean().sort_values(ascending=False)\n",
    "\n",
    "\n",
    "#  Prepare the figure size\n",
    "plt.figure(figsize=(17,5))\n",
    "\n",
    "#  Plot the figure\n",
    "sns.violinplot(x=restaurant_by_food_preparation_time);\n",
    "plt.show()\n",
    "\n",
    "# Print the statistics\n",
    "print('Statistics for restaurant_by_food_preparation_time:')\n",
    "print(restaurant_by_food_preparation_time.describe())"
   ]
  },
  {
   "cell_type": "markdown",
   "metadata": {},
   "source": [
    "#### Observations:\n",
    "1. It seems there is normal distribution of restaurant_by_food_preparation_time. Additional study may be required to understand the reasons of it"
   ]
  },
  {
   "cell_type": "markdown",
   "metadata": {
    "id": "YLkMf09YJY_V"
   },
   "source": [
    "### **Question 13:** The company wants to provide a promotional offer in the advertisement of the restaurants. The condition to get the offer is that the restaurants must have a rating count of more than 50 and the average rating should be greater than 4. Find the restaurants fulfilling the criteria to get the promotional offer. [3 marks]"
   ]
  },
  {
   "cell_type": "code",
   "execution_count": 40,
   "metadata": {
    "id": "0M_QDvbYJY_V"
   },
   "outputs": [
    {
     "data": {
      "text/html": [
       "<div>\n",
       "<style scoped>\n",
       "    .dataframe tbody tr th:only-of-type {\n",
       "        vertical-align: middle;\n",
       "    }\n",
       "\n",
       "    .dataframe tbody tr th {\n",
       "        vertical-align: top;\n",
       "    }\n",
       "\n",
       "    .dataframe thead th {\n",
       "        text-align: right;\n",
       "    }\n",
       "</style>\n",
       "<table border=\"1\" class=\"dataframe\">\n",
       "  <thead>\n",
       "    <tr style=\"text-align: right;\">\n",
       "      <th></th>\n",
       "      <th>mean_rating</th>\n",
       "      <th>number_of_ratings</th>\n",
       "    </tr>\n",
       "    <tr>\n",
       "      <th>restaurant_name</th>\n",
       "      <th></th>\n",
       "      <th></th>\n",
       "    </tr>\n",
       "  </thead>\n",
       "  <tbody>\n",
       "    <tr>\n",
       "      <th>The Meatball Shop</th>\n",
       "      <td>4.511905</td>\n",
       "      <td>84</td>\n",
       "    </tr>\n",
       "    <tr>\n",
       "      <th>Blue Ribbon Fried Chicken</th>\n",
       "      <td>4.328125</td>\n",
       "      <td>64</td>\n",
       "    </tr>\n",
       "    <tr>\n",
       "      <th>Shake Shack</th>\n",
       "      <td>4.278195</td>\n",
       "      <td>133</td>\n",
       "    </tr>\n",
       "    <tr>\n",
       "      <th>Blue Ribbon Sushi</th>\n",
       "      <td>4.219178</td>\n",
       "      <td>73</td>\n",
       "    </tr>\n",
       "  </tbody>\n",
       "</table>\n",
       "</div>"
      ],
      "text/plain": [
       "                           mean_rating  number_of_ratings\n",
       "restaurant_name                                          \n",
       "The Meatball Shop             4.511905                 84\n",
       "Blue Ribbon Fried Chicken     4.328125                 64\n",
       "Shake Shack                   4.278195                133\n",
       "Blue Ribbon Sushi             4.219178                 73"
      ]
     },
     "execution_count": 40,
     "metadata": {},
     "output_type": "execute_result"
    }
   ],
   "source": [
    "# First, it is neccessary to drop the rows without ratings\n",
    "\n",
    "# Find the index of rows without rating\n",
    "index_to_drop = df[df['rating'] == 'Not given'].index\n",
    "\n",
    "#  Drop the rows without ratings\n",
    "df_new=df.drop(index_to_drop)\n",
    "\n",
    "# Convert the remaining rows from object to float\n",
    "df_new['rating']=df_new['rating'].astype(float)\n",
    "\n",
    "# Calculate the mean ratings per each restaurant\n",
    "mean_ratings=df_new.groupby(by=[\"restaurant_name\"])['rating'].mean().sort_values(ascending=False)\n",
    "\n",
    "# Calculate the number of given ratings\n",
    "number_of_ratings=df_new.groupby(by=[\"restaurant_name\"])['rating'].size().sort_values(ascending=False)\n",
    "\n",
    "# Create a merged dataframe with mean_ratings and number_of_ratings\n",
    "merged_df=pd.merge(mean_ratings,number_of_ratings,how='outer',on='restaurant_name')\n",
    "\n",
    "#  Rename columns \n",
    "merged_df.rename(columns={\"rating_x\": \"mean_rating\", \"rating_y\": \"number_of_ratings\"},inplace=True)\n",
    "\n",
    "# Find the required restaurants \n",
    "targeted_restaurants=merged_df[(merged_df['number_of_ratings']>50)&(merged_df['mean_rating']>4)]\n",
    "\n",
    "# Show results\n",
    "targeted_restaurants"
   ]
  },
  {
   "cell_type": "markdown",
   "metadata": {
    "id": "10uryUMhJY_V"
   },
   "source": [
    "#### Observations:\n",
    "1. There are 4 restaurants corresponding to given criteria: \n",
    "\n",
    "<pre>\n",
    "restaurant_name            mean_rating   number_of_ratings\n",
    "The Meatball Shop\t          4.511905\t  84\n",
    "Blue Ribbon Fried Chicken\t  4.328125\t  64\n",
    "Shake Shack\t                4.278195     133\n",
    "Blue Ribbon Sushi\t          4.219178\t  73\n",
    "</pre>\n",
    "\n"
   ]
  },
  {
   "cell_type": "markdown",
   "metadata": {
    "id": "1gvWBkRUJY_V"
   },
   "source": [
    "### **Question 14:** The company charges the restaurant 25% on the orders having cost greater than 20 dollars and 15% on the orders having cost greater than 5 dollars. Find the net revenue generated by the company across all orders. [3 marks]"
   ]
  },
  {
   "cell_type": "code",
   "execution_count": 41,
   "metadata": {
    "id": "rEjbnTNEJY_W"
   },
   "outputs": [
    {
     "name": "stdout",
     "output_type": "stream",
     "text": [
      "net revenue of FoodHub is  6166.303 $\n"
     ]
    }
   ],
   "source": [
    "# Find the indexes when cost is greater than 20 dollars \n",
    "index_higher_20 = df[df['cost_of_the_order']>20].index\n",
    "\n",
    "# Find the indexes when cost is between 5 and 20 (including)\n",
    "index_between_5_and_20 = df[(df['cost_of_the_order']>5)&(df['cost_of_the_order']<=20)].index\n",
    "\n",
    "# Find the sum of total costs before applying the charges\n",
    "total_cost_before_charges=df['cost_of_the_order'].sum()\n",
    "\n",
    "# Apply charges to cost_of_the_order (in the same df)\n",
    "df.loc[index_higher_20,'cost_of_the_order']=df.loc[index_higher_20,'cost_of_the_order']*0.75\n",
    "df.loc[index_between_5_and_20,'cost_of_the_order']=df.loc[index_between_5_and_20,'cost_of_the_order']*0.85\n",
    "\n",
    "# Find the sum of total costs after applying the charges\n",
    "total_cost_after_charges=df['cost_of_the_order'].sum()\n",
    "\n",
    "net_revenue=total_cost_before_charges-total_cost_after_charges\n",
    "\n",
    "# net_revenue=df_new.groupby(by=[\"restaurant_name\"])['cost_of_the_order'].sum().sort_values(ascending=False)\n",
    "print('net revenue of FoodHub is ', net_revenue,'$')"
   ]
  },
  {
   "cell_type": "markdown",
   "metadata": {
    "id": "XHCEJgH0JY_W"
   },
   "source": [
    "#### Observations:\n",
    "1. Net revenue of FoodHub is  6166.303 $\n"
   ]
  },
  {
   "cell_type": "markdown",
   "metadata": {
    "id": "pRlVW-oeJY_W"
   },
   "source": [
    "### **Question 15:** The company wants to analyze the total time required to deliver the food. What percentage of orders take more than 60 minutes to get delivered from the time the order is placed? (The food has to be prepared and then delivered.) [2 marks]"
   ]
  },
  {
   "cell_type": "code",
   "execution_count": 42,
   "metadata": {
    "id": "zxoTrxfLJY_W"
   },
   "outputs": [
    {
     "name": "stdout",
     "output_type": "stream",
     "text": [
      "Percentage of orders greater than 60 min relative to all orders: 10.537407797681771 %\n"
     ]
    },
    {
     "data": {
      "text/html": [
       "<div>\n",
       "<style scoped>\n",
       "    .dataframe tbody tr th:only-of-type {\n",
       "        vertical-align: middle;\n",
       "    }\n",
       "\n",
       "    .dataframe tbody tr th {\n",
       "        vertical-align: top;\n",
       "    }\n",
       "\n",
       "    .dataframe thead th {\n",
       "        text-align: right;\n",
       "    }\n",
       "</style>\n",
       "<table border=\"1\" class=\"dataframe\">\n",
       "  <thead>\n",
       "    <tr style=\"text-align: right;\">\n",
       "      <th></th>\n",
       "      <th>restaurant_name</th>\n",
       "      <th>orders_greater_60min</th>\n",
       "      <th>total_orders</th>\n",
       "      <th>percentage_of_orders_greater_60min</th>\n",
       "    </tr>\n",
       "  </thead>\n",
       "  <tbody>\n",
       "    <tr>\n",
       "      <th>0</th>\n",
       "      <td>Shake Shack</td>\n",
       "      <td>26.0</td>\n",
       "      <td>219</td>\n",
       "      <td>11.872146</td>\n",
       "    </tr>\n",
       "    <tr>\n",
       "      <th>2</th>\n",
       "      <td>The Meatball Shop</td>\n",
       "      <td>13.0</td>\n",
       "      <td>132</td>\n",
       "      <td>9.848485</td>\n",
       "    </tr>\n",
       "    <tr>\n",
       "      <th>1</th>\n",
       "      <td>Blue Ribbon Sushi</td>\n",
       "      <td>19.0</td>\n",
       "      <td>119</td>\n",
       "      <td>15.966387</td>\n",
       "    </tr>\n",
       "    <tr>\n",
       "      <th>5</th>\n",
       "      <td>Blue Ribbon Fried Chicken</td>\n",
       "      <td>6.0</td>\n",
       "      <td>96</td>\n",
       "      <td>6.250000</td>\n",
       "    </tr>\n",
       "    <tr>\n",
       "      <th>4</th>\n",
       "      <td>Parm</td>\n",
       "      <td>6.0</td>\n",
       "      <td>68</td>\n",
       "      <td>8.823529</td>\n",
       "    </tr>\n",
       "    <tr>\n",
       "      <th>...</th>\n",
       "      <td>...</td>\n",
       "      <td>...</td>\n",
       "      <td>...</td>\n",
       "      <td>...</td>\n",
       "    </tr>\n",
       "    <tr>\n",
       "      <th>146</th>\n",
       "      <td>Coppola's East</td>\n",
       "      <td>0.0</td>\n",
       "      <td>1</td>\n",
       "      <td>0.000000</td>\n",
       "    </tr>\n",
       "    <tr>\n",
       "      <th>147</th>\n",
       "      <td>Emporio</td>\n",
       "      <td>0.0</td>\n",
       "      <td>1</td>\n",
       "      <td>0.000000</td>\n",
       "    </tr>\n",
       "    <tr>\n",
       "      <th>148</th>\n",
       "      <td>Wa Jeal</td>\n",
       "      <td>0.0</td>\n",
       "      <td>1</td>\n",
       "      <td>0.000000</td>\n",
       "    </tr>\n",
       "    <tr>\n",
       "      <th>149</th>\n",
       "      <td>Le Zie 2000 Trattoria</td>\n",
       "      <td>0.0</td>\n",
       "      <td>1</td>\n",
       "      <td>0.000000</td>\n",
       "    </tr>\n",
       "    <tr>\n",
       "      <th>176</th>\n",
       "      <td>'wichcraft</td>\n",
       "      <td>0.0</td>\n",
       "      <td>1</td>\n",
       "      <td>0.000000</td>\n",
       "    </tr>\n",
       "  </tbody>\n",
       "</table>\n",
       "<p>177 rows × 4 columns</p>\n",
       "</div>"
      ],
      "text/plain": [
       "               restaurant_name  orders_greater_60min  total_orders  \\\n",
       "0                  Shake Shack                  26.0           219   \n",
       "2            The Meatball Shop                  13.0           132   \n",
       "1            Blue Ribbon Sushi                  19.0           119   \n",
       "5    Blue Ribbon Fried Chicken                   6.0            96   \n",
       "4                         Parm                   6.0            68   \n",
       "..                         ...                   ...           ...   \n",
       "146             Coppola's East                   0.0             1   \n",
       "147                    Emporio                   0.0             1   \n",
       "148                    Wa Jeal                   0.0             1   \n",
       "149      Le Zie 2000 Trattoria                   0.0             1   \n",
       "176                 'wichcraft                   0.0             1   \n",
       "\n",
       "     percentage_of_orders_greater_60min  \n",
       "0                             11.872146  \n",
       "2                              9.848485  \n",
       "1                             15.966387  \n",
       "5                              6.250000  \n",
       "4                              8.823529  \n",
       "..                                  ...  \n",
       "146                            0.000000  \n",
       "147                            0.000000  \n",
       "148                            0.000000  \n",
       "149                            0.000000  \n",
       "176                            0.000000  \n",
       "\n",
       "[177 rows x 4 columns]"
      ]
     },
     "execution_count": 42,
     "metadata": {},
     "output_type": "execute_result"
    }
   ],
   "source": [
    "# total time required to deliver the food\n",
    "df['Total_time']=df['food_preparation_time']+df['delivery_time']\n",
    "\n",
    "# Find orders_greater_60min per restaurant\n",
    "orders_greater_60min=df[df['Total_time']>60]\n",
    "orders_greater_60min=orders_greater_60min[\"restaurant_name\"].value_counts().to_frame(name=\"orders_greater_60min\")\n",
    "orders_greater_60min=orders_greater_60min.reset_index()\n",
    "orders_greater_60min.columns = ['restaurant_name', 'orders_greater_60min'] # change column names\n",
    "\n",
    "# Find total_orders per restaurant\n",
    "total_orders=df[\"restaurant_name\"].value_counts().to_frame(name=\"total_orders\")\n",
    "total_orders=total_orders.reset_index()\n",
    "total_orders.columns = ['restaurant_name', 'total_orders'] # change column names\n",
    "\n",
    "# Print percentage of orders take more than 60 minutes to get delivered from the time the order is placed\n",
    "print('Percentage of orders greater than 60 min relative to all orders:',\n",
    "      orders_greater_60min['orders_greater_60min'].sum()/total_orders['total_orders'].sum()*100, '%')\n",
    "\n",
    "# Present results in dataframe\n",
    "merged_df=pd.merge(orders_greater_60min,total_orders,how='outer',on='restaurant_name').fillna(0)\n",
    "merged_df['percentage_of_orders_greater_60min']=merged_df['orders_greater_60min']/merged_df['total_orders']*100\n",
    "merged_df.sort_values(by='total_orders',ascending=False)"
   ]
  },
  {
   "cell_type": "markdown",
   "metadata": {
    "id": "iqzBXn2yJY_W"
   },
   "source": [
    "#### Observations:\n",
    "1. 10.5% of orders (or 177 orders out)  take more than 60 minutes to get delivered from the time the order is placed\n",
    "2. Additional dataframe was created for further analysis (if needed)"
   ]
  },
  {
   "cell_type": "markdown",
   "metadata": {
    "id": "bUd6cYpPJY_W"
   },
   "source": [
    "### **Question 16:** The company wants to analyze the delivery time of the orders on weekdays and weekends. How does the mean delivery time vary during weekdays and weekends? [2 marks]"
   ]
  },
  {
   "cell_type": "code",
   "execution_count": 43,
   "metadata": {
    "id": "pIU5xZZ6JY_W"
   },
   "outputs": [
    {
     "data": {
      "text/plain": [
       "day_of_the_week\n",
       "Weekday    28.305882\n",
       "Weekend    22.436740\n",
       "Name: delivery_time, dtype: float64"
      ]
     },
     "execution_count": 43,
     "metadata": {},
     "output_type": "execute_result"
    }
   ],
   "source": [
    "#  Mean delivery time of the orders on weekdays and weekends\n",
    "mean_delivery_time=df_new.groupby(by=[\"day_of_the_week\"])['delivery_time'].mean().sort_values(ascending=False)\n",
    "mean_delivery_time"
   ]
  },
  {
   "cell_type": "markdown",
   "metadata": {
    "id": "8H-ODxbVJY_W"
   },
   "source": [
    "#### Observations:\n",
    "1. The mean time during weekday is 28 min and 22.4 min during the weekends. "
   ]
  },
  {
   "cell_type": "markdown",
   "metadata": {
    "id": "17roJywaJY_W"
   },
   "source": [
    "### Conclusion and Recommendations"
   ]
  },
  {
   "cell_type": "markdown",
   "metadata": {
    "id": "ZdX2Wz4FJY_W"
   },
   "source": [
    "### **Question 17:** What are your conclusions from the analysis? What recommendations would you like to share to help improve the business? (You can use cuisine type and feedback ratings to drive your business recommendations.) [6 marks]"
   ]
  },
  {
   "cell_type": "markdown",
   "metadata": {
    "id": "VTugVsL4Ddz-"
   },
   "source": [
    "### Conclusions:\n",
    "*  In average, a customer does 1.58 orders in FoodHub while median value is only 1 order. This means that at least 50 % of customers (600 users) after ordering once did not return to FoodHub during the period of dataset (whose duration is unknown => additional information is needed).If given dataset is provided for short duration (e.g. week) such non-returning customers would be rather normal (as not many customers may order the food several times). However, if the given datasets represents non-returning clients for a long duration, then such high share of non-returning customers may enable a conducting a more complex analysis of reasons and finally the development of the customer retention strategy for FoodHub. \n",
    "\n",
    "*  Some errors were identified in restaurant names. Therefore, it may be neccesary to do a general revision of existing restaurant names.\n",
    "\n",
    "*  The most popular cuisine among FoodHub users is American while Vietnamese cuisine remains the less demanded. Japanese, Italian and Chinse cuisines are also popular among FoodHub users. (2,3,4 places correspondingly). Second popular group could be Mexican, Indian, MiddleEastern, and Mediterranean cuisines (5,6,7,8 places correspondingly). The third group would be remaining cuisines: French, Southern, Korean, Spanish and Vietnamese. This ranking corresponds to both weekdays and weekend.\n",
    "\n",
    "* All cuisines have the average rating above 4. Among all ratings given, 51% are equal to 5 and 33% of given ratings are 4. Hence, 84% of orders received excellent or good evaluation. Only 16% of orders received relatively-low rating. No rating below 3 is presented.(Additional study should be probably done to better understand the reasons of relatively-low ratings).\n",
    "\n",
    "*  Most of the orders are done during the weekends- 1351 versus 547 during weekdays. Weekend orders, in terms of number, are 2.5 times higher than those during the weekdays. At the same time, the average cost of order during the weekend is the same as during weekdays - 13 USD. As a result, the total costs of orders during the weekday is USD 8922.22 whereas for weekends is 2.5 times higher USD 22392.60. The difference in total costs between weekdays and weekends is solely caused by number of orders (and not by the costs of these orders as the latter is approximatevely the same).\n",
    "\n",
    "*   As distribution plot of cost_of_the_order showed three peaks, it may be possible that there are 3 price categories. (Additional study should be probably done to better understand it). The cheapest cuisine is vietnamese while the most expensive cuisine is french. The most ordered cusines, American, Japanese, Italian,Chinese are close to mean costs among all cuisines\n",
    "\n",
    "*   The preparation of food takes 27.37 min in average. Also, 27 min represents a median. The fastest food preparation takes 20 minutes while the slowest one takes 35 minutes. There is no significant difference between cuisines types in terms of mean food preparation time. \n",
    "\n",
    "*   In average, the food is delived for 24 minutes while the fastest delivery was 15 min and the the slowest is 33 minuntes. \n",
    "\n",
    "*   Concenring the discount vouchers to the top 5 most frequent customers, it may be neccesary to reconsider the list of customers. Depending on the understanding of \"frequent\", the top 5 list may change. For instance customer 276192 is in top 5 among the customers by costs of orders but not among the top 5 customers by number of orders. The vice versa is for customer 259341\n",
    "\n",
    "*  No significant correlation among numeric values of df was found. Therefore, the analysis between numeric variables was not neccesary.\n",
    "\n",
    "* There is large difference between  restaurants in terms of total earnings. For isntance, the restaurant with the higest cost (USD 3579.53)  is Shake Shack whereas Hunan Manor earns only USD 5.72. The median total cost is 55 dollars. Again this is much below than costs in top5 restaurants (from 1112 to 3579 dollars). It would be useful to conduct an additional study to understand the roots of such large difference \n",
    "\n",
    "* Companies have various shares in FoodHub marketplace. For instance, the  Shake Shack, the restaurant with the highest total costs of orders,holds 11.43 % share among all restaurants. Special attention should be paid to top groups of restaurants as they generate the main revenue at FoodHub. For instance, only 12 restaurants (out of 177) hold 50 % of all costs. Only 75 resturants (out of 177) hold almost 90 % of all costs. \n",
    "\n",
    "*  Two groups customer-restaurant relation were identified. Restaurants  of first type have few customers who order only in these restaurants. Restaurants of second type represent places where majority of the customers order the food. At the same time, customer of such restaurants may order the food as only in one restaurant but also in several restaurants. The network graph was constructed to show each relation for further analysis. \n",
    "\n",
    "* Preliminarly, it was shown that Top4 ordered cuisines (American, Japanese, Italian, Chinese, ) has very similar cost distrbutions.  Cost distrbution for Mexican, Indian and Middle Eastern cuisines also look  similar.  It seems that no  similarity in cost distrbution exists for other cuisine types\n",
    "\n",
    "*  All given questions were responded. "
   ]
  },
  {
   "cell_type": "markdown",
   "metadata": {
    "id": "PWnsI0i_guWJ"
   },
   "source": [
    "### Recommendations:\n",
    "\n",
    "*  Additional study for understanding why at least 50 % of customers ordered only once may be conducted to develop later the customer retention strategy for FoodHub.\n",
    "* Restaurant names in database should be verified and clear the errors. \n",
    "* Additional study should be probably done to better understand the reasons of 16 % relatively-low ratings\n",
    "* Additional study should be probably done to better understand if there is a casuality between price and orders (as the most ordered cuisines correspond to the mean prices)\n",
    "* It would be useful to conduct an additional study to understand the roots of  large difference between top restaurants and less-performant restaurants on the FoodHub as only 12 restaurants (out of 177) hold 50 % of all costs\n",
    "* It may be useful to study the relation between customer and restaurants (see network graph) for better targeting both groups. \n"
   ]
  },
  {
   "cell_type": "markdown",
   "metadata": {
    "id": "tSoucKKbg9Hc"
   },
   "source": [
    "---"
   ]
  }
 ],
 "metadata": {
  "colab": {
   "collapsed_sections": [],
   "name": "PYF_Project_LearnerNotebook_FullCode.ipynb",
   "provenance": []
  },
  "kernelspec": {
   "display_name": "Python 3 (ipykernel)",
   "language": "python",
   "name": "python3"
  },
  "language_info": {
   "codemirror_mode": {
    "name": "ipython",
    "version": 3
   },
   "file_extension": ".py",
   "mimetype": "text/x-python",
   "name": "python",
   "nbconvert_exporter": "python",
   "pygments_lexer": "ipython3",
   "version": "3.9.7"
  }
 },
 "nbformat": 4,
 "nbformat_minor": 1
}
