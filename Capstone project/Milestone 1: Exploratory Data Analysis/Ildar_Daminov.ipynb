{
 "cells": [
  {
   "cell_type": "markdown",
   "metadata": {
    "id": "Ftb1NcHrW1XA"
   },
   "source": [
    "**Objective**\n",
    "\n",
    "The objective of milestone-1 is to perform data preprocessing and EDA to understand customer churn. The output of milestone-1 will be used in milestones-2 and 3 to build machine learning models to predict customer churn and to create an interactive dashboard for decision making. In order to do that, follow the solution approach given in the capstone project overview and use the learners file for milestone-1 to answer the business questions."
   ]
  },
  {
   "cell_type": "markdown",
   "metadata": {
    "id": "dW21ub2pYB5C"
   },
   "source": [
    "## Let us start by importing the required libraries "
   ]
  },
  {
   "cell_type": "code",
   "execution_count": 1,
   "metadata": {
    "id": "zw1ZKh8hXeTJ"
   },
   "outputs": [],
   "source": [
    "# Import the libraries\n",
    "\n",
    "# import libraries for data manipulation\n",
    "import numpy as np\n",
    "import pandas as pd\n",
    "\n",
    "# import libraries for data visualization\n",
    "import matplotlib.pyplot as plt\n",
    "import seaborn as sns"
   ]
  },
  {
   "cell_type": "markdown",
   "metadata": {
    "id": "bGF_d3LvYInK"
   },
   "source": [
    "## Import the data  "
   ]
  },
  {
   "cell_type": "code",
   "execution_count": 2,
   "metadata": {
    "id": "HAkg7ipAYI94"
   },
   "outputs": [],
   "source": [
    "# Read the data\n",
    "df = pd.read_csv('milestone1_dataset.csv')"
   ]
  },
  {
   "cell_type": "markdown",
   "metadata": {
    "id": "zc4UkrW91EYy"
   },
   "source": [
    "## Data Understanding "
   ]
  },
  {
   "cell_type": "markdown",
   "metadata": {
    "id": "0pq0DnrGYLhM"
   },
   "source": [
    "### Write a code to display the first and last 5 rows of the dataset. "
   ]
  },
  {
   "cell_type": "code",
   "execution_count": 3,
   "metadata": {
    "id": "ZIRNaTw4YRPO"
   },
   "outputs": [
    {
     "data": {
      "text/html": [
       "<div>\n",
       "<style scoped>\n",
       "    .dataframe tbody tr th:only-of-type {\n",
       "        vertical-align: middle;\n",
       "    }\n",
       "\n",
       "    .dataframe tbody tr th {\n",
       "        vertical-align: top;\n",
       "    }\n",
       "\n",
       "    .dataframe thead th {\n",
       "        text-align: right;\n",
       "    }\n",
       "</style>\n",
       "<table border=\"1\" class=\"dataframe\">\n",
       "  <thead>\n",
       "    <tr style=\"text-align: right;\">\n",
       "      <th></th>\n",
       "      <th>CustomerID</th>\n",
       "      <th>Gender</th>\n",
       "      <th>Senior_Citizen</th>\n",
       "      <th>Partner</th>\n",
       "      <th>Dependents</th>\n",
       "      <th>Tenure</th>\n",
       "      <th>Phone_Service</th>\n",
       "      <th>Multiple_Lines</th>\n",
       "      <th>Internet_Service</th>\n",
       "      <th>Online_Security</th>\n",
       "      <th>...</th>\n",
       "      <th>Device_Protection</th>\n",
       "      <th>Tech_Support</th>\n",
       "      <th>Streaming_TV</th>\n",
       "      <th>Streaming_Movies</th>\n",
       "      <th>Contract</th>\n",
       "      <th>Paperless_Billing</th>\n",
       "      <th>Payment_Method</th>\n",
       "      <th>Monthly_Charges</th>\n",
       "      <th>Total_Charges</th>\n",
       "      <th>Churn</th>\n",
       "    </tr>\n",
       "  </thead>\n",
       "  <tbody>\n",
       "    <tr>\n",
       "      <th>0</th>\n",
       "      <td>7590-VHVEG</td>\n",
       "      <td>0</td>\n",
       "      <td>0</td>\n",
       "      <td>Yes</td>\n",
       "      <td>No</td>\n",
       "      <td>1</td>\n",
       "      <td>No</td>\n",
       "      <td>No phone service</td>\n",
       "      <td>DSL</td>\n",
       "      <td>No</td>\n",
       "      <td>...</td>\n",
       "      <td>No</td>\n",
       "      <td>No</td>\n",
       "      <td>No</td>\n",
       "      <td>No</td>\n",
       "      <td>Month-to-month</td>\n",
       "      <td>Yes</td>\n",
       "      <td>Electronic check</td>\n",
       "      <td>29.85</td>\n",
       "      <td>29.85</td>\n",
       "      <td>No</td>\n",
       "    </tr>\n",
       "    <tr>\n",
       "      <th>1</th>\n",
       "      <td>5575-GNVDE</td>\n",
       "      <td>1</td>\n",
       "      <td>0</td>\n",
       "      <td>No</td>\n",
       "      <td>No</td>\n",
       "      <td>34</td>\n",
       "      <td>Yes</td>\n",
       "      <td>No</td>\n",
       "      <td>DSL</td>\n",
       "      <td>Yes</td>\n",
       "      <td>...</td>\n",
       "      <td>Yes</td>\n",
       "      <td>No</td>\n",
       "      <td>No</td>\n",
       "      <td>No</td>\n",
       "      <td>One year</td>\n",
       "      <td>No</td>\n",
       "      <td>Mailed check</td>\n",
       "      <td>56.95</td>\n",
       "      <td>1889.50</td>\n",
       "      <td>No</td>\n",
       "    </tr>\n",
       "    <tr>\n",
       "      <th>2</th>\n",
       "      <td>3668-QPYBK</td>\n",
       "      <td>1</td>\n",
       "      <td>0</td>\n",
       "      <td>No</td>\n",
       "      <td>No</td>\n",
       "      <td>2</td>\n",
       "      <td>Yes</td>\n",
       "      <td>No</td>\n",
       "      <td>DSL</td>\n",
       "      <td>Yes</td>\n",
       "      <td>...</td>\n",
       "      <td>No</td>\n",
       "      <td>No</td>\n",
       "      <td>No</td>\n",
       "      <td>No</td>\n",
       "      <td>Month-to-month</td>\n",
       "      <td>Yes</td>\n",
       "      <td>Mailed check</td>\n",
       "      <td>53.85</td>\n",
       "      <td>108.15</td>\n",
       "      <td>Yes</td>\n",
       "    </tr>\n",
       "    <tr>\n",
       "      <th>3</th>\n",
       "      <td>7795-CFOCW</td>\n",
       "      <td>1</td>\n",
       "      <td>0</td>\n",
       "      <td>No</td>\n",
       "      <td>No</td>\n",
       "      <td>45</td>\n",
       "      <td>No</td>\n",
       "      <td>No phone service</td>\n",
       "      <td>DSL</td>\n",
       "      <td>Yes</td>\n",
       "      <td>...</td>\n",
       "      <td>Yes</td>\n",
       "      <td>Yes</td>\n",
       "      <td>No</td>\n",
       "      <td>No</td>\n",
       "      <td>One year</td>\n",
       "      <td>No</td>\n",
       "      <td>Bank transfer (automatic)</td>\n",
       "      <td>42.30</td>\n",
       "      <td>1840.75</td>\n",
       "      <td>No</td>\n",
       "    </tr>\n",
       "    <tr>\n",
       "      <th>4</th>\n",
       "      <td>9237-HQITU</td>\n",
       "      <td>0</td>\n",
       "      <td>0</td>\n",
       "      <td>No</td>\n",
       "      <td>No</td>\n",
       "      <td>2</td>\n",
       "      <td>Yes</td>\n",
       "      <td>No</td>\n",
       "      <td>Fiber optic</td>\n",
       "      <td>No</td>\n",
       "      <td>...</td>\n",
       "      <td>No</td>\n",
       "      <td>No</td>\n",
       "      <td>No</td>\n",
       "      <td>No</td>\n",
       "      <td>Month-to-month</td>\n",
       "      <td>Yes</td>\n",
       "      <td>Electronic check</td>\n",
       "      <td>70.70</td>\n",
       "      <td>151.65</td>\n",
       "      <td>Yes</td>\n",
       "    </tr>\n",
       "  </tbody>\n",
       "</table>\n",
       "<p>5 rows × 21 columns</p>\n",
       "</div>"
      ],
      "text/plain": [
       "   CustomerID  Gender  Senior_Citizen Partner Dependents  Tenure  \\\n",
       "0  7590-VHVEG       0               0     Yes         No       1   \n",
       "1  5575-GNVDE       1               0      No         No      34   \n",
       "2  3668-QPYBK       1               0      No         No       2   \n",
       "3  7795-CFOCW       1               0      No         No      45   \n",
       "4  9237-HQITU       0               0      No         No       2   \n",
       "\n",
       "  Phone_Service    Multiple_Lines Internet_Service Online_Security  ...  \\\n",
       "0            No  No phone service              DSL              No  ...   \n",
       "1           Yes                No              DSL             Yes  ...   \n",
       "2           Yes                No              DSL             Yes  ...   \n",
       "3            No  No phone service              DSL             Yes  ...   \n",
       "4           Yes                No      Fiber optic              No  ...   \n",
       "\n",
       "  Device_Protection Tech_Support Streaming_TV Streaming_Movies  \\\n",
       "0                No           No           No               No   \n",
       "1               Yes           No           No               No   \n",
       "2                No           No           No               No   \n",
       "3               Yes          Yes           No               No   \n",
       "4                No           No           No               No   \n",
       "\n",
       "         Contract Paperless_Billing             Payment_Method  \\\n",
       "0  Month-to-month               Yes           Electronic check   \n",
       "1        One year                No               Mailed check   \n",
       "2  Month-to-month               Yes               Mailed check   \n",
       "3        One year                No  Bank transfer (automatic)   \n",
       "4  Month-to-month               Yes           Electronic check   \n",
       "\n",
       "  Monthly_Charges  Total_Charges  Churn  \n",
       "0           29.85          29.85     No  \n",
       "1           56.95        1889.50     No  \n",
       "2           53.85         108.15    Yes  \n",
       "3           42.30        1840.75     No  \n",
       "4           70.70         151.65    Yes  \n",
       "\n",
       "[5 rows x 21 columns]"
      ]
     },
     "execution_count": 3,
     "metadata": {},
     "output_type": "execute_result"
    }
   ],
   "source": [
    "# Show first 5 rows \n",
    "df.head(5) \n",
    "\n",
    "# alternative is to simply use \"df\" which will show us first and last 5 rows simultaneously"
   ]
  },
  {
   "cell_type": "code",
   "execution_count": 4,
   "metadata": {
    "id": "C2f3b8HvYUfh",
    "scrolled": true
   },
   "outputs": [
    {
     "data": {
      "text/html": [
       "<div>\n",
       "<style scoped>\n",
       "    .dataframe tbody tr th:only-of-type {\n",
       "        vertical-align: middle;\n",
       "    }\n",
       "\n",
       "    .dataframe tbody tr th {\n",
       "        vertical-align: top;\n",
       "    }\n",
       "\n",
       "    .dataframe thead th {\n",
       "        text-align: right;\n",
       "    }\n",
       "</style>\n",
       "<table border=\"1\" class=\"dataframe\">\n",
       "  <thead>\n",
       "    <tr style=\"text-align: right;\">\n",
       "      <th></th>\n",
       "      <th>CustomerID</th>\n",
       "      <th>Gender</th>\n",
       "      <th>Senior_Citizen</th>\n",
       "      <th>Partner</th>\n",
       "      <th>Dependents</th>\n",
       "      <th>Tenure</th>\n",
       "      <th>Phone_Service</th>\n",
       "      <th>Multiple_Lines</th>\n",
       "      <th>Internet_Service</th>\n",
       "      <th>Online_Security</th>\n",
       "      <th>...</th>\n",
       "      <th>Device_Protection</th>\n",
       "      <th>Tech_Support</th>\n",
       "      <th>Streaming_TV</th>\n",
       "      <th>Streaming_Movies</th>\n",
       "      <th>Contract</th>\n",
       "      <th>Paperless_Billing</th>\n",
       "      <th>Payment_Method</th>\n",
       "      <th>Monthly_Charges</th>\n",
       "      <th>Total_Charges</th>\n",
       "      <th>Churn</th>\n",
       "    </tr>\n",
       "  </thead>\n",
       "  <tbody>\n",
       "    <tr>\n",
       "      <th>6494</th>\n",
       "      <td>4310-KEDTB</td>\n",
       "      <td>0</td>\n",
       "      <td>0</td>\n",
       "      <td>No</td>\n",
       "      <td>Yes</td>\n",
       "      <td>26</td>\n",
       "      <td>No</td>\n",
       "      <td>No phone service</td>\n",
       "      <td>DSL</td>\n",
       "      <td>No</td>\n",
       "      <td>...</td>\n",
       "      <td>Yes</td>\n",
       "      <td>No</td>\n",
       "      <td>No</td>\n",
       "      <td>No</td>\n",
       "      <td>Month-to-month</td>\n",
       "      <td>Yes</td>\n",
       "      <td>Mailed check</td>\n",
       "      <td>29.80</td>\n",
       "      <td>786.50</td>\n",
       "      <td>No</td>\n",
       "    </tr>\n",
       "    <tr>\n",
       "      <th>6495</th>\n",
       "      <td>7254-IQWOZ</td>\n",
       "      <td>1</td>\n",
       "      <td>0</td>\n",
       "      <td>No</td>\n",
       "      <td>No</td>\n",
       "      <td>1</td>\n",
       "      <td>Yes</td>\n",
       "      <td>No</td>\n",
       "      <td>Fiber optic</td>\n",
       "      <td>No</td>\n",
       "      <td>...</td>\n",
       "      <td>No</td>\n",
       "      <td>No</td>\n",
       "      <td>No</td>\n",
       "      <td>No</td>\n",
       "      <td>Month-to-month</td>\n",
       "      <td>Yes</td>\n",
       "      <td>Electronic check</td>\n",
       "      <td>69.65</td>\n",
       "      <td>69.65</td>\n",
       "      <td>Yes</td>\n",
       "    </tr>\n",
       "    <tr>\n",
       "      <th>6496</th>\n",
       "      <td>2474-BRUCM</td>\n",
       "      <td>1</td>\n",
       "      <td>1</td>\n",
       "      <td>Yes</td>\n",
       "      <td>No</td>\n",
       "      <td>40</td>\n",
       "      <td>Yes</td>\n",
       "      <td>Yes</td>\n",
       "      <td>Fiber optic</td>\n",
       "      <td>Yes</td>\n",
       "      <td>...</td>\n",
       "      <td>No</td>\n",
       "      <td>No</td>\n",
       "      <td>Yes</td>\n",
       "      <td>Yes</td>\n",
       "      <td>Month-to-month</td>\n",
       "      <td>No</td>\n",
       "      <td>Electronic check</td>\n",
       "      <td>101.85</td>\n",
       "      <td>4086.30</td>\n",
       "      <td>Yes</td>\n",
       "    </tr>\n",
       "    <tr>\n",
       "      <th>6497</th>\n",
       "      <td>4062-HBMOS</td>\n",
       "      <td>1</td>\n",
       "      <td>0</td>\n",
       "      <td>No</td>\n",
       "      <td>No</td>\n",
       "      <td>52</td>\n",
       "      <td>Yes</td>\n",
       "      <td>Yes</td>\n",
       "      <td>Fiber optic</td>\n",
       "      <td>No</td>\n",
       "      <td>...</td>\n",
       "      <td>Yes</td>\n",
       "      <td>No</td>\n",
       "      <td>Yes</td>\n",
       "      <td>Yes</td>\n",
       "      <td>Month-to-month</td>\n",
       "      <td>Yes</td>\n",
       "      <td>Electronic check</td>\n",
       "      <td>103.05</td>\n",
       "      <td>5364.80</td>\n",
       "      <td>No</td>\n",
       "    </tr>\n",
       "    <tr>\n",
       "      <th>6498</th>\n",
       "      <td>0742-NXBGR</td>\n",
       "      <td>0</td>\n",
       "      <td>0</td>\n",
       "      <td>No</td>\n",
       "      <td>No</td>\n",
       "      <td>1</td>\n",
       "      <td>Yes</td>\n",
       "      <td>No</td>\n",
       "      <td>Fiber optic</td>\n",
       "      <td>No</td>\n",
       "      <td>...</td>\n",
       "      <td>Yes</td>\n",
       "      <td>No</td>\n",
       "      <td>No</td>\n",
       "      <td>No</td>\n",
       "      <td>Month-to-month</td>\n",
       "      <td>Yes</td>\n",
       "      <td>Electronic check</td>\n",
       "      <td>82.30</td>\n",
       "      <td>82.30</td>\n",
       "      <td>Yes</td>\n",
       "    </tr>\n",
       "  </tbody>\n",
       "</table>\n",
       "<p>5 rows × 21 columns</p>\n",
       "</div>"
      ],
      "text/plain": [
       "      CustomerID  Gender  Senior_Citizen Partner Dependents  Tenure  \\\n",
       "6494  4310-KEDTB       0               0      No        Yes      26   \n",
       "6495  7254-IQWOZ       1               0      No         No       1   \n",
       "6496  2474-BRUCM       1               1     Yes         No      40   \n",
       "6497  4062-HBMOS       1               0      No         No      52   \n",
       "6498  0742-NXBGR       0               0      No         No       1   \n",
       "\n",
       "     Phone_Service    Multiple_Lines Internet_Service Online_Security  ...  \\\n",
       "6494            No  No phone service              DSL              No  ...   \n",
       "6495           Yes                No      Fiber optic              No  ...   \n",
       "6496           Yes               Yes      Fiber optic             Yes  ...   \n",
       "6497           Yes               Yes      Fiber optic              No  ...   \n",
       "6498           Yes                No      Fiber optic              No  ...   \n",
       "\n",
       "     Device_Protection Tech_Support Streaming_TV Streaming_Movies  \\\n",
       "6494               Yes           No           No               No   \n",
       "6495                No           No           No               No   \n",
       "6496                No           No          Yes              Yes   \n",
       "6497               Yes           No          Yes              Yes   \n",
       "6498               Yes           No           No               No   \n",
       "\n",
       "            Contract Paperless_Billing    Payment_Method Monthly_Charges  \\\n",
       "6494  Month-to-month               Yes      Mailed check           29.80   \n",
       "6495  Month-to-month               Yes  Electronic check           69.65   \n",
       "6496  Month-to-month                No  Electronic check          101.85   \n",
       "6497  Month-to-month               Yes  Electronic check          103.05   \n",
       "6498  Month-to-month               Yes  Electronic check           82.30   \n",
       "\n",
       "      Total_Charges  Churn  \n",
       "6494         786.50     No  \n",
       "6495          69.65    Yes  \n",
       "6496        4086.30    Yes  \n",
       "6497        5364.80     No  \n",
       "6498          82.30    Yes  \n",
       "\n",
       "[5 rows x 21 columns]"
      ]
     },
     "execution_count": 4,
     "metadata": {},
     "output_type": "execute_result"
    }
   ],
   "source": [
    "# Show last 5 rows of dataset\n",
    "df.tail(5)"
   ]
  },
  {
   "cell_type": "markdown",
   "metadata": {
    "id": "ndOKWLZeYSr_"
   },
   "source": [
    "### How many rows and columns are present in the data? "
   ]
  },
  {
   "cell_type": "code",
   "execution_count": 5,
   "metadata": {
    "id": "X7yaeskeYY2B"
   },
   "outputs": [
    {
     "name": "stdout",
     "output_type": "stream",
     "text": [
      "The df contains 6499 rows and 21 columns\n"
     ]
    }
   ],
   "source": [
    "# Print the response\n",
    "print('The df contains',df.shape[0],'rows and',df.shape[1],'columns')"
   ]
  },
  {
   "cell_type": "markdown",
   "metadata": {
    "id": "JMchjyqRYd8O"
   },
   "source": [
    "### What are the datatypes of the different columns in the dataset?"
   ]
  },
  {
   "cell_type": "code",
   "execution_count": 6,
   "metadata": {
    "id": "_hIkIi73YeQv"
   },
   "outputs": [
    {
     "name": "stdout",
     "output_type": "stream",
     "text": [
      "<class 'pandas.core.frame.DataFrame'>\n",
      "RangeIndex: 6499 entries, 0 to 6498\n",
      "Data columns (total 21 columns):\n",
      " #   Column             Non-Null Count  Dtype  \n",
      "---  ------             --------------  -----  \n",
      " 0   CustomerID         6499 non-null   object \n",
      " 1   Gender             6499 non-null   int64  \n",
      " 2   Senior_Citizen     6499 non-null   int64  \n",
      " 3   Partner            6499 non-null   object \n",
      " 4   Dependents         6499 non-null   object \n",
      " 5   Tenure             6499 non-null   int64  \n",
      " 6   Phone_Service      6499 non-null   object \n",
      " 7   Multiple_Lines     6499 non-null   object \n",
      " 8   Internet_Service   6499 non-null   object \n",
      " 9   Online_Security    6499 non-null   object \n",
      " 10  Online_Backup      6499 non-null   object \n",
      " 11  Device_Protection  6499 non-null   object \n",
      " 12  Tech_Support       6499 non-null   object \n",
      " 13  Streaming_TV       6499 non-null   object \n",
      " 14  Streaming_Movies   6499 non-null   object \n",
      " 15  Contract           6499 non-null   object \n",
      " 16  Paperless_Billing  6499 non-null   object \n",
      " 17  Payment_Method     6499 non-null   object \n",
      " 18  Monthly_Charges    6499 non-null   float64\n",
      " 19  Total_Charges      6490 non-null   float64\n",
      " 20  Churn              6499 non-null   object \n",
      "dtypes: float64(2), int64(3), object(16)\n",
      "memory usage: 1.0+ MB\n"
     ]
    }
   ],
   "source": [
    "# Show info \n",
    "df.info()"
   ]
  },
  {
   "cell_type": "markdown",
   "metadata": {
    "id": "F3_JbVXYYkgN"
   },
   "source": [
    "Write down the observations as per the information provided by running the above code."
   ]
  },
  {
   "cell_type": "markdown",
   "metadata": {
    "id": "VtzKNPzhY-Wc"
   },
   "source": [
    "- There are columns of various types: 2 float, 3 int and 16 object (string) types\n",
    "- There is a discrepency : (1) all objects columns are categories in a data dictionary; \n",
    "- Note also that the dictionary shows Dtype of  gender and Senior citizen as category but at the same type represents them as 1 or 0 (int). So it seems having our df with Gender and Senior_citizen as int is rather correct. \n",
    "- Partner, dependants, Phone_Service etc have an object type (like yes/no) which can be easily transformed to int type later (for building ML)\n",
    "- Each column (except Total_charges) has 6499 values which corresponds to the number of entries. Total_charges, having 6490, should be checked for missing values. \n",
    "- It seems that there is no Dtype issues (when numerical column has object Dtype)"
   ]
  },
  {
   "cell_type": "markdown",
   "metadata": {
    "id": "g3anFWLJZS1N"
   },
   "source": [
    "### Correct the datatype of those columns which are not correct. Also, convert all object datatype columns into category datatypes."
   ]
  },
  {
   "cell_type": "code",
   "execution_count": 7,
   "metadata": {
    "id": "07PvK5tmZaCk"
   },
   "outputs": [
    {
     "name": "stdout",
     "output_type": "stream",
     "text": [
      "<class 'pandas.core.frame.DataFrame'>\n",
      "RangeIndex: 6499 entries, 0 to 6498\n",
      "Data columns (total 21 columns):\n",
      " #   Column             Non-Null Count  Dtype   \n",
      "---  ------             --------------  -----   \n",
      " 0   CustomerID         6499 non-null   category\n",
      " 1   Gender             6499 non-null   int64   \n",
      " 2   Senior_Citizen     6499 non-null   int64   \n",
      " 3   Partner            6499 non-null   category\n",
      " 4   Dependents         6499 non-null   category\n",
      " 5   Tenure             6499 non-null   int64   \n",
      " 6   Phone_Service      6499 non-null   category\n",
      " 7   Multiple_Lines     6499 non-null   category\n",
      " 8   Internet_Service   6499 non-null   category\n",
      " 9   Online_Security    6499 non-null   category\n",
      " 10  Online_Backup      6499 non-null   category\n",
      " 11  Device_Protection  6499 non-null   category\n",
      " 12  Tech_Support       6499 non-null   category\n",
      " 13  Streaming_TV       6499 non-null   category\n",
      " 14  Streaming_Movies   6499 non-null   category\n",
      " 15  Contract           6499 non-null   category\n",
      " 16  Paperless_Billing  6499 non-null   category\n",
      " 17  Payment_Method     6499 non-null   category\n",
      " 18  Monthly_Charges    6499 non-null   float64 \n",
      " 19  Total_Charges      6490 non-null   float64 \n",
      " 20  Churn              6499 non-null   category\n",
      "dtypes: category(16), float64(2), int64(3)\n",
      "memory usage: 672.7 KB\n"
     ]
    }
   ],
   "source": [
    "# Convert all object datatype columns into category datatypes\n",
    "for feature in df.columns: # Loop through all columns in the dataframe\n",
    "    if df[feature].dtype == 'object': # Only apply for columns with object \n",
    "        df[feature] = pd.Categorical(df[feature])# Replace strings with an integer\n",
    "df.info() # show the info summury"
   ]
  },
  {
   "cell_type": "markdown",
   "metadata": {
    "id": "bDqrYmR5Z17A"
   },
   "source": [
    "### Check the statistical summary of the data "
   ]
  },
  {
   "cell_type": "code",
   "execution_count": 8,
   "metadata": {
    "id": "K4U0Q1QwZ3Ie"
   },
   "outputs": [
    {
     "data": {
      "text/html": [
       "<div>\n",
       "<style scoped>\n",
       "    .dataframe tbody tr th:only-of-type {\n",
       "        vertical-align: middle;\n",
       "    }\n",
       "\n",
       "    .dataframe tbody tr th {\n",
       "        vertical-align: top;\n",
       "    }\n",
       "\n",
       "    .dataframe thead th {\n",
       "        text-align: right;\n",
       "    }\n",
       "</style>\n",
       "<table border=\"1\" class=\"dataframe\">\n",
       "  <thead>\n",
       "    <tr style=\"text-align: right;\">\n",
       "      <th></th>\n",
       "      <th>CustomerID</th>\n",
       "      <th>Gender</th>\n",
       "      <th>Senior_Citizen</th>\n",
       "      <th>Partner</th>\n",
       "      <th>Dependents</th>\n",
       "      <th>Tenure</th>\n",
       "      <th>Phone_Service</th>\n",
       "      <th>Multiple_Lines</th>\n",
       "      <th>Internet_Service</th>\n",
       "      <th>Online_Security</th>\n",
       "      <th>...</th>\n",
       "      <th>Device_Protection</th>\n",
       "      <th>Tech_Support</th>\n",
       "      <th>Streaming_TV</th>\n",
       "      <th>Streaming_Movies</th>\n",
       "      <th>Contract</th>\n",
       "      <th>Paperless_Billing</th>\n",
       "      <th>Payment_Method</th>\n",
       "      <th>Monthly_Charges</th>\n",
       "      <th>Total_Charges</th>\n",
       "      <th>Churn</th>\n",
       "    </tr>\n",
       "  </thead>\n",
       "  <tbody>\n",
       "    <tr>\n",
       "      <th>count</th>\n",
       "      <td>6499</td>\n",
       "      <td>6499.000000</td>\n",
       "      <td>6499.000000</td>\n",
       "      <td>6499</td>\n",
       "      <td>6499</td>\n",
       "      <td>6499.000000</td>\n",
       "      <td>6499</td>\n",
       "      <td>6499</td>\n",
       "      <td>6499</td>\n",
       "      <td>6499</td>\n",
       "      <td>...</td>\n",
       "      <td>6499</td>\n",
       "      <td>6499</td>\n",
       "      <td>6499</td>\n",
       "      <td>6499</td>\n",
       "      <td>6499</td>\n",
       "      <td>6499</td>\n",
       "      <td>6499</td>\n",
       "      <td>6499.000000</td>\n",
       "      <td>6490.000000</td>\n",
       "      <td>6499</td>\n",
       "    </tr>\n",
       "    <tr>\n",
       "      <th>unique</th>\n",
       "      <td>6499</td>\n",
       "      <td>NaN</td>\n",
       "      <td>NaN</td>\n",
       "      <td>2</td>\n",
       "      <td>2</td>\n",
       "      <td>NaN</td>\n",
       "      <td>2</td>\n",
       "      <td>3</td>\n",
       "      <td>4</td>\n",
       "      <td>3</td>\n",
       "      <td>...</td>\n",
       "      <td>3</td>\n",
       "      <td>3</td>\n",
       "      <td>3</td>\n",
       "      <td>3</td>\n",
       "      <td>3</td>\n",
       "      <td>2</td>\n",
       "      <td>4</td>\n",
       "      <td>NaN</td>\n",
       "      <td>NaN</td>\n",
       "      <td>2</td>\n",
       "    </tr>\n",
       "    <tr>\n",
       "      <th>top</th>\n",
       "      <td>0002-ORFBO</td>\n",
       "      <td>NaN</td>\n",
       "      <td>NaN</td>\n",
       "      <td>No</td>\n",
       "      <td>No</td>\n",
       "      <td>NaN</td>\n",
       "      <td>Yes</td>\n",
       "      <td>No</td>\n",
       "      <td>Fiber optic</td>\n",
       "      <td>No</td>\n",
       "      <td>...</td>\n",
       "      <td>No</td>\n",
       "      <td>No</td>\n",
       "      <td>No</td>\n",
       "      <td>No</td>\n",
       "      <td>Month-to-month</td>\n",
       "      <td>Yes</td>\n",
       "      <td>Electronic check</td>\n",
       "      <td>NaN</td>\n",
       "      <td>NaN</td>\n",
       "      <td>No</td>\n",
       "    </tr>\n",
       "    <tr>\n",
       "      <th>freq</th>\n",
       "      <td>1</td>\n",
       "      <td>NaN</td>\n",
       "      <td>NaN</td>\n",
       "      <td>3359</td>\n",
       "      <td>4561</td>\n",
       "      <td>NaN</td>\n",
       "      <td>5884</td>\n",
       "      <td>3138</td>\n",
       "      <td>2856</td>\n",
       "      <td>3208</td>\n",
       "      <td>...</td>\n",
       "      <td>2843</td>\n",
       "      <td>3209</td>\n",
       "      <td>2589</td>\n",
       "      <td>2555</td>\n",
       "      <td>3576</td>\n",
       "      <td>3836</td>\n",
       "      <td>2182</td>\n",
       "      <td>NaN</td>\n",
       "      <td>NaN</td>\n",
       "      <td>4784</td>\n",
       "    </tr>\n",
       "    <tr>\n",
       "      <th>mean</th>\n",
       "      <td>NaN</td>\n",
       "      <td>0.506232</td>\n",
       "      <td>0.162487</td>\n",
       "      <td>NaN</td>\n",
       "      <td>NaN</td>\n",
       "      <td>32.369134</td>\n",
       "      <td>NaN</td>\n",
       "      <td>NaN</td>\n",
       "      <td>NaN</td>\n",
       "      <td>NaN</td>\n",
       "      <td>...</td>\n",
       "      <td>NaN</td>\n",
       "      <td>NaN</td>\n",
       "      <td>NaN</td>\n",
       "      <td>NaN</td>\n",
       "      <td>NaN</td>\n",
       "      <td>NaN</td>\n",
       "      <td>NaN</td>\n",
       "      <td>64.733344</td>\n",
       "      <td>2282.935177</td>\n",
       "      <td>NaN</td>\n",
       "    </tr>\n",
       "    <tr>\n",
       "      <th>std</th>\n",
       "      <td>NaN</td>\n",
       "      <td>0.500000</td>\n",
       "      <td>0.368925</td>\n",
       "      <td>NaN</td>\n",
       "      <td>NaN</td>\n",
       "      <td>24.584693</td>\n",
       "      <td>NaN</td>\n",
       "      <td>NaN</td>\n",
       "      <td>NaN</td>\n",
       "      <td>NaN</td>\n",
       "      <td>...</td>\n",
       "      <td>NaN</td>\n",
       "      <td>NaN</td>\n",
       "      <td>NaN</td>\n",
       "      <td>NaN</td>\n",
       "      <td>NaN</td>\n",
       "      <td>NaN</td>\n",
       "      <td>NaN</td>\n",
       "      <td>30.136193</td>\n",
       "      <td>2270.034922</td>\n",
       "      <td>NaN</td>\n",
       "    </tr>\n",
       "    <tr>\n",
       "      <th>min</th>\n",
       "      <td>NaN</td>\n",
       "      <td>0.000000</td>\n",
       "      <td>0.000000</td>\n",
       "      <td>NaN</td>\n",
       "      <td>NaN</td>\n",
       "      <td>0.000000</td>\n",
       "      <td>NaN</td>\n",
       "      <td>NaN</td>\n",
       "      <td>NaN</td>\n",
       "      <td>NaN</td>\n",
       "      <td>...</td>\n",
       "      <td>NaN</td>\n",
       "      <td>NaN</td>\n",
       "      <td>NaN</td>\n",
       "      <td>NaN</td>\n",
       "      <td>NaN</td>\n",
       "      <td>NaN</td>\n",
       "      <td>NaN</td>\n",
       "      <td>18.250000</td>\n",
       "      <td>18.800000</td>\n",
       "      <td>NaN</td>\n",
       "    </tr>\n",
       "    <tr>\n",
       "      <th>25%</th>\n",
       "      <td>NaN</td>\n",
       "      <td>0.000000</td>\n",
       "      <td>0.000000</td>\n",
       "      <td>NaN</td>\n",
       "      <td>NaN</td>\n",
       "      <td>9.000000</td>\n",
       "      <td>NaN</td>\n",
       "      <td>NaN</td>\n",
       "      <td>NaN</td>\n",
       "      <td>NaN</td>\n",
       "      <td>...</td>\n",
       "      <td>NaN</td>\n",
       "      <td>NaN</td>\n",
       "      <td>NaN</td>\n",
       "      <td>NaN</td>\n",
       "      <td>NaN</td>\n",
       "      <td>NaN</td>\n",
       "      <td>NaN</td>\n",
       "      <td>35.400000</td>\n",
       "      <td>399.300000</td>\n",
       "      <td>NaN</td>\n",
       "    </tr>\n",
       "    <tr>\n",
       "      <th>50%</th>\n",
       "      <td>NaN</td>\n",
       "      <td>1.000000</td>\n",
       "      <td>0.000000</td>\n",
       "      <td>NaN</td>\n",
       "      <td>NaN</td>\n",
       "      <td>29.000000</td>\n",
       "      <td>NaN</td>\n",
       "      <td>NaN</td>\n",
       "      <td>NaN</td>\n",
       "      <td>NaN</td>\n",
       "      <td>...</td>\n",
       "      <td>NaN</td>\n",
       "      <td>NaN</td>\n",
       "      <td>NaN</td>\n",
       "      <td>NaN</td>\n",
       "      <td>NaN</td>\n",
       "      <td>NaN</td>\n",
       "      <td>NaN</td>\n",
       "      <td>70.350000</td>\n",
       "      <td>1397.100000</td>\n",
       "      <td>NaN</td>\n",
       "    </tr>\n",
       "    <tr>\n",
       "      <th>75%</th>\n",
       "      <td>NaN</td>\n",
       "      <td>1.000000</td>\n",
       "      <td>0.000000</td>\n",
       "      <td>NaN</td>\n",
       "      <td>NaN</td>\n",
       "      <td>55.000000</td>\n",
       "      <td>NaN</td>\n",
       "      <td>NaN</td>\n",
       "      <td>NaN</td>\n",
       "      <td>NaN</td>\n",
       "      <td>...</td>\n",
       "      <td>NaN</td>\n",
       "      <td>NaN</td>\n",
       "      <td>NaN</td>\n",
       "      <td>NaN</td>\n",
       "      <td>NaN</td>\n",
       "      <td>NaN</td>\n",
       "      <td>NaN</td>\n",
       "      <td>89.850000</td>\n",
       "      <td>3786.612500</td>\n",
       "      <td>NaN</td>\n",
       "    </tr>\n",
       "    <tr>\n",
       "      <th>max</th>\n",
       "      <td>NaN</td>\n",
       "      <td>1.000000</td>\n",
       "      <td>1.000000</td>\n",
       "      <td>NaN</td>\n",
       "      <td>NaN</td>\n",
       "      <td>72.000000</td>\n",
       "      <td>NaN</td>\n",
       "      <td>NaN</td>\n",
       "      <td>NaN</td>\n",
       "      <td>NaN</td>\n",
       "      <td>...</td>\n",
       "      <td>NaN</td>\n",
       "      <td>NaN</td>\n",
       "      <td>NaN</td>\n",
       "      <td>NaN</td>\n",
       "      <td>NaN</td>\n",
       "      <td>NaN</td>\n",
       "      <td>NaN</td>\n",
       "      <td>118.750000</td>\n",
       "      <td>8684.800000</td>\n",
       "      <td>NaN</td>\n",
       "    </tr>\n",
       "  </tbody>\n",
       "</table>\n",
       "<p>11 rows × 21 columns</p>\n",
       "</div>"
      ],
      "text/plain": [
       "        CustomerID       Gender  Senior_Citizen Partner Dependents  \\\n",
       "count         6499  6499.000000     6499.000000    6499       6499   \n",
       "unique        6499          NaN             NaN       2          2   \n",
       "top     0002-ORFBO          NaN             NaN      No         No   \n",
       "freq             1          NaN             NaN    3359       4561   \n",
       "mean           NaN     0.506232        0.162487     NaN        NaN   \n",
       "std            NaN     0.500000        0.368925     NaN        NaN   \n",
       "min            NaN     0.000000        0.000000     NaN        NaN   \n",
       "25%            NaN     0.000000        0.000000     NaN        NaN   \n",
       "50%            NaN     1.000000        0.000000     NaN        NaN   \n",
       "75%            NaN     1.000000        0.000000     NaN        NaN   \n",
       "max            NaN     1.000000        1.000000     NaN        NaN   \n",
       "\n",
       "             Tenure Phone_Service Multiple_Lines Internet_Service  \\\n",
       "count   6499.000000          6499           6499             6499   \n",
       "unique          NaN             2              3                4   \n",
       "top             NaN           Yes             No      Fiber optic   \n",
       "freq            NaN          5884           3138             2856   \n",
       "mean      32.369134           NaN            NaN              NaN   \n",
       "std       24.584693           NaN            NaN              NaN   \n",
       "min        0.000000           NaN            NaN              NaN   \n",
       "25%        9.000000           NaN            NaN              NaN   \n",
       "50%       29.000000           NaN            NaN              NaN   \n",
       "75%       55.000000           NaN            NaN              NaN   \n",
       "max       72.000000           NaN            NaN              NaN   \n",
       "\n",
       "       Online_Security  ... Device_Protection Tech_Support Streaming_TV  \\\n",
       "count             6499  ...              6499         6499         6499   \n",
       "unique               3  ...                 3            3            3   \n",
       "top                 No  ...                No           No           No   \n",
       "freq              3208  ...              2843         3209         2589   \n",
       "mean               NaN  ...               NaN          NaN          NaN   \n",
       "std                NaN  ...               NaN          NaN          NaN   \n",
       "min                NaN  ...               NaN          NaN          NaN   \n",
       "25%                NaN  ...               NaN          NaN          NaN   \n",
       "50%                NaN  ...               NaN          NaN          NaN   \n",
       "75%                NaN  ...               NaN          NaN          NaN   \n",
       "max                NaN  ...               NaN          NaN          NaN   \n",
       "\n",
       "       Streaming_Movies        Contract Paperless_Billing    Payment_Method  \\\n",
       "count              6499            6499              6499              6499   \n",
       "unique                3               3                 2                 4   \n",
       "top                  No  Month-to-month               Yes  Electronic check   \n",
       "freq               2555            3576              3836              2182   \n",
       "mean                NaN             NaN               NaN               NaN   \n",
       "std                 NaN             NaN               NaN               NaN   \n",
       "min                 NaN             NaN               NaN               NaN   \n",
       "25%                 NaN             NaN               NaN               NaN   \n",
       "50%                 NaN             NaN               NaN               NaN   \n",
       "75%                 NaN             NaN               NaN               NaN   \n",
       "max                 NaN             NaN               NaN               NaN   \n",
       "\n",
       "       Monthly_Charges  Total_Charges  Churn  \n",
       "count      6499.000000    6490.000000   6499  \n",
       "unique             NaN            NaN      2  \n",
       "top                NaN            NaN     No  \n",
       "freq               NaN            NaN   4784  \n",
       "mean         64.733344    2282.935177    NaN  \n",
       "std          30.136193    2270.034922    NaN  \n",
       "min          18.250000      18.800000    NaN  \n",
       "25%          35.400000     399.300000    NaN  \n",
       "50%          70.350000    1397.100000    NaN  \n",
       "75%          89.850000    3786.612500    NaN  \n",
       "max         118.750000    8684.800000    NaN  \n",
       "\n",
       "[11 rows x 21 columns]"
      ]
     },
     "execution_count": 8,
     "metadata": {},
     "output_type": "execute_result"
    }
   ],
   "source": [
    "# Write the code here\n",
    "df.describe(include='all')"
   ]
  },
  {
   "cell_type": "markdown",
   "metadata": {
    "id": "-8ZRTYGjZ6yw"
   },
   "source": [
    "Write down the observations after running the above code."
   ]
  },
  {
   "cell_type": "markdown",
   "metadata": {
    "id": "4w-L4yU1aBU6"
   },
   "source": [
    "- Preliminary, most of our customers do not have a partner (Freq of No is 3359)\n",
    "- Preliminary, most of our customers do not have dependents (Freq of No is 4561)\n",
    "- In average, customers remain with company 32 months (std 24 months) while median is 29 months. As median is not equal to mean, it seems that there is a skewness in data. The longest tenure is 72 months.\n",
    "- Preliminary, most of customers use phone service (Freq of Yes is 5884)\n",
    "- Preliminary, the largest group of customers do not have  multiple lines (Freq of No is 3138)\n",
    "- Preliminary, the largest group of customers, who use internet service, uses them via fiber optic (Freq of Fiber Optic is 2856)\n",
    "- Preliminary, the most of our customers, who use internet service, do not have an online security (Freq of No is 3208)\n",
    "- Preliminary, most of our customers, who use internet service, do not have a device protection (Freq of No is 2843)\n",
    "- Preliminary, most of our customers, who use internet service, do not have a tech support (Freq of No is 3209)\n",
    "- Preliminary, most of our customers, who use internet service, do not have a streaming TV(Freq of No is 2589)\n",
    "- Preliminary, most of our customers, who use internet service, do not have a streaming movie(Freq of No is 2555)\n",
    "- Preliminary, most of our customers are on month-to-month contracts(Freq of Month-to-month is 3576)\n",
    "- Preliminary, most of our customers have a paperless billing (Freq of yes is 3836)\n",
    "- Preliminary, most of our customers use a electronic check as a payment method(Freq of electronic check is 2182)\n",
    "\n",
    "- In average, monthly charges reach 64.73 usd  with std 30 usd (units are not given, let it be in USD. Note that median is 70.3 usd which is higher than mean (skewness of data?) The lowest monthly charge is 18.25 usd and the highest charge is 118 usd. \n",
    "- In average, total charges reach 2283 usd with std 2270 usd (note that std is comparable with mean).Note also that median is 1397, which is a much lower than mean (skewness of data?). This requies an additional investigation, especially considering the opposite trend in monthly charges (there, median was higher than mean. Does it tells us that customers consider the prices as high and that is why leave? (keep in mind this hypothesis).\n",
    "The lowest total charge is 18.80 usd and the highest charge is 8684 usd. \n",
    "\n",
    "- Most of customers did not churn (Freq of No is 4784). "
   ]
  },
  {
   "cell_type": "markdown",
   "metadata": {
    "id": "xju0o9341JI8"
   },
   "source": [
    "## Data Preprocessing "
   ]
  },
  {
   "cell_type": "markdown",
   "metadata": {
    "id": "6vFpQGiY7qr6"
   },
   "source": [
    "### Check for duplicate entries in the data "
   ]
  },
  {
   "cell_type": "code",
   "execution_count": 9,
   "metadata": {
    "id": "UAi6C_1W7upk"
   },
   "outputs": [
    {
     "name": "stdout",
     "output_type": "stream",
     "text": [
      "Duplicate Rows : Empty DataFrame\n",
      "Columns: [CustomerID, Gender, Senior_Citizen, Partner, Dependents, Tenure, Phone_Service, Multiple_Lines, Internet_Service, Online_Security, Online_Backup, Device_Protection, Tech_Support, Streaming_TV, Streaming_Movies, Contract, Paperless_Billing, Payment_Method, Monthly_Charges, Total_Charges, Churn]\n",
      "Index: []\n",
      "\n",
      "[0 rows x 21 columns]\n"
     ]
    }
   ],
   "source": [
    "# Find the duplicate rows \n",
    "duplicate = df[df.duplicated()]\n",
    "\n",
    "# Print the resultant Dataframe\n",
    "print(\"Duplicate Rows :\",duplicate)"
   ]
  },
  {
   "cell_type": "markdown",
   "metadata": {},
   "source": [
    "- No dublicated rows are identified in dataframe"
   ]
  },
  {
   "cell_type": "markdown",
   "metadata": {
    "id": "o5th0qpe69JQ"
   },
   "source": [
    "### Check if any discrepancy is present in the categorical column values."
   ]
  },
  {
   "cell_type": "code",
   "execution_count": 10,
   "metadata": {
    "id": "2QT2McEK6-Kk"
   },
   "outputs": [
    {
     "data": {
      "text/plain": [
       "CustomerID           6499\n",
       "Gender                  2\n",
       "Senior_Citizen          2\n",
       "Partner                 2\n",
       "Dependents              2\n",
       "Tenure                 73\n",
       "Phone_Service           2\n",
       "Multiple_Lines          3\n",
       "Internet_Service        4\n",
       "Online_Security         3\n",
       "Online_Backup           3\n",
       "Device_Protection       3\n",
       "Tech_Support            3\n",
       "Streaming_TV            3\n",
       "Streaming_Movies        3\n",
       "Contract                3\n",
       "Paperless_Billing       2\n",
       "Payment_Method          4\n",
       "Monthly_Charges      1554\n",
       "Total_Charges        6046\n",
       "Churn                   2\n",
       "dtype: int64"
      ]
     },
     "execution_count": 10,
     "metadata": {},
     "output_type": "execute_result"
    }
   ],
   "source": [
    "# Checking if there are any excessive unique values \n",
    "df.nunique()"
   ]
  },
  {
   "cell_type": "markdown",
   "metadata": {},
   "source": [
    "* All categorical columns (except internet service) has the excepted number of unique values (according to dictionary). \n",
    "* According to dictionary, the Internet service has only 3 unique values: DSL, Fiber optic and No. However, we can see that 4 unique numbers are present in this column. So let us check it in details"
   ]
  },
  {
   "cell_type": "markdown",
   "metadata": {
    "id": "m75gXKc9KjW9"
   },
   "source": [
    "#### Replace the incorrect value with the correct value in the categorical column"
   ]
  },
  {
   "cell_type": "code",
   "execution_count": 11,
   "metadata": {
    "id": "QqAXLKTiKrM3"
   },
   "outputs": [
    {
     "data": {
      "text/plain": [
       "Fiber optic    2856\n",
       "DSL            2217\n",
       "No             1422\n",
       "Fiber-optic       4\n",
       "Name: Internet_Service, dtype: int64"
      ]
     },
     "execution_count": 11,
     "metadata": {},
     "output_type": "execute_result"
    }
   ],
   "source": [
    "# Checking the number of unique values \n",
    "df['Internet_Service'].value_counts()"
   ]
  },
  {
   "cell_type": "markdown",
   "metadata": {},
   "source": [
    "* Fiber optic is also present as Fiber-optic in df so let us replace it "
   ]
  },
  {
   "cell_type": "code",
   "execution_count": 12,
   "metadata": {
    "scrolled": true
   },
   "outputs": [
    {
     "data": {
      "text/plain": [
       "Fiber optic    2860\n",
       "DSL            2217\n",
       "No             1422\n",
       "Name: Internet_Service, dtype: int64"
      ]
     },
     "execution_count": 12,
     "metadata": {},
     "output_type": "execute_result"
    }
   ],
   "source": [
    "# Replace Fiber-optic by Fiber optic\n",
    "df['Internet_Service'].replace(['Fiber-optic'],['Fiber optic'],inplace=True)\n",
    "# Check again the unique values\n",
    "df['Internet_Service'].value_counts()"
   ]
  },
  {
   "cell_type": "markdown",
   "metadata": {},
   "source": [
    "* As expected, Fiber-optic is not present anymore and combined under Fiber Optic "
   ]
  },
  {
   "cell_type": "markdown",
   "metadata": {
    "id": "TPi8Yko1aBYg"
   },
   "source": [
    "### Are there any missing values in the data? If so, treat them using an appropriate method."
   ]
  },
  {
   "cell_type": "code",
   "execution_count": 13,
   "metadata": {
    "id": "LDSLmn1HaAox"
   },
   "outputs": [
    {
     "data": {
      "text/plain": [
       "CustomerID           0\n",
       "Gender               0\n",
       "Senior_Citizen       0\n",
       "Partner              0\n",
       "Dependents           0\n",
       "Tenure               0\n",
       "Phone_Service        0\n",
       "Multiple_Lines       0\n",
       "Internet_Service     0\n",
       "Online_Security      0\n",
       "Online_Backup        0\n",
       "Device_Protection    0\n",
       "Tech_Support         0\n",
       "Streaming_TV         0\n",
       "Streaming_Movies     0\n",
       "Contract             0\n",
       "Paperless_Billing    0\n",
       "Payment_Method       0\n",
       "Monthly_Charges      0\n",
       "Total_Charges        9\n",
       "Churn                0\n",
       "dtype: int64"
      ]
     },
     "execution_count": 13,
     "metadata": {},
     "output_type": "execute_result"
    }
   ],
   "source": [
    "# Checking the missing values \n",
    "df.isnull().sum()"
   ]
  },
  {
   "cell_type": "markdown",
   "metadata": {},
   "source": [
    "* Total_Charges has 9 missing values"
   ]
  },
  {
   "cell_type": "code",
   "execution_count": 14,
   "metadata": {},
   "outputs": [
    {
     "data": {
      "text/html": [
       "<div>\n",
       "<style scoped>\n",
       "    .dataframe tbody tr th:only-of-type {\n",
       "        vertical-align: middle;\n",
       "    }\n",
       "\n",
       "    .dataframe tbody tr th {\n",
       "        vertical-align: top;\n",
       "    }\n",
       "\n",
       "    .dataframe thead th {\n",
       "        text-align: right;\n",
       "    }\n",
       "</style>\n",
       "<table border=\"1\" class=\"dataframe\">\n",
       "  <thead>\n",
       "    <tr style=\"text-align: right;\">\n",
       "      <th></th>\n",
       "      <th>CustomerID</th>\n",
       "      <th>Gender</th>\n",
       "      <th>Senior_Citizen</th>\n",
       "      <th>Partner</th>\n",
       "      <th>Dependents</th>\n",
       "      <th>Tenure</th>\n",
       "      <th>Phone_Service</th>\n",
       "      <th>Multiple_Lines</th>\n",
       "      <th>Internet_Service</th>\n",
       "      <th>Online_Security</th>\n",
       "      <th>...</th>\n",
       "      <th>Device_Protection</th>\n",
       "      <th>Tech_Support</th>\n",
       "      <th>Streaming_TV</th>\n",
       "      <th>Streaming_Movies</th>\n",
       "      <th>Contract</th>\n",
       "      <th>Paperless_Billing</th>\n",
       "      <th>Payment_Method</th>\n",
       "      <th>Monthly_Charges</th>\n",
       "      <th>Total_Charges</th>\n",
       "      <th>Churn</th>\n",
       "    </tr>\n",
       "  </thead>\n",
       "  <tbody>\n",
       "    <tr>\n",
       "      <th>488</th>\n",
       "      <td>4472-LVYGI</td>\n",
       "      <td>0</td>\n",
       "      <td>0</td>\n",
       "      <td>Yes</td>\n",
       "      <td>Yes</td>\n",
       "      <td>0</td>\n",
       "      <td>No</td>\n",
       "      <td>No phone service</td>\n",
       "      <td>DSL</td>\n",
       "      <td>Yes</td>\n",
       "      <td>...</td>\n",
       "      <td>Yes</td>\n",
       "      <td>Yes</td>\n",
       "      <td>Yes</td>\n",
       "      <td>No</td>\n",
       "      <td>Two year</td>\n",
       "      <td>Yes</td>\n",
       "      <td>Bank transfer (automatic)</td>\n",
       "      <td>52.55</td>\n",
       "      <td>NaN</td>\n",
       "      <td>No</td>\n",
       "    </tr>\n",
       "    <tr>\n",
       "      <th>753</th>\n",
       "      <td>3115-CZMZD</td>\n",
       "      <td>1</td>\n",
       "      <td>0</td>\n",
       "      <td>No</td>\n",
       "      <td>Yes</td>\n",
       "      <td>0</td>\n",
       "      <td>Yes</td>\n",
       "      <td>No</td>\n",
       "      <td>No</td>\n",
       "      <td>No internet service</td>\n",
       "      <td>...</td>\n",
       "      <td>No internet service</td>\n",
       "      <td>No internet service</td>\n",
       "      <td>No internet service</td>\n",
       "      <td>No internet service</td>\n",
       "      <td>Two year</td>\n",
       "      <td>No</td>\n",
       "      <td>Mailed check</td>\n",
       "      <td>20.25</td>\n",
       "      <td>NaN</td>\n",
       "      <td>No</td>\n",
       "    </tr>\n",
       "    <tr>\n",
       "      <th>936</th>\n",
       "      <td>5709-LVOEQ</td>\n",
       "      <td>0</td>\n",
       "      <td>0</td>\n",
       "      <td>Yes</td>\n",
       "      <td>Yes</td>\n",
       "      <td>0</td>\n",
       "      <td>Yes</td>\n",
       "      <td>No</td>\n",
       "      <td>DSL</td>\n",
       "      <td>Yes</td>\n",
       "      <td>...</td>\n",
       "      <td>Yes</td>\n",
       "      <td>No</td>\n",
       "      <td>Yes</td>\n",
       "      <td>Yes</td>\n",
       "      <td>Two year</td>\n",
       "      <td>No</td>\n",
       "      <td>Mailed check</td>\n",
       "      <td>80.85</td>\n",
       "      <td>NaN</td>\n",
       "      <td>No</td>\n",
       "    </tr>\n",
       "    <tr>\n",
       "      <th>1082</th>\n",
       "      <td>4367-NUYAO</td>\n",
       "      <td>1</td>\n",
       "      <td>0</td>\n",
       "      <td>Yes</td>\n",
       "      <td>Yes</td>\n",
       "      <td>0</td>\n",
       "      <td>Yes</td>\n",
       "      <td>Yes</td>\n",
       "      <td>No</td>\n",
       "      <td>No internet service</td>\n",
       "      <td>...</td>\n",
       "      <td>No internet service</td>\n",
       "      <td>No internet service</td>\n",
       "      <td>No internet service</td>\n",
       "      <td>No internet service</td>\n",
       "      <td>Two year</td>\n",
       "      <td>No</td>\n",
       "      <td>Mailed check</td>\n",
       "      <td>25.75</td>\n",
       "      <td>NaN</td>\n",
       "      <td>No</td>\n",
       "    </tr>\n",
       "    <tr>\n",
       "      <th>1340</th>\n",
       "      <td>1371-DWPAZ</td>\n",
       "      <td>0</td>\n",
       "      <td>0</td>\n",
       "      <td>Yes</td>\n",
       "      <td>Yes</td>\n",
       "      <td>0</td>\n",
       "      <td>No</td>\n",
       "      <td>No phone service</td>\n",
       "      <td>DSL</td>\n",
       "      <td>Yes</td>\n",
       "      <td>...</td>\n",
       "      <td>Yes</td>\n",
       "      <td>Yes</td>\n",
       "      <td>Yes</td>\n",
       "      <td>No</td>\n",
       "      <td>Two year</td>\n",
       "      <td>No</td>\n",
       "      <td>Credit card (automatic)</td>\n",
       "      <td>56.05</td>\n",
       "      <td>NaN</td>\n",
       "      <td>No</td>\n",
       "    </tr>\n",
       "    <tr>\n",
       "      <th>3331</th>\n",
       "      <td>7644-OMVMY</td>\n",
       "      <td>1</td>\n",
       "      <td>0</td>\n",
       "      <td>Yes</td>\n",
       "      <td>Yes</td>\n",
       "      <td>0</td>\n",
       "      <td>Yes</td>\n",
       "      <td>No</td>\n",
       "      <td>No</td>\n",
       "      <td>No internet service</td>\n",
       "      <td>...</td>\n",
       "      <td>No internet service</td>\n",
       "      <td>No internet service</td>\n",
       "      <td>No internet service</td>\n",
       "      <td>No internet service</td>\n",
       "      <td>Two year</td>\n",
       "      <td>No</td>\n",
       "      <td>Mailed check</td>\n",
       "      <td>19.85</td>\n",
       "      <td>NaN</td>\n",
       "      <td>No</td>\n",
       "    </tr>\n",
       "    <tr>\n",
       "      <th>3826</th>\n",
       "      <td>3213-VVOLG</td>\n",
       "      <td>1</td>\n",
       "      <td>0</td>\n",
       "      <td>Yes</td>\n",
       "      <td>Yes</td>\n",
       "      <td>0</td>\n",
       "      <td>Yes</td>\n",
       "      <td>Yes</td>\n",
       "      <td>No</td>\n",
       "      <td>No internet service</td>\n",
       "      <td>...</td>\n",
       "      <td>No internet service</td>\n",
       "      <td>No internet service</td>\n",
       "      <td>No internet service</td>\n",
       "      <td>No internet service</td>\n",
       "      <td>Two year</td>\n",
       "      <td>No</td>\n",
       "      <td>Mailed check</td>\n",
       "      <td>25.35</td>\n",
       "      <td>NaN</td>\n",
       "      <td>No</td>\n",
       "    </tr>\n",
       "    <tr>\n",
       "      <th>4380</th>\n",
       "      <td>2520-SGTTA</td>\n",
       "      <td>0</td>\n",
       "      <td>0</td>\n",
       "      <td>Yes</td>\n",
       "      <td>Yes</td>\n",
       "      <td>0</td>\n",
       "      <td>Yes</td>\n",
       "      <td>No</td>\n",
       "      <td>No</td>\n",
       "      <td>No internet service</td>\n",
       "      <td>...</td>\n",
       "      <td>No internet service</td>\n",
       "      <td>No internet service</td>\n",
       "      <td>No internet service</td>\n",
       "      <td>No internet service</td>\n",
       "      <td>Two year</td>\n",
       "      <td>No</td>\n",
       "      <td>Mailed check</td>\n",
       "      <td>20.00</td>\n",
       "      <td>NaN</td>\n",
       "      <td>No</td>\n",
       "    </tr>\n",
       "    <tr>\n",
       "      <th>5218</th>\n",
       "      <td>2923-ARZLG</td>\n",
       "      <td>1</td>\n",
       "      <td>0</td>\n",
       "      <td>Yes</td>\n",
       "      <td>Yes</td>\n",
       "      <td>0</td>\n",
       "      <td>Yes</td>\n",
       "      <td>No</td>\n",
       "      <td>No</td>\n",
       "      <td>No internet service</td>\n",
       "      <td>...</td>\n",
       "      <td>No internet service</td>\n",
       "      <td>No internet service</td>\n",
       "      <td>No internet service</td>\n",
       "      <td>No internet service</td>\n",
       "      <td>One year</td>\n",
       "      <td>Yes</td>\n",
       "      <td>Mailed check</td>\n",
       "      <td>19.70</td>\n",
       "      <td>NaN</td>\n",
       "      <td>No</td>\n",
       "    </tr>\n",
       "  </tbody>\n",
       "</table>\n",
       "<p>9 rows × 21 columns</p>\n",
       "</div>"
      ],
      "text/plain": [
       "      CustomerID  Gender  Senior_Citizen Partner Dependents  Tenure  \\\n",
       "488   4472-LVYGI       0               0     Yes        Yes       0   \n",
       "753   3115-CZMZD       1               0      No        Yes       0   \n",
       "936   5709-LVOEQ       0               0     Yes        Yes       0   \n",
       "1082  4367-NUYAO       1               0     Yes        Yes       0   \n",
       "1340  1371-DWPAZ       0               0     Yes        Yes       0   \n",
       "3331  7644-OMVMY       1               0     Yes        Yes       0   \n",
       "3826  3213-VVOLG       1               0     Yes        Yes       0   \n",
       "4380  2520-SGTTA       0               0     Yes        Yes       0   \n",
       "5218  2923-ARZLG       1               0     Yes        Yes       0   \n",
       "\n",
       "     Phone_Service    Multiple_Lines Internet_Service      Online_Security  \\\n",
       "488             No  No phone service              DSL                  Yes   \n",
       "753            Yes                No               No  No internet service   \n",
       "936            Yes                No              DSL                  Yes   \n",
       "1082           Yes               Yes               No  No internet service   \n",
       "1340            No  No phone service              DSL                  Yes   \n",
       "3331           Yes                No               No  No internet service   \n",
       "3826           Yes               Yes               No  No internet service   \n",
       "4380           Yes                No               No  No internet service   \n",
       "5218           Yes                No               No  No internet service   \n",
       "\n",
       "      ...    Device_Protection         Tech_Support         Streaming_TV  \\\n",
       "488   ...                  Yes                  Yes                  Yes   \n",
       "753   ...  No internet service  No internet service  No internet service   \n",
       "936   ...                  Yes                   No                  Yes   \n",
       "1082  ...  No internet service  No internet service  No internet service   \n",
       "1340  ...                  Yes                  Yes                  Yes   \n",
       "3331  ...  No internet service  No internet service  No internet service   \n",
       "3826  ...  No internet service  No internet service  No internet service   \n",
       "4380  ...  No internet service  No internet service  No internet service   \n",
       "5218  ...  No internet service  No internet service  No internet service   \n",
       "\n",
       "         Streaming_Movies  Contract Paperless_Billing  \\\n",
       "488                    No  Two year               Yes   \n",
       "753   No internet service  Two year                No   \n",
       "936                   Yes  Two year                No   \n",
       "1082  No internet service  Two year                No   \n",
       "1340                   No  Two year                No   \n",
       "3331  No internet service  Two year                No   \n",
       "3826  No internet service  Two year                No   \n",
       "4380  No internet service  Two year                No   \n",
       "5218  No internet service  One year               Yes   \n",
       "\n",
       "                 Payment_Method Monthly_Charges  Total_Charges  Churn  \n",
       "488   Bank transfer (automatic)           52.55            NaN     No  \n",
       "753                Mailed check           20.25            NaN     No  \n",
       "936                Mailed check           80.85            NaN     No  \n",
       "1082               Mailed check           25.75            NaN     No  \n",
       "1340    Credit card (automatic)           56.05            NaN     No  \n",
       "3331               Mailed check           19.85            NaN     No  \n",
       "3826               Mailed check           25.35            NaN     No  \n",
       "4380               Mailed check           20.00            NaN     No  \n",
       "5218               Mailed check           19.70            NaN     No  \n",
       "\n",
       "[9 rows x 21 columns]"
      ]
     },
     "execution_count": 14,
     "metadata": {},
     "output_type": "execute_result"
    }
   ],
   "source": [
    "# Let us see rows with these missing values\n",
    "df[df['Total_Charges'].isna()]\n"
   ]
  },
  {
   "cell_type": "markdown",
   "metadata": {},
   "source": [
    "* Note that Tenure for all missing values is 0 (this info will be used later in a note section) "
   ]
  },
  {
   "cell_type": "markdown",
   "metadata": {
    "id": "W7sY7qxfaPAN"
   },
   "source": [
    "#### Let's try to fill in the missing value with the median value of the column."
   ]
  },
  {
   "cell_type": "code",
   "execution_count": 15,
   "metadata": {
    "id": "x1EZE_VlaPbc"
   },
   "outputs": [
    {
     "data": {
      "text/plain": [
       "CustomerID           0\n",
       "Gender               0\n",
       "Senior_Citizen       0\n",
       "Partner              0\n",
       "Dependents           0\n",
       "Tenure               0\n",
       "Phone_Service        0\n",
       "Multiple_Lines       0\n",
       "Internet_Service     0\n",
       "Online_Security      0\n",
       "Online_Backup        0\n",
       "Device_Protection    0\n",
       "Tech_Support         0\n",
       "Streaming_TV         0\n",
       "Streaming_Movies     0\n",
       "Contract             0\n",
       "Paperless_Billing    0\n",
       "Payment_Method       0\n",
       "Monthly_Charges      0\n",
       "Total_Charges        0\n",
       "Churn                0\n",
       "dtype: int64"
      ]
     },
     "execution_count": 15,
     "metadata": {},
     "output_type": "execute_result"
    }
   ],
   "source": [
    "# Filling the missing values with medians \n",
    "df['Total_Charges'] = df['Total_Charges'].fillna(df['Total_Charges'].median())\n",
    "\n",
    "# Checking the missing values \n",
    "df.isnull().sum()"
   ]
  },
  {
   "cell_type": "markdown",
   "metadata": {},
   "source": [
    "Note: we were asked to replace the missing values with medians. However, it may be better replacing the missing values with zeros or with Monthly_charges because tenure (in months) is 0 so total charges should not be greater than monthly bill (assuming no other charges were present). Anyway, we will keep replacing the missing values with medians as requested in the task"
   ]
  },
  {
   "cell_type": "markdown",
   "metadata": {
    "id": "A-Zw1NJkdr4k"
   },
   "source": [
    "##### Now, after handling the missing values and also checking the data types, let's visualise the dataset."
   ]
  },
  {
   "cell_type": "markdown",
   "metadata": {
    "id": "-ohjud5D1RDJ"
   },
   "source": [
    "##  Data Visualization \n",
    "\n",
    "In addition to the observations, perform each of the five relevant univariate and bivariate analyses of different columns with the help of the below functions."
   ]
  },
  {
   "cell_type": "markdown",
   "metadata": {
    "id": "Q1yIAQqFd3LY"
   },
   "source": [
    "### Univariate Analysis  \n",
    "\n"
   ]
  },
  {
   "cell_type": "markdown",
   "metadata": {
    "id": "C5CLzrF4d8uQ"
   },
   "source": [
    "Before doing the visualization, please run the below codes:"
   ]
  },
  {
   "cell_type": "code",
   "execution_count": 16,
   "metadata": {
    "id": "s-NwC1_Mds17"
   },
   "outputs": [],
   "source": [
    "def histogram_boxplot(data, feature, figsize=(12, 7), kde=False, bins=None):\n",
    "    \"\"\"\n",
    "    Boxplot and histogram combined\n",
    "\n",
    "    data: dataframe\n",
    "    feature: dataframe column\n",
    "    figsize: size of figure (default (12,7))\n",
    "    kde: whether to show the density curve (default False)\n",
    "    bins: number of bins for histogram (default None)\n",
    "    \"\"\"\n",
    "    f2, (ax_box2, ax_hist2) = plt.subplots(\n",
    "        nrows=2,  # Number of rows of the subplot grid= 2\n",
    "        sharex=True,  # x-axis will be shared among all subplots\n",
    "        gridspec_kw={\"height_ratios\": (0.25, 0.75)},\n",
    "        figsize=figsize,\n",
    "    )  # creating the 2 subplots\n",
    "    sns.boxplot(\n",
    "        data=data, x=feature, ax=ax_box2, showmeans=True, color=\"violet\"\n",
    "    )  # boxplot will be created and a star will indicate the mean value of the column\n",
    "    sns.histplot(\n",
    "        data=data, x=feature, kde=kde, ax=ax_hist2, bins=bins, palette=\"winter\"\n",
    "    ) if bins else sns.histplot(\n",
    "        data=data, x=feature, kde=kde, ax=ax_hist2\n",
    "    )  # For histogram\n",
    "    ax_hist2.axvline(\n",
    "        data[feature].mean(), color=\"green\", linestyle=\"--\"\n",
    "    )  # Add mean to the histogram\n",
    "    ax_hist2.axvline(\n",
    "        data[feature].median(), color=\"black\", linestyle=\"-\"\n",
    "    )  # Add median to the histogram"
   ]
  },
  {
   "cell_type": "code",
   "execution_count": 17,
   "metadata": {
    "id": "_Xwu_TJ-eEzS"
   },
   "outputs": [],
   "source": [
    "# function to create labeled barplots\n",
    "\n",
    "\n",
    "def labeled_barplot(data, feature, perc=False, n=None):\n",
    "    \"\"\"\n",
    "    Barplot with percentage at the top\n",
    "\n",
    "    data: dataframe\n",
    "    feature: dataframe column\n",
    "    perc: whether to display percentages instead of count (default is False)\n",
    "    n: displays the top n category levels (default is None, i.e., display all levels)\n",
    "    \"\"\"\n",
    "\n",
    "    total = len(data[feature])  # length of the column\n",
    "    count = data[feature].nunique()\n",
    "    if n is None:\n",
    "        plt.figure(figsize=(count + 1, 5))\n",
    "    else:\n",
    "        plt.figure(figsize=(n + 1, 5))\n",
    "\n",
    "    plt.xticks(rotation=90, fontsize=15)\n",
    "    ax = sns.countplot(\n",
    "        data=data,\n",
    "        x=feature,\n",
    "        palette=\"Paired\",\n",
    "        order=data[feature].value_counts().index[:n].sort_values(),\n",
    "    )\n",
    "\n",
    "    for p in ax.patches:\n",
    "        if perc == True:\n",
    "            label = \"{:.1f}%\".format(\n",
    "                100 * p.get_height() / total\n",
    "            )  # percentage of each class of the category\n",
    "        else:\n",
    "            label = p.get_height()  # count of each level of the category\n",
    "\n",
    "        x = p.get_x() + p.get_width() / 2  # width of the plot\n",
    "        y = p.get_height()  # height of the plot\n",
    "\n",
    "        ax.annotate(\n",
    "            label,\n",
    "            (x, y),\n",
    "            ha=\"center\",\n",
    "            va=\"center\",\n",
    "            size=12,\n",
    "            xytext=(0, 5),\n",
    "            textcoords=\"offset points\",\n",
    "        )  # annotate the percentage\n",
    "\n",
    "    plt.show()  # show the plot"
   ]
  },
  {
   "cell_type": "code",
   "execution_count": 18,
   "metadata": {
    "id": "coYzSkcueE73"
   },
   "outputs": [],
   "source": [
    "def stacked_barplot(data, predictor, target):\n",
    "    \"\"\"\n",
    "    Print the category counts and plot a stacked bar chart\n",
    "\n",
    "    data: dataframe\n",
    "    predictor: independent variable\n",
    "    target: target variable\n",
    "    \"\"\"\n",
    "    count = data[predictor].nunique()\n",
    "    sorter = data[target].value_counts().index[-1]\n",
    "    tab1 = pd.crosstab(data[predictor], data[target], margins=True).sort_values(\n",
    "        by=sorter, ascending=False\n",
    "    )\n",
    "    print(tab1)\n",
    "    print(\"-\" * 120)\n",
    "    tab = pd.crosstab(data[predictor], data[target], normalize=\"index\").sort_values(\n",
    "        by=sorter, ascending=False\n",
    "    )\n",
    "    tab.plot(kind=\"bar\", stacked=True, figsize=(count + 5, 5))\n",
    "    plt.legend(\n",
    "        loc=\"lower left\", frameon=False,\n",
    "    )\n",
    "    plt.legend(loc=\"upper left\", bbox_to_anchor=(1, 1))\n",
    "    plt.show()"
   ]
  },
  {
   "cell_type": "code",
   "execution_count": 19,
   "metadata": {
    "id": "swLkyzJWfOzR"
   },
   "outputs": [],
   "source": [
    "### function to plot distributions wrt target\n",
    "\n",
    "def distribution_plot_wrt_target(data, predictor, target):\n",
    "\n",
    "    fig, axs = plt.subplots(2, 2, figsize=(12, 10))\n",
    "\n",
    "    target_uniq = data[target].unique()\n",
    "\n",
    "    axs[0, 0].set_title(\"Distribution of target for target=\" + str(target_uniq[0]))\n",
    "    sns.histplot(\n",
    "        data=data[data[target] == target_uniq[0]],\n",
    "        x=predictor,\n",
    "        kde=True,\n",
    "        ax=axs[0, 0],\n",
    "        color=\"teal\",\n",
    "        stat=\"density\",\n",
    "    )\n",
    "\n",
    "    axs[0, 1].set_title(\"Distribution of target for target=\" + str(target_uniq[1]))\n",
    "    sns.histplot(\n",
    "        data=data[data[target] == target_uniq[1]],\n",
    "        x=predictor,\n",
    "        kde=True,\n",
    "        ax=axs[0, 1],\n",
    "        color=\"orange\",\n",
    "        stat=\"density\",\n",
    "    )\n",
    "\n",
    "    axs[1, 0].set_title(\"Boxplot w.r.t target\")\n",
    "    sns.boxplot(data=data, x=target, y=predictor, ax=axs[1, 0], palette=\"gist_rainbow\")\n",
    "\n",
    "    axs[1, 1].set_title(\"Boxplot (without outliers) w.r.t target\")\n",
    "    sns.boxplot(\n",
    "        data=data,\n",
    "        x=target,\n",
    "        y=predictor,\n",
    "        ax=axs[1, 1],\n",
    "        showfliers=False,\n",
    "        palette=\"gist_rainbow\",\n",
    "    )\n",
    "\n",
    "    plt.tight_layout()\n",
    "    plt.show()"
   ]
  },
  {
   "cell_type": "markdown",
   "metadata": {
    "id": "0knX8gUWfSz1"
   },
   "source": [
    "#### Do the univariate analysis of different integer and categorical variables and write down the observations. \n",
    "Hint: Plot different visualizations using the above function"
   ]
  },
  {
   "cell_type": "code",
   "execution_count": 20,
   "metadata": {
    "id": "kcYeRVFBpxPU",
    "scrolled": true
   },
   "outputs": [
    {
     "data": {
      "image/png": "[encoded data removed]",
      "text/plain": [
       "<Figure size 864x504 with 2 Axes>"
      ]
     },
     "metadata": {
      "needs_background": "light"
     },
     "output_type": "display_data"
    }
   ],
   "source": [
    "# Histogram of Tenure\n",
    "histogram_boxplot(df,'Tenure')"
   ]
  },
  {
   "cell_type": "markdown",
   "metadata": {},
   "source": [
    "Observations:\n",
    "-  In average, our customers are around 33 years whereas median value is a just little below 30 years. Mean tenure (the green line)  is higher than the median tenure. Thus, the data is righ skewed (as it also seen on histogram).\n",
    "\n",
    "- Two distinct bars are seen: (1) Tenure is below 5 months (the most left bar) and (2)Tenure is 70 months (the rightest bar). So we have around 1150 customers from group 1 who quickly abandoned (chunned?) our company. At the same time, around 800 customers remain with company a long time. In future analysis, it may be valuable to understand common features of each group.  "
   ]
  },
  {
   "cell_type": "code",
   "execution_count": 21,
   "metadata": {
    "scrolled": true
   },
   "outputs": [
    {
     "data": {
      "image/png": "[encoded data removed]",
      "text/plain": [
       "<Figure size 864x504 with 2 Axes>"
      ]
     },
     "metadata": {
      "needs_background": "light"
     },
     "output_type": "display_data"
    }
   ],
   "source": [
    "# Histogram of Tenure\n",
    "histogram_boxplot(df,'Monthly_Charges')"
   ]
  },
  {
   "cell_type": "markdown",
   "metadata": {},
   "source": [
    "Observations:\n",
    "- The mean monthly charge is around 65 and the median is about 70. \n",
    "\n",
    "- The most numbered group (the left bar with around 1100 customers) has monthly charge equal or below 20 "
   ]
  },
  {
   "cell_type": "code",
   "execution_count": 22,
   "metadata": {},
   "outputs": [
    {
     "data": {
      "image/png": "[encoded data removed]",
      "text/plain": [
       "<Figure size 864x504 with 2 Axes>"
      ]
     },
     "metadata": {
      "needs_background": "light"
     },
     "output_type": "display_data"
    }
   ],
   "source": [
    "# Histogram of Tenure\n",
    "histogram_boxplot(df,'Total_Charges')"
   ]
  },
  {
   "cell_type": "markdown",
   "metadata": {},
   "source": [
    "Observations:\n",
    "- Mean total charges is a little bit higher than 2000 whereas median is roughly about 1500. The data is right skewed\n",
    "\n",
    "- The left bar has the highest count i.e. the most people bear low charges  and probably churn"
   ]
  },
  {
   "cell_type": "code",
   "execution_count": 23,
   "metadata": {},
   "outputs": [
    {
     "data": {
      "image/png": "[encoded data removed]",
      "text/plain": [
       "<Figure size 216x360 with 1 Axes>"
      ]
     },
     "metadata": {
      "needs_background": "light"
     },
     "output_type": "display_data"
    }
   ],
   "source": [
    "labeled_barplot(df,'Gender')"
   ]
  },
  {
   "cell_type": "markdown",
   "metadata": {},
   "source": [
    "* There is approximatevely the same number of men and women"
   ]
  },
  {
   "cell_type": "code",
   "execution_count": 24,
   "metadata": {},
   "outputs": [
    {
     "data": {
      "image/png": "[encoded data removed]",
      "text/plain": [
       "<Figure size 216x360 with 1 Axes>"
      ]
     },
     "metadata": {
      "needs_background": "light"
     },
     "output_type": "display_data"
    }
   ],
   "source": [
    "labeled_barplot(df,'Senior_Citizen')"
   ]
  },
  {
   "cell_type": "markdown",
   "metadata": {},
   "source": [
    "* Most of our customers are not senior citizens (5443 against 1056)"
   ]
  },
  {
   "cell_type": "code",
   "execution_count": 25,
   "metadata": {},
   "outputs": [
    {
     "data": {
      "image/png": "[encoded data removed]",
      "text/plain": [
       "<Figure size 216x360 with 1 Axes>"
      ]
     },
     "metadata": {
      "needs_background": "light"
     },
     "output_type": "display_data"
    }
   ],
   "source": [
    "labeled_barplot(df,'Partner')"
   ]
  },
  {
   "cell_type": "markdown",
   "metadata": {},
   "source": [
    "* 51 % of our customers do not have partner. So, approximatevely, the same share of customers has the partner "
   ]
  },
  {
   "cell_type": "code",
   "execution_count": 26,
   "metadata": {},
   "outputs": [
    {
     "data": {
      "image/png": "[encoded data removed]",
      "text/plain": [
       "<Figure size 216x360 with 1 Axes>"
      ]
     },
     "metadata": {
      "needs_background": "light"
     },
     "output_type": "display_data"
    }
   ],
   "source": [
    "labeled_barplot(df,'Dependents')"
   ]
  },
  {
   "cell_type": "markdown",
   "metadata": {},
   "source": [
    "* Around 70% of our customers do not have dependents. However, 30 % of customers, which is also significant number, have dependents"
   ]
  },
  {
   "cell_type": "code",
   "execution_count": 27,
   "metadata": {},
   "outputs": [
    {
     "data": {
      "image/png": "[encoded data removed]",
      "text/plain": [
       "<Figure size 216x360 with 1 Axes>"
      ]
     },
     "metadata": {
      "needs_background": "light"
     },
     "output_type": "display_data"
    }
   ],
   "source": [
    "labeled_barplot(df,'Phone_Service')"
   ]
  },
  {
   "cell_type": "markdown",
   "metadata": {},
   "source": [
    "* 90% of customers have a phone service"
   ]
  },
  {
   "cell_type": "code",
   "execution_count": 28,
   "metadata": {},
   "outputs": [
    {
     "data": {
      "image/png": "[encoded data removed]",
      "text/plain": [
       "<Figure size 288x360 with 1 Axes>"
      ]
     },
     "metadata": {
      "needs_background": "light"
     },
     "output_type": "display_data"
    }
   ],
   "source": [
    "labeled_barplot(df,'Multiple_Lines')"
   ]
  },
  {
   "cell_type": "markdown",
   "metadata": {},
   "source": [
    "* Among those who use phone service, 53% have only 1 line. 47% have multiple lines"
   ]
  },
  {
   "cell_type": "code",
   "execution_count": 29,
   "metadata": {},
   "outputs": [
    {
     "data": {
      "image/png": "[encoded data removed]",
      "text/plain": [
       "<Figure size 288x360 with 1 Axes>"
      ]
     },
     "metadata": {
      "needs_background": "light"
     },
     "output_type": "display_data"
    }
   ],
   "source": [
    "labeled_barplot(df,'Internet_Service')"
   ]
  },
  {
   "cell_type": "markdown",
   "metadata": {},
   "source": [
    "- Most of internet service is ensured via fiber optic. The remaining (also significant) part is ensured by DSL.\n",
    "- 22 % of customers do not have internet service  "
   ]
  },
  {
   "cell_type": "code",
   "execution_count": 30,
   "metadata": {},
   "outputs": [
    {
     "data": {
      "image/png": "[encoded data removed]",
      "text/plain": [
       "<Figure size 288x360 with 1 Axes>"
      ]
     },
     "metadata": {
      "needs_background": "light"
     },
     "output_type": "display_data"
    }
   ],
   "source": [
    "labeled_barplot(df,'Online_Security')"
   ]
  },
  {
   "cell_type": "markdown",
   "metadata": {},
   "source": [
    "* Among those who use internet service, 63% of customers do not have online security"
   ]
  },
  {
   "cell_type": "code",
   "execution_count": 31,
   "metadata": {},
   "outputs": [
    {
     "data": {
      "image/png": "[encoded data removed]",
      "text/plain": [
       "<Figure size 288x360 with 1 Axes>"
      ]
     },
     "metadata": {
      "needs_background": "light"
     },
     "output_type": "display_data"
    }
   ],
   "source": [
    "labeled_barplot(df,'Online_Backup')"
   ]
  },
  {
   "cell_type": "markdown",
   "metadata": {},
   "source": [
    "* Among those who use internet service, 56% of customers do not have online backup (but less than online security)"
   ]
  },
  {
   "cell_type": "code",
   "execution_count": 32,
   "metadata": {},
   "outputs": [
    {
     "data": {
      "image/png": "[encoded data removed]",
      "text/plain": [
       "<Figure size 288x360 with 1 Axes>"
      ]
     },
     "metadata": {
      "needs_background": "light"
     },
     "output_type": "display_data"
    }
   ],
   "source": [
    "labeled_barplot(df,'Device_Protection')"
   ]
  },
  {
   "cell_type": "markdown",
   "metadata": {},
   "source": [
    "* Among those who use internet service, 56% of customers do not have device protection "
   ]
  },
  {
   "cell_type": "code",
   "execution_count": 33,
   "metadata": {},
   "outputs": [
    {
     "data": {
      "image/png": "[encoded data removed]",
      "text/plain": [
       "<Figure size 288x360 with 1 Axes>"
      ]
     },
     "metadata": {
      "needs_background": "light"
     },
     "output_type": "display_data"
    }
   ],
   "source": [
    "labeled_barplot(df,'Tech_Support')"
   ]
  },
  {
   "cell_type": "markdown",
   "metadata": {},
   "source": [
    "* Among those who use internet service, 63% of customers do not have a tech support "
   ]
  },
  {
   "cell_type": "code",
   "execution_count": 34,
   "metadata": {},
   "outputs": [
    {
     "data": {
      "image/png": "[encoded data removed]",
      "text/plain": [
       "<Figure size 288x360 with 1 Axes>"
      ]
     },
     "metadata": {
      "needs_background": "light"
     },
     "output_type": "display_data"
    }
   ],
   "source": [
    "labeled_barplot(df,'Streaming_TV')"
   ]
  },
  {
   "cell_type": "markdown",
   "metadata": {},
   "source": [
    "* Among those who use internet service, 51 % of customers do not have a streaming TV"
   ]
  },
  {
   "cell_type": "code",
   "execution_count": 35,
   "metadata": {},
   "outputs": [
    {
     "data": {
      "image/png": "[encoded data removed]",
      "text/plain": [
       "<Figure size 288x360 with 1 Axes>"
      ]
     },
     "metadata": {
      "needs_background": "light"
     },
     "output_type": "display_data"
    }
   ],
   "source": [
    "labeled_barplot(df,'Streaming_Movies')"
   ]
  },
  {
   "cell_type": "markdown",
   "metadata": {},
   "source": [
    "* Among those who use internet service, 50 % of customers do not have a streaming movies"
   ]
  },
  {
   "cell_type": "code",
   "execution_count": 36,
   "metadata": {},
   "outputs": [
    {
     "data": {
      "image/png": "[encoded data removed]",
      "text/plain": [
       "<Figure size 288x360 with 1 Axes>"
      ]
     },
     "metadata": {
      "needs_background": "light"
     },
     "output_type": "display_data"
    }
   ],
   "source": [
    "labeled_barplot(df,'Contract')"
   ]
  },
  {
   "cell_type": "markdown",
   "metadata": {},
   "source": [
    "* 55% of all customers have month-to-month contracts. 21 % of all customers have one-year contracts and 24% of customers have two-year contracts"
   ]
  },
  {
   "cell_type": "code",
   "execution_count": 37,
   "metadata": {},
   "outputs": [
    {
     "data": {
      "image/png": "[encoded data removed]",
      "text/plain": [
       "<Figure size 216x360 with 1 Axes>"
      ]
     },
     "metadata": {
      "needs_background": "light"
     },
     "output_type": "display_data"
    }
   ],
   "source": [
    "labeled_barplot(df,'Paperless_Billing')"
   ]
  },
  {
   "cell_type": "markdown",
   "metadata": {},
   "source": [
    "* Most of customers (59%) use a paperless billing "
   ]
  },
  {
   "cell_type": "code",
   "execution_count": 38,
   "metadata": {},
   "outputs": [
    {
     "data": {
      "image/png": "[encoded data removed]",
      "text/plain": [
       "<Figure size 360x360 with 1 Axes>"
      ]
     },
     "metadata": {
      "needs_background": "light"
     },
     "output_type": "display_data"
    }
   ],
   "source": [
    "labeled_barplot(df,'Payment_Method')"
   ]
  },
  {
   "cell_type": "markdown",
   "metadata": {},
   "source": [
    "* Electronic check is the most popular payment method (33.6%). The remaining % are almost equally distributed among other methods "
   ]
  },
  {
   "cell_type": "code",
   "execution_count": 39,
   "metadata": {},
   "outputs": [
    {
     "data": {
      "image/png": "[encoded data removed]",
      "text/plain": [
       "<Figure size 216x360 with 1 Axes>"
      ]
     },
     "metadata": {
      "needs_background": "light"
     },
     "output_type": "display_data"
    }
   ],
   "source": [
    "labeled_barplot(df,'Churn')"
   ]
  },
  {
   "cell_type": "markdown",
   "metadata": {},
   "source": [
    "* Most of customers in database did not churn (74% against 26% who did churn)"
   ]
  },
  {
   "cell_type": "markdown",
   "metadata": {
    "id": "MapQkepfjqYN"
   },
   "source": [
    "\n",
    "### Bivariate Analysis "
   ]
  },
  {
   "cell_type": "markdown",
   "metadata": {
    "id": "HJ7Htf_2jqeP"
   },
   "source": [
    "#### Plot the heatmap."
   ]
  },
  {
   "cell_type": "code",
   "execution_count": 40,
   "metadata": {
    "id": "37SpOrVNjj7p"
   },
   "outputs": [
    {
     "data": {
      "image/png": "[encoded data removed]",
      "text/plain": [
       "<Figure size 1080x504 with 2 Axes>"
      ]
     },
     "metadata": {
      "needs_background": "light"
     },
     "output_type": "display_data"
    }
   ],
   "source": [
    "#  Plot a heatmap\n",
    "plt.figure(figsize=(15, 7))\n",
    "sns.heatmap(df.corr(),\n",
    "            annot=True,\n",
    "            vmin=-1,\n",
    "            vmax=1);\n",
    "\n",
    "plt.show()"
   ]
  },
  {
   "cell_type": "markdown",
   "metadata": {
    "id": "t5Jhba1Uj9qz"
   },
   "source": [
    "* Only numeric columns were analysed. \n",
    "\n",
    "* There is a moderate high correlation (0.65) between monthly charges and total charges as weel as relatively high correlation (0.83) between tenure and total charges "
   ]
  },
  {
   "cell_type": "markdown",
   "metadata": {
    "id": "vaswDcbOkRBZ"
   },
   "source": [
    "#### Do the bivariate analysis between column name - \"Churn\" and different integer and categorical variables and write down the observations. \n",
    "Hint: Plot different visualizations using the above function"
   ]
  },
  {
   "cell_type": "code",
   "execution_count": 41,
   "metadata": {
    "id": "Nm_OBZ7ap1aB"
   },
   "outputs": [
    {
     "name": "stdout",
     "output_type": "stream",
     "text": [
      "Churn     No   Yes   All\n",
      "Gender                  \n",
      "All     4784  1715  6499\n",
      "0       2347   862  3209\n",
      "1       2437   853  3290\n",
      "------------------------------------------------------------------------------------------------------------------------\n"
     ]
    },
    {
     "data": {
      "image/png": "[encoded data removed]",
      "text/plain": [
       "<Figure size 504x360 with 1 Axes>"
      ]
     },
     "metadata": {
      "needs_background": "light"
     },
     "output_type": "display_data"
    }
   ],
   "source": [
    "stacked_barplot(df, 'Gender', 'Churn')\n"
   ]
  },
  {
   "cell_type": "markdown",
   "metadata": {},
   "source": [
    "* There is approximately the same proportion of churned clients (36%) among women and mens"
   ]
  },
  {
   "cell_type": "code",
   "execution_count": 42,
   "metadata": {},
   "outputs": [
    {
     "name": "stdout",
     "output_type": "stream",
     "text": [
      "Churn             No   Yes   All\n",
      "Senior_Citizen                  \n",
      "All             4784  1715  6499\n",
      "0               4163  1280  5443\n",
      "1                621   435  1056\n",
      "------------------------------------------------------------------------------------------------------------------------\n"
     ]
    },
    {
     "data": {
      "image/png": "[encoded data removed]",
      "text/plain": [
       "<Figure size 504x360 with 1 Axes>"
      ]
     },
     "metadata": {
      "needs_background": "light"
     },
     "output_type": "display_data"
    }
   ],
   "source": [
    "stacked_barplot(df, 'Senior_Citizen', 'Churn')\n"
   ]
  },
  {
   "cell_type": "markdown",
   "metadata": {},
   "source": [
    "* Among senior citizens, the share of churned clients is higher than non seniors (41% against 23.5%)"
   ]
  },
  {
   "cell_type": "code",
   "execution_count": 43,
   "metadata": {},
   "outputs": [
    {
     "name": "stdout",
     "output_type": "stream",
     "text": [
      "Churn      No   Yes   All\n",
      "Partner                  \n",
      "All      4784  1715  6499\n",
      "No       2260  1099  3359\n",
      "Yes      2524   616  3140\n",
      "------------------------------------------------------------------------------------------------------------------------\n"
     ]
    },
    {
     "data": {
      "image/png": "[encoded data removed]",
      "text/plain": [
       "<Figure size 504x360 with 1 Axes>"
      ]
     },
     "metadata": {
      "needs_background": "light"
     },
     "output_type": "display_data"
    }
   ],
   "source": [
    "stacked_barplot(df, 'Partner', 'Churn')\n"
   ]
  },
  {
   "cell_type": "markdown",
   "metadata": {},
   "source": [
    "* The share of churned clients among people who does not have a partner is higher than those who has a partner (33% against 20%)"
   ]
  },
  {
   "cell_type": "code",
   "execution_count": 44,
   "metadata": {},
   "outputs": [
    {
     "name": "stdout",
     "output_type": "stream",
     "text": [
      "Churn         No   Yes   All\n",
      "Dependents                  \n",
      "All         4784  1715  6499\n",
      "No          3144  1417  4561\n",
      "Yes         1640   298  1938\n",
      "------------------------------------------------------------------------------------------------------------------------\n"
     ]
    },
    {
     "data": {
      "image/png": "[encoded data removed]",
      "text/plain": [
       "<Figure size 504x360 with 1 Axes>"
      ]
     },
     "metadata": {
      "needs_background": "light"
     },
     "output_type": "display_data"
    }
   ],
   "source": [
    "stacked_barplot(df, 'Dependents', 'Churn')\n"
   ]
  },
  {
   "cell_type": "markdown",
   "metadata": {},
   "source": [
    "* The share of churned clients among people who does not have dependents is higher than those who have them (31% against 15%)"
   ]
  },
  {
   "cell_type": "code",
   "execution_count": 45,
   "metadata": {},
   "outputs": [
    {
     "name": "stdout",
     "output_type": "stream",
     "text": [
      "Churn     No   Yes   All\n",
      "Tenure                  \n",
      "All     4784  1715  6499\n",
      "1        221   350   571\n",
      "2        108   113   221\n",
      "3         98    81   179\n",
      "4         87    76   163\n",
      "...      ...   ...   ...\n",
      "62        59     5    64\n",
      "45        51     5    56\n",
      "63        60     4    64\n",
      "64        70     2    72\n",
      "0          9     0     9\n",
      "\n",
      "[74 rows x 3 columns]\n",
      "------------------------------------------------------------------------------------------------------------------------\n"
     ]
    },
    {
     "data": {
      "image/png": "[encoded data removed]",
      "text/plain": [
       "<Figure size 5616x360 with 1 Axes>"
      ]
     },
     "metadata": {
      "needs_background": "light"
     },
     "output_type": "display_data"
    }
   ],
   "source": [
    "stacked_barplot(df, 'Tenure', 'Churn')\n"
   ]
  },
  {
   "cell_type": "markdown",
   "metadata": {},
   "source": [
    "* In general, the share of churned customers among the tenures with few months is higher than for long-lasting tenures"
   ]
  },
  {
   "cell_type": "code",
   "execution_count": 46,
   "metadata": {},
   "outputs": [
    {
     "name": "stdout",
     "output_type": "stream",
     "text": [
      "Churn            No   Yes   All\n",
      "Phone_Service                  \n",
      "All            4784  1715  6499\n",
      "Yes            4323  1561  5884\n",
      "No              461   154   615\n",
      "------------------------------------------------------------------------------------------------------------------------\n"
     ]
    },
    {
     "data": {
      "image/png": "[encoded data removed]",
      "text/plain": [
       "<Figure size 504x360 with 1 Axes>"
      ]
     },
     "metadata": {
      "needs_background": "light"
     },
     "output_type": "display_data"
    }
   ],
   "source": [
    "stacked_barplot(df, 'Phone_Service', 'Churn')"
   ]
  },
  {
   "cell_type": "markdown",
   "metadata": {},
   "source": [
    "* The same proportion of churned customers exist among people having  a phone service and those who does not"
   ]
  },
  {
   "cell_type": "code",
   "execution_count": 47,
   "metadata": {},
   "outputs": [
    {
     "name": "stdout",
     "output_type": "stream",
     "text": [
      "Churn               No   Yes   All\n",
      "Multiple_Lines                    \n",
      "All               4784  1715  6499\n",
      "No                2352   786  3138\n",
      "Yes               1971   775  2746\n",
      "No phone service   461   154   615\n",
      "------------------------------------------------------------------------------------------------------------------------\n"
     ]
    },
    {
     "data": {
      "image/png": "[encoded data removed]",
      "text/plain": [
       "<Figure size 576x360 with 1 Axes>"
      ]
     },
     "metadata": {
      "needs_background": "light"
     },
     "output_type": "display_data"
    }
   ],
   "source": [
    "stacked_barplot(df, 'Multiple_Lines', 'Churn')"
   ]
  },
  {
   "cell_type": "markdown",
   "metadata": {},
   "source": [
    "* Approximately, the same proportions of churned customers is present (for the criterion of multiple lines)"
   ]
  },
  {
   "cell_type": "code",
   "execution_count": 48,
   "metadata": {},
   "outputs": [
    {
     "name": "stdout",
     "output_type": "stream",
     "text": [
      "Churn               No   Yes   All\n",
      "Internet_Service                  \n",
      "All               4784  1715  6499\n",
      "Fiber optic       1668  1192  2860\n",
      "DSL               1802   415  2217\n",
      "No                1314   108  1422\n",
      "------------------------------------------------------------------------------------------------------------------------\n"
     ]
    },
    {
     "data": {
      "image/png": "[encoded data removed]",
      "text/plain": [
       "<Figure size 576x360 with 1 Axes>"
      ]
     },
     "metadata": {
      "needs_background": "light"
     },
     "output_type": "display_data"
    }
   ],
   "source": [
    "stacked_barplot(df, 'Internet_Service', 'Churn') "
   ]
  },
  {
   "cell_type": "markdown",
   "metadata": {},
   "source": [
    "* There is a high proportion of churned customers for fiber optic (42%). For DSL users, only 19% of churned customers exist. For people who does not use internet service the churned customers repsent only 7.5%"
   ]
  },
  {
   "cell_type": "code",
   "execution_count": 49,
   "metadata": {},
   "outputs": [
    {
     "name": "stdout",
     "output_type": "stream",
     "text": [
      "Churn                  No   Yes   All\n",
      "Online_Security                      \n",
      "All                  4784  1715  6499\n",
      "No                   1872  1336  3208\n",
      "Yes                  1598   271  1869\n",
      "No internet service  1314   108  1422\n",
      "------------------------------------------------------------------------------------------------------------------------\n"
     ]
    },
    {
     "data": {
      "image/png": "[encoded data removed]",
      "text/plain": [
       "<Figure size 576x360 with 1 Axes>"
      ]
     },
     "metadata": {
      "needs_background": "light"
     },
     "output_type": "display_data"
    }
   ],
   "source": [
    "stacked_barplot(df, 'Online_Security', 'Churn') "
   ]
  },
  {
   "cell_type": "markdown",
   "metadata": {},
   "source": [
    "* Among customers who opted in for interner service, the share of churned clients is higher if there is no online security (42% against 14%)"
   ]
  },
  {
   "cell_type": "code",
   "execution_count": 50,
   "metadata": {},
   "outputs": [
    {
     "name": "stdout",
     "output_type": "stream",
     "text": [
      "Churn                  No   Yes   All\n",
      "Online_Backup                        \n",
      "All                  4784  1715  6499\n",
      "No                   1726  1129  2855\n",
      "Yes                  1744   478  2222\n",
      "No internet service  1314   108  1422\n",
      "------------------------------------------------------------------------------------------------------------------------\n"
     ]
    },
    {
     "data": {
      "image/png": "[encoded data removed]",
      "text/plain": [
       "<Figure size 576x360 with 1 Axes>"
      ]
     },
     "metadata": {
      "needs_background": "light"
     },
     "output_type": "display_data"
    }
   ],
   "source": [
    "stacked_barplot(df, 'Online_Backup', 'Churn') "
   ]
  },
  {
   "cell_type": "markdown",
   "metadata": {},
   "source": [
    "* Among customers who opted in for interner service, the share of churned clients is higher if there is no online backup (40% against 22%)"
   ]
  },
  {
   "cell_type": "code",
   "execution_count": 51,
   "metadata": {},
   "outputs": [
    {
     "name": "stdout",
     "output_type": "stream",
     "text": [
      "Churn                  No   Yes   All\n",
      "Device_Protection                    \n",
      "All                  4784  1715  6499\n",
      "No                   1738  1105  2843\n",
      "Yes                  1732   502  2234\n",
      "No internet service  1314   108  1422\n",
      "------------------------------------------------------------------------------------------------------------------------\n"
     ]
    },
    {
     "data": {
      "image/png": "[encoded data removed]",
      "text/plain": [
       "<Figure size 576x360 with 1 Axes>"
      ]
     },
     "metadata": {
      "needs_background": "light"
     },
     "output_type": "display_data"
    }
   ],
   "source": [
    "stacked_barplot(df, 'Device_Protection', 'Churn') "
   ]
  },
  {
   "cell_type": "markdown",
   "metadata": {},
   "source": [
    "* Among customers who opted in for interner service, the share of churned clients is higher if there is no a device protection (39% against 22%)"
   ]
  },
  {
   "cell_type": "code",
   "execution_count": 52,
   "metadata": {},
   "outputs": [
    {
     "name": "stdout",
     "output_type": "stream",
     "text": [
      "Churn                  No   Yes   All\n",
      "Tech_Support                         \n",
      "All                  4784  1715  6499\n",
      "No                   1880  1329  3209\n",
      "Yes                  1590   278  1868\n",
      "No internet service  1314   108  1422\n",
      "------------------------------------------------------------------------------------------------------------------------\n"
     ]
    },
    {
     "data": {
      "image/png": "[encoded data removed]",
      "text/plain": [
       "<Figure size 576x360 with 1 Axes>"
      ]
     },
     "metadata": {
      "needs_background": "light"
     },
     "output_type": "display_data"
    }
   ],
   "source": [
    "stacked_barplot(df, 'Tech_Support', 'Churn') "
   ]
  },
  {
   "cell_type": "markdown",
   "metadata": {},
   "source": [
    "* Among customers who opted in for interner service, the share of churned clients is higher if there is no a tech support (41% against 15%)"
   ]
  },
  {
   "cell_type": "code",
   "execution_count": 53,
   "metadata": {},
   "outputs": [
    {
     "name": "stdout",
     "output_type": "stream",
     "text": [
      "Churn                  No   Yes   All\n",
      "Streaming_TV                         \n",
      "All                  4784  1715  6499\n",
      "No                   1734   855  2589\n",
      "Yes                  1736   752  2488\n",
      "No internet service  1314   108  1422\n",
      "------------------------------------------------------------------------------------------------------------------------\n"
     ]
    },
    {
     "data": {
      "image/png": "[encoded data removed]",
      "text/plain": [
       "<Figure size 576x360 with 1 Axes>"
      ]
     },
     "metadata": {
      "needs_background": "light"
     },
     "output_type": "display_data"
    }
   ],
   "source": [
    "stacked_barplot(df, 'Streaming_TV', 'Churn') "
   ]
  },
  {
   "cell_type": "markdown",
   "metadata": {},
   "source": [
    "* There is no significant difference in churned customers for having or not streaming TV. In both group(yes/no) the share of churned customers is aproximately 33%"
   ]
  },
  {
   "cell_type": "code",
   "execution_count": 54,
   "metadata": {},
   "outputs": [
    {
     "name": "stdout",
     "output_type": "stream",
     "text": [
      "Churn                  No   Yes   All\n",
      "Streaming_Movies                     \n",
      "All                  4784  1715  6499\n",
      "No                   1702   853  2555\n",
      "Yes                  1768   754  2522\n",
      "No internet service  1314   108  1422\n",
      "------------------------------------------------------------------------------------------------------------------------\n"
     ]
    },
    {
     "data": {
      "image/png": "[encoded data removed]",
      "text/plain": [
       "<Figure size 576x360 with 1 Axes>"
      ]
     },
     "metadata": {
      "needs_background": "light"
     },
     "output_type": "display_data"
    }
   ],
   "source": [
    "stacked_barplot(df, 'Streaming_Movies', 'Churn') "
   ]
  },
  {
   "cell_type": "markdown",
   "metadata": {},
   "source": [
    "* There is no significant difference in churned customers for having or not streaming movies. In both group(yes/no) the share of churned customers is aproximately 33%"
   ]
  },
  {
   "cell_type": "code",
   "execution_count": 55,
   "metadata": {},
   "outputs": [
    {
     "name": "stdout",
     "output_type": "stream",
     "text": [
      "Churn             No   Yes   All\n",
      "Contract                        \n",
      "All             4784  1715  6499\n",
      "Month-to-month  2056  1520  3576\n",
      "One year        1206   152  1358\n",
      "Two year        1522    43  1565\n",
      "------------------------------------------------------------------------------------------------------------------------\n"
     ]
    },
    {
     "data": {
      "image/png": "[encoded data removed]",
      "text/plain": [
       "<Figure size 576x360 with 1 Axes>"
      ]
     },
     "metadata": {
      "needs_background": "light"
     },
     "output_type": "display_data"
    }
   ],
   "source": [
    "stacked_barplot(df, 'Contract', 'Churn') "
   ]
  },
  {
   "cell_type": "markdown",
   "metadata": {},
   "source": [
    "* The share of churned customers is much greated among customers having month-to-month contracts: 42.5 % against 11 % for 1-year contract and  3% for 2-year contracts"
   ]
  },
  {
   "cell_type": "code",
   "execution_count": 56,
   "metadata": {},
   "outputs": [
    {
     "name": "stdout",
     "output_type": "stream",
     "text": [
      "Churn                No   Yes   All\n",
      "Paperless_Billing                  \n",
      "All                4784  1715  6499\n",
      "Yes                2547  1289  3836\n",
      "No                 2237   426  2663\n",
      "------------------------------------------------------------------------------------------------------------------------\n"
     ]
    },
    {
     "data": {
      "image/png": "[encoded data removed]",
      "text/plain": [
       "<Figure size 504x360 with 1 Axes>"
      ]
     },
     "metadata": {
      "needs_background": "light"
     },
     "output_type": "display_data"
    }
   ],
   "source": [
    "stacked_barplot(df, 'Paperless_Billing', 'Churn') "
   ]
  },
  {
   "cell_type": "markdown",
   "metadata": {},
   "source": [
    "* The share of churned customers, using paperless billing is 2 times greater than among those who does not use it: 34% against 16% "
   ]
  },
  {
   "cell_type": "code",
   "execution_count": 57,
   "metadata": {},
   "outputs": [
    {
     "name": "stdout",
     "output_type": "stream",
     "text": [
      "Churn                        No   Yes   All\n",
      "Payment_Method                             \n",
      "All                        4784  1715  6499\n",
      "Electronic check           1194   988  2182\n",
      "Mailed check               1200   285  1485\n",
      "Bank transfer (automatic)  1192   234  1426\n",
      "Credit card (automatic)    1198   208  1406\n",
      "------------------------------------------------------------------------------------------------------------------------\n"
     ]
    },
    {
     "data": {
      "image/png": "[encoded data removed]",
      "text/plain": [
       "<Figure size 648x360 with 1 Axes>"
      ]
     },
     "metadata": {
      "needs_background": "light"
     },
     "output_type": "display_data"
    }
   ],
   "source": [
    "stacked_barplot(df, 'Payment_Method', 'Churn') "
   ]
  },
  {
   "cell_type": "markdown",
   "metadata": {},
   "source": [
    "* The share of churned customers, is the highest for electronic checks (45%) "
   ]
  },
  {
   "cell_type": "code",
   "execution_count": 58,
   "metadata": {},
   "outputs": [
    {
     "data": {
      "image/png": "[encoded data removed]",
      "text/plain": [
       "<Figure size 864x720 with 4 Axes>"
      ]
     },
     "metadata": {
      "needs_background": "light"
     },
     "output_type": "display_data"
    }
   ],
   "source": [
    "distribution_plot_wrt_target(df, 'Tenure', 'Churn')"
   ]
  },
  {
   "cell_type": "markdown",
   "metadata": {},
   "source": [
    "- On boxplots, we see that there is a distinct difference between churned customers and not-churned. For instance, the median tenure for non-churned customers is around 40 months and  the median tenure for churned is about 10 months.\n",
    "- Interquartile range for non-churned customers is much larger (between 15 months and 60 months) whereas for churned customer it is between 5 months and 30 months.\n",
    "- Distribution of tenure for each subgroup(churned or not churned) is distinct. It is clearly seen that the number of churned customers reduces as tenure increases (the right upper plot). The distribution of non-churned customers looks more like a bathtub curve (with a peaks at the beginning and at the end)"
   ]
  },
  {
   "cell_type": "code",
   "execution_count": 59,
   "metadata": {},
   "outputs": [
    {
     "data": {
      "image/png": "[encoded data removed]",
      "text/plain": [
       "<Figure size 864x720 with 4 Axes>"
      ]
     },
     "metadata": {
      "needs_background": "light"
     },
     "output_type": "display_data"
    }
   ],
   "source": [
    "distribution_plot_wrt_target(df, 'Monthly_Charges', 'Churn')"
   ]
  },
  {
   "cell_type": "markdown",
   "metadata": {},
   "source": [
    "* On boxplots, we see that medians of monthly charges among churned customers is greater than among non-churned customers (65 usd against 80 usd).Moreover, Interquatile interval of each group is also different. For non-churned customers IQR is between 25 and 90. For churned customers IQR is between 60 and 95. The same could be seen at distribution (churned vs non-churned customers). All these observations could mean that the people are leaving because of high monthly charges (as a hypothesis) \n",
    "\n"
   ]
  },
  {
   "cell_type": "code",
   "execution_count": 60,
   "metadata": {},
   "outputs": [
    {
     "data": {
      "image/png": "[encoded data removed]",
      "text/plain": [
       "<Figure size 864x720 with 4 Axes>"
      ]
     },
     "metadata": {
      "needs_background": "light"
     },
     "output_type": "display_data"
    }
   ],
   "source": [
    "distribution_plot_wrt_target(df, 'Total_Charges', 'Churn')"
   ]
  },
  {
   "cell_type": "markdown",
   "metadata": {},
   "source": [
    "* As a result (see our discussions above), churned customers do not contribute to total charges, which is seen from distributions (bars for churned customers are lower than for non-churned).  \n",
    "\n",
    "* So it seems increased monthly charges do NOT lead to increase of total charges because  customers leave due to (probably) more attrative offers from competitors"
   ]
  },
  {
   "cell_type": "markdown",
   "metadata": {
    "id": "ZdudVTJfrggW"
   },
   "source": [
    "## Answering business questions  "
   ]
  },
  {
   "cell_type": "markdown",
   "metadata": {
    "id": "MrtH6bcMqORf"
   },
   "source": [
    "##### [Q1] - Display a table to show the relationship between contracts and payment method and write down the observations."
   ]
  },
  {
   "cell_type": "code",
   "execution_count": 61,
   "metadata": {
    "id": "7pMyuBokqWEz"
   },
   "outputs": [
    {
     "data": {
      "text/html": [
       "<div>\n",
       "<style scoped>\n",
       "    .dataframe tbody tr th:only-of-type {\n",
       "        vertical-align: middle;\n",
       "    }\n",
       "\n",
       "    .dataframe tbody tr th {\n",
       "        vertical-align: top;\n",
       "    }\n",
       "\n",
       "    .dataframe thead th {\n",
       "        text-align: right;\n",
       "    }\n",
       "</style>\n",
       "<table border=\"1\" class=\"dataframe\">\n",
       "  <thead>\n",
       "    <tr style=\"text-align: right;\">\n",
       "      <th>Payment_Method</th>\n",
       "      <th>Bank transfer (automatic)</th>\n",
       "      <th>Credit card (automatic)</th>\n",
       "      <th>Electronic check</th>\n",
       "      <th>Mailed check</th>\n",
       "    </tr>\n",
       "    <tr>\n",
       "      <th>Contract</th>\n",
       "      <th></th>\n",
       "      <th></th>\n",
       "      <th></th>\n",
       "      <th></th>\n",
       "    </tr>\n",
       "  </thead>\n",
       "  <tbody>\n",
       "    <tr>\n",
       "      <th>Month-to-month</th>\n",
       "      <td>542</td>\n",
       "      <td>498</td>\n",
       "      <td>1707</td>\n",
       "      <td>829</td>\n",
       "    </tr>\n",
       "    <tr>\n",
       "      <th>One year</th>\n",
       "      <td>357</td>\n",
       "      <td>370</td>\n",
       "      <td>321</td>\n",
       "      <td>310</td>\n",
       "    </tr>\n",
       "    <tr>\n",
       "      <th>Two year</th>\n",
       "      <td>527</td>\n",
       "      <td>538</td>\n",
       "      <td>154</td>\n",
       "      <td>346</td>\n",
       "    </tr>\n",
       "  </tbody>\n",
       "</table>\n",
       "</div>"
      ],
      "text/plain": [
       "Payment_Method  Bank transfer (automatic)  Credit card (automatic)  \\\n",
       "Contract                                                             \n",
       "Month-to-month                        542                      498   \n",
       "One year                              357                      370   \n",
       "Two year                              527                      538   \n",
       "\n",
       "Payment_Method  Electronic check  Mailed check  \n",
       "Contract                                        \n",
       "Month-to-month              1707           829  \n",
       "One year                     321           310  \n",
       "Two year                     154           346  "
      ]
     },
     "execution_count": 61,
     "metadata": {},
     "output_type": "execute_result"
    }
   ],
   "source": [
    "# Using crosstab to find the answer\n",
    "pd.crosstab(index=df['Contract'],columns=df['Payment_Method'])\n"
   ]
  },
  {
   "cell_type": "markdown",
   "metadata": {},
   "source": [
    "* Bank transfers and credit cards are approximately equally distirbuted against contract types. \n",
    "\n",
    "* However, electronic check and mail check are rather associated to month-to month contracts"
   ]
  },
  {
   "cell_type": "markdown",
   "metadata": {
    "id": "4ldG_6XPqUdN"
   },
   "source": [
    "##### [Q2] - Display a table to show the relationship between payment and internet service and write down the observations."
   ]
  },
  {
   "cell_type": "code",
   "execution_count": 62,
   "metadata": {},
   "outputs": [
    {
     "data": {
      "text/html": [
       "<div>\n",
       "<style scoped>\n",
       "    .dataframe tbody tr th:only-of-type {\n",
       "        vertical-align: middle;\n",
       "    }\n",
       "\n",
       "    .dataframe tbody tr th {\n",
       "        vertical-align: top;\n",
       "    }\n",
       "\n",
       "    .dataframe thead th {\n",
       "        text-align: right;\n",
       "    }\n",
       "</style>\n",
       "<table border=\"1\" class=\"dataframe\">\n",
       "  <thead>\n",
       "    <tr style=\"text-align: right;\">\n",
       "      <th>Payment_Method</th>\n",
       "      <th>Bank transfer (automatic)</th>\n",
       "      <th>Credit card (automatic)</th>\n",
       "      <th>Electronic check</th>\n",
       "      <th>Mailed check</th>\n",
       "    </tr>\n",
       "    <tr>\n",
       "      <th>Internet_Service</th>\n",
       "      <th></th>\n",
       "      <th></th>\n",
       "      <th></th>\n",
       "      <th></th>\n",
       "    </tr>\n",
       "  </thead>\n",
       "  <tbody>\n",
       "    <tr>\n",
       "      <th>DSL</th>\n",
       "      <td>520</td>\n",
       "      <td>549</td>\n",
       "      <td>584</td>\n",
       "      <td>564</td>\n",
       "    </tr>\n",
       "    <tr>\n",
       "      <th>Fiber optic</th>\n",
       "      <td>594</td>\n",
       "      <td>553</td>\n",
       "      <td>1482</td>\n",
       "      <td>231</td>\n",
       "    </tr>\n",
       "    <tr>\n",
       "      <th>No</th>\n",
       "      <td>312</td>\n",
       "      <td>304</td>\n",
       "      <td>116</td>\n",
       "      <td>690</td>\n",
       "    </tr>\n",
       "  </tbody>\n",
       "</table>\n",
       "</div>"
      ],
      "text/plain": [
       "Payment_Method    Bank transfer (automatic)  Credit card (automatic)  \\\n",
       "Internet_Service                                                       \n",
       "DSL                                     520                      549   \n",
       "Fiber optic                             594                      553   \n",
       "No                                      312                      304   \n",
       "\n",
       "Payment_Method    Electronic check  Mailed check  \n",
       "Internet_Service                                  \n",
       "DSL                            584           564  \n",
       "Fiber optic                   1482           231  \n",
       "No                             116           690  "
      ]
     },
     "execution_count": 62,
     "metadata": {},
     "output_type": "execute_result"
    }
   ],
   "source": [
    "# Using crosstab to find the answer\n",
    "pd.crosstab(index=df['Internet_Service'],columns=df['Payment_Method'])\n"
   ]
  },
  {
   "cell_type": "markdown",
   "metadata": {},
   "source": [
    "* There is a high relationship between electronic check and Fiber optic and a small relationship between fiber optics and a mailed check\n",
    "\n",
    "* DSL uses are equally distributed against Payment_Method\n",
    "\n",
    "* People, not having internet service, prefer less an electronic check and more a mailed check  "
   ]
  },
  {
   "cell_type": "markdown",
   "metadata": {
    "id": "pbmlw3wCkoxi"
   },
   "source": [
    "##### [Q3] - Display a table to show the relationship between contracts and internet service and write down the observations.\n"
   ]
  },
  {
   "cell_type": "code",
   "execution_count": 63,
   "metadata": {
    "id": "OOXv_Zfejye2"
   },
   "outputs": [
    {
     "data": {
      "text/html": [
       "<div>\n",
       "<style scoped>\n",
       "    .dataframe tbody tr th:only-of-type {\n",
       "        vertical-align: middle;\n",
       "    }\n",
       "\n",
       "    .dataframe tbody tr th {\n",
       "        vertical-align: top;\n",
       "    }\n",
       "\n",
       "    .dataframe thead th {\n",
       "        text-align: right;\n",
       "    }\n",
       "</style>\n",
       "<table border=\"1\" class=\"dataframe\">\n",
       "  <thead>\n",
       "    <tr style=\"text-align: right;\">\n",
       "      <th>Internet_Service</th>\n",
       "      <th>DSL</th>\n",
       "      <th>Fiber optic</th>\n",
       "      <th>No</th>\n",
       "    </tr>\n",
       "    <tr>\n",
       "      <th>Contract</th>\n",
       "      <th></th>\n",
       "      <th></th>\n",
       "      <th></th>\n",
       "    </tr>\n",
       "  </thead>\n",
       "  <tbody>\n",
       "    <tr>\n",
       "      <th>Month-to-month</th>\n",
       "      <td>1121</td>\n",
       "      <td>1964</td>\n",
       "      <td>491</td>\n",
       "    </tr>\n",
       "    <tr>\n",
       "      <th>One year</th>\n",
       "      <td>518</td>\n",
       "      <td>494</td>\n",
       "      <td>346</td>\n",
       "    </tr>\n",
       "    <tr>\n",
       "      <th>Two year</th>\n",
       "      <td>578</td>\n",
       "      <td>402</td>\n",
       "      <td>585</td>\n",
       "    </tr>\n",
       "  </tbody>\n",
       "</table>\n",
       "</div>"
      ],
      "text/plain": [
       "Internet_Service   DSL  Fiber optic   No\n",
       "Contract                                \n",
       "Month-to-month    1121         1964  491\n",
       "One year           518          494  346\n",
       "Two year           578          402  585"
      ]
     },
     "execution_count": 63,
     "metadata": {},
     "output_type": "execute_result"
    }
   ],
   "source": [
    "# Using crosstab to find the answer\n",
    "pd.crosstab(index=df['Contract'],columns=df['Internet_Service'])\n"
   ]
  },
  {
   "cell_type": "markdown",
   "metadata": {},
   "source": [
    "* Most of customers, using internet services (either via DSL or Fiber optics), have month-to month contracts. Note that month-to-month contract in DSL group 2 times higher than one or two year contracts. For fiber optics, month-tomonth contracts are at least 4 times higher than long-term contracts "
   ]
  },
  {
   "cell_type": "markdown",
   "metadata": {
    "id": "dAy0TQgeq4jj"
   },
   "source": [
    "##### [Q4] - Are there any outliers in the numerical columns \n",
    "\n",
    "Hint: Write a code and check the percentile values of different columns"
   ]
  },
  {
   "cell_type": "code",
   "execution_count": 64,
   "metadata": {},
   "outputs": [
    {
     "data": {
      "text/html": [
       "<div>\n",
       "<style scoped>\n",
       "    .dataframe tbody tr th:only-of-type {\n",
       "        vertical-align: middle;\n",
       "    }\n",
       "\n",
       "    .dataframe tbody tr th {\n",
       "        vertical-align: top;\n",
       "    }\n",
       "\n",
       "    .dataframe thead th {\n",
       "        text-align: right;\n",
       "    }\n",
       "</style>\n",
       "<table border=\"1\" class=\"dataframe\">\n",
       "  <thead>\n",
       "    <tr style=\"text-align: right;\">\n",
       "      <th></th>\n",
       "      <th>Tenure</th>\n",
       "      <th>Monthly_Charges</th>\n",
       "      <th>Total_Charges</th>\n",
       "    </tr>\n",
       "  </thead>\n",
       "  <tbody>\n",
       "    <tr>\n",
       "      <th>0</th>\n",
       "      <td>1</td>\n",
       "      <td>29.85</td>\n",
       "      <td>29.85</td>\n",
       "    </tr>\n",
       "    <tr>\n",
       "      <th>1</th>\n",
       "      <td>34</td>\n",
       "      <td>56.95</td>\n",
       "      <td>1889.50</td>\n",
       "    </tr>\n",
       "    <tr>\n",
       "      <th>2</th>\n",
       "      <td>2</td>\n",
       "      <td>53.85</td>\n",
       "      <td>108.15</td>\n",
       "    </tr>\n",
       "    <tr>\n",
       "      <th>3</th>\n",
       "      <td>45</td>\n",
       "      <td>42.30</td>\n",
       "      <td>1840.75</td>\n",
       "    </tr>\n",
       "    <tr>\n",
       "      <th>4</th>\n",
       "      <td>2</td>\n",
       "      <td>70.70</td>\n",
       "      <td>151.65</td>\n",
       "    </tr>\n",
       "    <tr>\n",
       "      <th>...</th>\n",
       "      <td>...</td>\n",
       "      <td>...</td>\n",
       "      <td>...</td>\n",
       "    </tr>\n",
       "    <tr>\n",
       "      <th>6494</th>\n",
       "      <td>26</td>\n",
       "      <td>29.80</td>\n",
       "      <td>786.50</td>\n",
       "    </tr>\n",
       "    <tr>\n",
       "      <th>6495</th>\n",
       "      <td>1</td>\n",
       "      <td>69.65</td>\n",
       "      <td>69.65</td>\n",
       "    </tr>\n",
       "    <tr>\n",
       "      <th>6496</th>\n",
       "      <td>40</td>\n",
       "      <td>101.85</td>\n",
       "      <td>4086.30</td>\n",
       "    </tr>\n",
       "    <tr>\n",
       "      <th>6497</th>\n",
       "      <td>52</td>\n",
       "      <td>103.05</td>\n",
       "      <td>5364.80</td>\n",
       "    </tr>\n",
       "    <tr>\n",
       "      <th>6498</th>\n",
       "      <td>1</td>\n",
       "      <td>82.30</td>\n",
       "      <td>82.30</td>\n",
       "    </tr>\n",
       "  </tbody>\n",
       "</table>\n",
       "<p>6499 rows × 3 columns</p>\n",
       "</div>"
      ],
      "text/plain": [
       "      Tenure  Monthly_Charges  Total_Charges\n",
       "0          1            29.85          29.85\n",
       "1         34            56.95        1889.50\n",
       "2          2            53.85         108.15\n",
       "3         45            42.30        1840.75\n",
       "4          2            70.70         151.65\n",
       "...      ...              ...            ...\n",
       "6494      26            29.80         786.50\n",
       "6495       1            69.65          69.65\n",
       "6496      40           101.85        4086.30\n",
       "6497      52           103.05        5364.80\n",
       "6498       1            82.30          82.30\n",
       "\n",
       "[6499 rows x 3 columns]"
      ]
     },
     "execution_count": 64,
     "metadata": {},
     "output_type": "execute_result"
    }
   ],
   "source": [
    "# Created a copy of database\n",
    "df_numeric=df.copy()\n",
    "\n",
    "# Select only numeric columns \n",
    "df_numeric=df_numeric.select_dtypes(include=np.number)\n",
    "\n",
    "# Drop Gender and Senior citizen columns as they are rather categorical \n",
    "df_numeric.drop(columns=['Gender', 'Senior_Citizen'],inplace=True)\n",
    "\n",
    "# Show the dataset\n",
    "df_numeric"
   ]
  },
  {
   "cell_type": "code",
   "execution_count": 65,
   "metadata": {},
   "outputs": [],
   "source": [
    "# Create a list of columns \n",
    "list_of_columns=df_numeric.columns"
   ]
  },
  {
   "cell_type": "code",
   "execution_count": 66,
   "metadata": {
    "id": "LUnTOEnEq55r"
   },
   "outputs": [
    {
     "name": "stdout",
     "output_type": "stream",
     "text": [
      "Q1 for column \" Tenure \" is 9.0\n",
      "Q3 for column \" Tenure \" is 55.0\n",
      "Max for column \" Tenure \" is 72\n",
      "Min for column \" Tenure \" is 0\n",
      "IQR for column \" Tenure \" is  46.0\n",
      "Lower bound for column Tenure \" 0\n",
      "Upper bound for column Tenure \" 72\n",
      "Outliers for column Tenure \" Empty DataFrame\n",
      "Columns: [Tenure, Monthly_Charges, Total_Charges]\n",
      "Index: []\n",
      "----------------------------------------------\n",
      "Q1 for column \" Monthly_Charges \" is 35.4\n",
      "Q3 for column \" Monthly_Charges \" is 89.85\n",
      "Max for column \" Monthly_Charges \" is 118.75\n",
      "Min for column \" Monthly_Charges \" is 18.25\n",
      "IQR for column \" Monthly_Charges \" is  54.449999999999996\n",
      "Lower bound for column Monthly_Charges \" 18.25\n",
      "Upper bound for column Monthly_Charges \" 118.75\n",
      "Outliers for column Monthly_Charges \" Empty DataFrame\n",
      "Columns: [Tenure, Monthly_Charges, Total_Charges]\n",
      "Index: []\n",
      "----------------------------------------------\n",
      "Q1 for column \" Total_Charges \" is 399.8\n",
      "Q3 for column \" Total_Charges \" is 3778.1\n",
      "Max for column \" Total_Charges \" is 8684.8\n",
      "Min for column \" Total_Charges \" is 18.8\n",
      "IQR for column \" Total_Charges \" is  3378.2999999999997\n",
      "Lower bound for column Total_Charges \" 18.8\n",
      "Upper bound for column Total_Charges \" 8684.8\n",
      "Outliers for column Total_Charges \" Empty DataFrame\n",
      "Columns: [Tenure, Monthly_Charges, Total_Charges]\n",
      "Index: []\n",
      "----------------------------------------------\n"
     ]
    }
   ],
   "source": [
    "# Checking the outliers in each numerical column\n",
    "\n",
    "for column in list_of_columns:\n",
    "\n",
    "    # Findiing the borders of IQR\n",
    "    q1, q3= np.percentile(df_numeric[column],[25,75])\n",
    "    print('Q1 for column \"',column,'\" is', q1)\n",
    "    print('Q3 for column \"',column,'\" is', q3)\n",
    "    \n",
    "    # Finding the max and min\n",
    "    maximum=df_numeric[column].max()\n",
    "    minimum=df_numeric[column].min()\n",
    "    print('Max for column \"',column,'\" is', maximum)\n",
    "    print('Min for column \"',column,'\" is', minimum)\n",
    "    \n",
    "    # Finding IQR\n",
    "    iqr = q3 - q1\n",
    "    print('IQR for column \"',column,'\" is ',iqr)\n",
    "    \n",
    "    # Reminder: outlier is a datapoint outside of +-1.5*IQR from Q1 and Q3\n",
    "    # Finding the lower and upper bound of 1.5*IQR\n",
    "    lower_bound = q1 -(1.5 * iqr) \n",
    "    upper_bound = q3 +(1.5 * iqr)\n",
    "    \n",
    "    # Checking if min/max correspond to lower and upper bounds\n",
    "    if lower_bound<minimum:\n",
    "        lower_bound=minimum\n",
    "        \n",
    "    if upper_bound>maximum:\n",
    "        upper_bound=maximum\n",
    "    print('Lower bound for column',column,'\"',lower_bound)\n",
    "    print('Upper bound for column',column,'\"',upper_bound)\n",
    "    \n",
    "    # Find the outliers\n",
    "    outliers = df_numeric[((df_numeric[column]<lower_bound) | (df_numeric[column]>upper_bound))]\n",
    "    print('Outliers for column',column,'\"',outliers)\n",
    "    print('----------------------------------------------')\n",
    "    "
   ]
  },
  {
   "cell_type": "markdown",
   "metadata": {
    "id": "BvePOUukrMZZ"
   },
   "source": [
    "Observations"
   ]
  },
  {
   "cell_type": "markdown",
   "metadata": {
    "id": "_VB3K3DDLrtO"
   },
   "source": [
    "* According to IQR method, there are no outliers in the numeric columns of given dataset: outliers provide empty outputs"
   ]
  },
  {
   "cell_type": "markdown",
   "metadata": {
    "id": "xVqRGwX0rmk1"
   },
   "source": [
    "##### [Q5] -  What is the percentage of customers who cancelled their subscription?"
   ]
  },
  {
   "cell_type": "code",
   "execution_count": 67,
   "metadata": {
    "id": "XAU2C8BCq-e-"
   },
   "outputs": [
    {
     "data": {
      "text/plain": [
       "No     0.736113\n",
       "Yes    0.263887\n",
       "Name: Churn, dtype: float64"
      ]
     },
     "execution_count": 67,
     "metadata": {},
     "output_type": "execute_result"
    }
   ],
   "source": [
    "# Using value_counts to find the answer\n",
    "df.Churn.value_counts(normalize=True)"
   ]
  },
  {
   "cell_type": "markdown",
   "metadata": {},
   "source": [
    "* 26% of customers have cancelled their subscription"
   ]
  },
  {
   "cell_type": "markdown",
   "metadata": {
    "id": "2G55F8SEsDKC"
   },
   "source": [
    "##### [Q6] - What is the average monthly charge for different types of internet services?"
   ]
  },
  {
   "cell_type": "code",
   "execution_count": 68,
   "metadata": {
    "id": "FBzy7UNPsUCd"
   },
   "outputs": [
    {
     "data": {
      "text/plain": [
       "Internet_Service\n",
       "DSL            58.213938\n",
       "Fiber optic    91.483531\n",
       "No             21.096203\n",
       "Name: Monthly_Charges, dtype: float64"
      ]
     },
     "execution_count": 68,
     "metadata": {},
     "output_type": "execute_result"
    }
   ],
   "source": [
    "# Using groupby to find the answer\n",
    "df.groupby(['Internet_Service'])['Monthly_Charges'].mean()"
   ]
  },
  {
   "cell_type": "markdown",
   "metadata": {},
   "source": [
    "* In average, people, using fiber optics pay 91 usd per month. People, using DSl, pay 58 usd per month and those who does not have internet service pay 21 usd per month."
   ]
  },
  {
   "cell_type": "markdown",
   "metadata": {
    "id": "ItT8sOhisbGo"
   },
   "source": [
    "##### [Q7] - What is the total revenue for different Internet Services?"
   ]
  },
  {
   "cell_type": "code",
   "execution_count": 69,
   "metadata": {
    "id": "rjG0ZFQRsdBO"
   },
   "outputs": [
    {
     "data": {
      "text/plain": [
       "Internet_Service\n",
       "DSL            4712642.65\n",
       "Fiber optic    9167144.90\n",
       "No              949035.65\n",
       "Name: Total_Charges, dtype: float64"
      ]
     },
     "execution_count": 69,
     "metadata": {},
     "output_type": "execute_result"
    }
   ],
   "source": [
    "# Using groupby to find the answer\n",
    "df.groupby(['Internet_Service'])['Total_Charges'].sum()"
   ]
  },
  {
   "cell_type": "markdown",
   "metadata": {},
   "source": [
    "* Fiber optics ensures almost 2 times higher charges than DSL and 10 times higher than category without internet"
   ]
  },
  {
   "cell_type": "markdown",
   "metadata": {
    "id": "RyVkiR4c2vnX"
   },
   "source": [
    "##### [Q8] - What is the average tenure for different contracts?"
   ]
  },
  {
   "cell_type": "code",
   "execution_count": 70,
   "metadata": {
    "id": "mBHAzubh02lw"
   },
   "outputs": [
    {
     "data": {
      "text/plain": [
       "Contract\n",
       "Month-to-month    17.950224\n",
       "One year          41.874080\n",
       "Two year          57.068371\n",
       "Name: Tenure, dtype: float64"
      ]
     },
     "execution_count": 70,
     "metadata": {},
     "output_type": "execute_result"
    }
   ],
   "source": [
    "# Using groupby to find the answer\n",
    "df.groupby(['Contract'])['Tenure'].mean()"
   ]
  },
  {
   "cell_type": "markdown",
   "metadata": {},
   "source": [
    "* In average, month-to-month contracts have a tenure of 18 months. One-year contracts have a tenure of 41 months and Two-year contracts have a tenure of 57 months"
   ]
  },
  {
   "cell_type": "markdown",
   "metadata": {
    "id": "2-o9KLHq9Pra"
   },
   "source": [
    "##### [Q9] - What percentage of customers have online protection?"
   ]
  },
  {
   "cell_type": "code",
   "execution_count": 71,
   "metadata": {
    "id": "-fu8HRZ_9bZ1"
   },
   "outputs": [
    {
     "data": {
      "text/plain": [
       "No                     0.493614\n",
       "Yes                    0.287583\n",
       "No internet service    0.218803\n",
       "Name: Online_Security, dtype: float64"
      ]
     },
     "execution_count": 71,
     "metadata": {},
     "output_type": "execute_result"
    }
   ],
   "source": [
    "# Using value_counts to find the answer\n",
    "df.Online_Security.value_counts(normalize=True)\n"
   ]
  },
  {
   "cell_type": "markdown",
   "metadata": {},
   "source": [
    "Only 29 % of customers have online protection"
   ]
  },
  {
   "cell_type": "markdown",
   "metadata": {
    "id": "DcrR5L8eZHSl"
   },
   "source": [
    "##### [Q10] - Write a code to replace 'Yes' with 1 and 'No' with 0 in the Churn column."
   ]
  },
  {
   "cell_type": "code",
   "execution_count": 72,
   "metadata": {
    "id": "yt2GiwnOd3le"
   },
   "outputs": [
    {
     "data": {
      "text/plain": [
       "0       0\n",
       "1       0\n",
       "2       1\n",
       "3       0\n",
       "4       1\n",
       "       ..\n",
       "6494    0\n",
       "6495    1\n",
       "6496    1\n",
       "6497    0\n",
       "6498    1\n",
       "Name: Churn, Length: 6499, dtype: int64"
      ]
     },
     "execution_count": 72,
     "metadata": {},
     "output_type": "execute_result"
    }
   ],
   "source": [
    "# Replace Yes' with 1 and 'No' with 0\n",
    "df['Churn']=df['Churn'].replace({'Yes':1,'No':0})\n",
    "\n",
    "# Show the Churn column\n",
    "df['Churn']"
   ]
  },
  {
   "cell_type": "markdown",
   "metadata": {
    "id": "L6JUChpNCeHi"
   },
   "source": [
    "## Summary:\n"
   ]
  },
  {
   "cell_type": "markdown",
   "metadata": {
    "id": "XGO3FuWfCjMQ"
   },
   "source": [
    "26% of our customers churned! \n",
    "\n",
    "##### Preliminary profile of churned customers: \n",
    "EDA showed that the share of churned customers is greater among the customers using fiber optic and WITHOUT online protection and support sevices : online security, online backup, device protection and tech support. Churned customer share is high in paperless billing. Also, churned customers usually have month-to-month contracts and they pay by electronic checks. \n",
    "\n",
    "\n",
    "##### Hypothesis on the reasons (based on observations):\n",
    "It seems that the churned customers usually have higher monthly charges. For instance, medians of monthly charges among churned customers is 80 usd against 65 usd  among non-churned customer. The similar observations are based on IQR (boxplot body) and distributions plots. At the same time, the median tenure of churned customers is about 10 months (against 40 months for non-churned customers). So churned customer, even though having higher monthly charges, do not contribute significantly to total charges as these customers simply cancel the subscription early (distributions show that bars for churned customers are lower than for non-churned).  All these observations could mean (as a hypothesis) that the people are leaving because of high monthly charges. This should be verified in details "
   ]
  },
  {
   "cell_type": "markdown",
   "metadata": {
    "id": "pBRTJODoQWq9"
   },
   "source": [
    "### Now our EDA part is done. Export the data and use the exported data to be used in Milestone 2 for building machine learning models."
   ]
  },
  {
   "cell_type": "code",
   "execution_count": 73,
   "metadata": {
    "id": "C7GkbNqgT0pC"
   },
   "outputs": [],
   "source": [
    "# Export the dataset to be used for next milestone\n",
    "df.to_csv('A2Z_milestone_2_3_input.csv', index=False)"
   ]
  }
 ],
 "metadata": {
  "colab": {
   "collapsed_sections": [
    "dW21ub2pYB5C",
    "bGF_d3LvYInK",
    "zc4UkrW91EYy",
    "xju0o9341JI8",
    "-ohjud5D1RDJ",
    "HJ7Htf_2jqeP",
    "vaswDcbOkRBZ",
    "ZdudVTJfrggW",
    "MrtH6bcMqORf",
    "4ldG_6XPqUdN",
    "pbmlw3wCkoxi",
    "dAy0TQgeq4jj",
    "xVqRGwX0rmk1",
    "2G55F8SEsDKC",
    "ItT8sOhisbGo",
    "RyVkiR4c2vnX",
    "2-o9KLHq9Pra",
    "DcrR5L8eZHSl",
    "L6JUChpNCeHi",
    "pBRTJODoQWq9"
   ],
   "name": "A2Z_learner_notebook_m1.ipynb",
   "provenance": []
  },
  "kernelspec": {
   "display_name": "Python 3 (ipykernel)",
   "language": "python",
   "name": "python3"
  },
  "language_info": {
   "codemirror_mode": {
    "name": "ipython",
    "version": 3
   },
   "file_extension": ".py",
   "mimetype": "text/x-python",
   "name": "python",
   "nbconvert_exporter": "python",
   "pygments_lexer": "ipython3",
   "version": "3.9.7"
  }
 },
 "nbformat": 4,
 "nbformat_minor": 1
}
